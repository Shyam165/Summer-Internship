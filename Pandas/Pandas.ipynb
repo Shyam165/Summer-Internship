{
 "cells": [
  {
   "cell_type": "code",
   "execution_count": 1,
   "id": "9c4fd5ea",
   "metadata": {},
   "outputs": [],
   "source": [
    "import numpy as np\n",
    "import pandas as pd\n",
    "import matplotlib.pyplot as plt\n",
    "%matplotlib inline\n",
    "#Series -: 1D\n",
    "#Dataframes -: 2D\n",
    "#Penal -:3D"
   ]
  },
  {
   "cell_type": "code",
   "execution_count": 2,
   "id": "468c6bab",
   "metadata": {},
   "outputs": [
    {
     "name": "stdout",
     "output_type": "stream",
     "text": [
      "0    1\n",
      "1    2\n",
      "2    3\n",
      "3    4\n",
      "4    5\n",
      "dtype: int64\n"
     ]
    }
   ],
   "source": [
    "m=[1,2,3,4,5]\n",
    "marks=pd.Series(m)\n",
    "print(marks)  #gives default index"
   ]
  },
  {
   "cell_type": "code",
   "execution_count": 3,
   "id": "595c6204",
   "metadata": {},
   "outputs": [
    {
     "name": "stdout",
     "output_type": "stream",
     "text": [
      "A    1\n",
      "B    2\n",
      "C    3\n",
      "D    4\n",
      "dtype: int64\n",
      "1\n"
     ]
    }
   ],
   "source": [
    "marks=[1,2,3,4]\n",
    "name=['A', 'B', 'C', 'D']\n",
    "m=pd.Series(marks, index=name)\n",
    "print(m)\n",
    "\n",
    "print(m['A'])"
   ]
  },
  {
   "cell_type": "code",
   "execution_count": 4,
   "id": "7ecb5ade",
   "metadata": {},
   "outputs": [
    {
     "name": "stdout",
     "output_type": "stream",
     "text": [
      "    1   2   3   4   5\n",
      "A  23   3   4  45  45\n",
      "B  34  23  22  56  34\n"
     ]
    }
   ],
   "source": [
    "l1=[23,3,4,45,45]\n",
    "l2=[34,23,22,56,34]\n",
    "marks = pd.DataFrame([l1,l2], index=['A', 'B'], columns=[1,2,3,4,5])\n",
    "print(marks)"
   ]
  },
  {
   "cell_type": "code",
   "execution_count": 5,
   "id": "4f13416d",
   "metadata": {},
   "outputs": [
    {
     "data": {
      "text/html": [
       "<div>\n",
       "<style scoped>\n",
       "    .dataframe tbody tr th:only-of-type {\n",
       "        vertical-align: middle;\n",
       "    }\n",
       "\n",
       "    .dataframe tbody tr th {\n",
       "        vertical-align: top;\n",
       "    }\n",
       "\n",
       "    .dataframe thead th {\n",
       "        text-align: right;\n",
       "    }\n",
       "</style>\n",
       "<table border=\"1\" class=\"dataframe\">\n",
       "  <thead>\n",
       "    <tr style=\"text-align: right;\">\n",
       "      <th></th>\n",
       "      <th>Match_SK</th>\n",
       "      <th>match_id</th>\n",
       "      <th>Team1</th>\n",
       "      <th>Team2</th>\n",
       "      <th>match_date</th>\n",
       "      <th>Season_Year</th>\n",
       "      <th>Venue_Name</th>\n",
       "      <th>City_Name</th>\n",
       "      <th>Country_Name</th>\n",
       "      <th>Toss_Winner</th>\n",
       "      <th>match_winner</th>\n",
       "      <th>Toss_Name</th>\n",
       "      <th>Win_Type</th>\n",
       "      <th>Outcome_Type</th>\n",
       "      <th>ManOfMach</th>\n",
       "      <th>Win_Margin</th>\n",
       "      <th>Country_id</th>\n",
       "    </tr>\n",
       "  </thead>\n",
       "  <tbody>\n",
       "    <tr>\n",
       "      <th>0</th>\n",
       "      <td>546</td>\n",
       "      <td>980964</td>\n",
       "      <td>Royal Challengers Bangalore</td>\n",
       "      <td>Kolkata Knight Riders</td>\n",
       "      <td>5/2/2016</td>\n",
       "      <td>2016</td>\n",
       "      <td>M Chinnaswamy Stadium</td>\n",
       "      <td>Bangalore</td>\n",
       "      <td>India</td>\n",
       "      <td>Kolkata Knight Riders</td>\n",
       "      <td>Kolkata Knight Riders</td>\n",
       "      <td>field</td>\n",
       "      <td>wickets</td>\n",
       "      <td>Result</td>\n",
       "      <td>AD Russell</td>\n",
       "      <td>5.0</td>\n",
       "      <td>1</td>\n",
       "    </tr>\n",
       "    <tr>\n",
       "      <th>1</th>\n",
       "      <td>547</td>\n",
       "      <td>980966</td>\n",
       "      <td>Gujarat Lions</td>\n",
       "      <td>Delhi Daredevils</td>\n",
       "      <td>5/3/2016</td>\n",
       "      <td>2016</td>\n",
       "      <td>Saurashtra Cricket Association Stadium</td>\n",
       "      <td>Rajkot</td>\n",
       "      <td>India</td>\n",
       "      <td>Delhi Daredevils</td>\n",
       "      <td>Delhi Daredevils</td>\n",
       "      <td>field</td>\n",
       "      <td>wickets</td>\n",
       "      <td>Result</td>\n",
       "      <td>RR Pant</td>\n",
       "      <td>8.0</td>\n",
       "      <td>1</td>\n",
       "    </tr>\n",
       "    <tr>\n",
       "      <th>2</th>\n",
       "      <td>548</td>\n",
       "      <td>980968</td>\n",
       "      <td>Kolkata Knight Riders</td>\n",
       "      <td>Kings XI Punjab</td>\n",
       "      <td>5/4/2016</td>\n",
       "      <td>2016</td>\n",
       "      <td>Eden Gardens</td>\n",
       "      <td>Kolkata</td>\n",
       "      <td>India</td>\n",
       "      <td>Kings XI Punjab</td>\n",
       "      <td>Kolkata Knight Riders</td>\n",
       "      <td>field</td>\n",
       "      <td>runs</td>\n",
       "      <td>Result</td>\n",
       "      <td>AD Russell</td>\n",
       "      <td>7.0</td>\n",
       "      <td>1</td>\n",
       "    </tr>\n",
       "    <tr>\n",
       "      <th>3</th>\n",
       "      <td>549</td>\n",
       "      <td>980970</td>\n",
       "      <td>Delhi Daredevils</td>\n",
       "      <td>Rising Pune Supergiants</td>\n",
       "      <td>5/5/2016</td>\n",
       "      <td>2016</td>\n",
       "      <td>Feroz Shah Kotla</td>\n",
       "      <td>Delhi</td>\n",
       "      <td>India</td>\n",
       "      <td>Rising Pune Supergiants</td>\n",
       "      <td>Rising Pune Supergiants</td>\n",
       "      <td>field</td>\n",
       "      <td>wickets</td>\n",
       "      <td>Result</td>\n",
       "      <td>AM Rahane</td>\n",
       "      <td>7.0</td>\n",
       "      <td>1</td>\n",
       "    </tr>\n",
       "    <tr>\n",
       "      <th>4</th>\n",
       "      <td>550</td>\n",
       "      <td>980972</td>\n",
       "      <td>Sunrisers Hyderabad</td>\n",
       "      <td>Gujarat Lions</td>\n",
       "      <td>5/6/2016</td>\n",
       "      <td>2016</td>\n",
       "      <td>Rajiv Gandhi International Stadium, Uppal</td>\n",
       "      <td>Hyderabad</td>\n",
       "      <td>India</td>\n",
       "      <td>Sunrisers Hyderabad</td>\n",
       "      <td>Sunrisers Hyderabad</td>\n",
       "      <td>field</td>\n",
       "      <td>wickets</td>\n",
       "      <td>Result</td>\n",
       "      <td>B Kumar</td>\n",
       "      <td>5.0</td>\n",
       "      <td>1</td>\n",
       "    </tr>\n",
       "    <tr>\n",
       "      <th>...</th>\n",
       "      <td>...</td>\n",
       "      <td>...</td>\n",
       "      <td>...</td>\n",
       "      <td>...</td>\n",
       "      <td>...</td>\n",
       "      <td>...</td>\n",
       "      <td>...</td>\n",
       "      <td>...</td>\n",
       "      <td>...</td>\n",
       "      <td>...</td>\n",
       "      <td>...</td>\n",
       "      <td>...</td>\n",
       "      <td>...</td>\n",
       "      <td>...</td>\n",
       "      <td>...</td>\n",
       "      <td>...</td>\n",
       "      <td>...</td>\n",
       "    </tr>\n",
       "    <tr>\n",
       "      <th>632</th>\n",
       "      <td>541</td>\n",
       "      <td>980954</td>\n",
       "      <td>Rising Pune Supergiants</td>\n",
       "      <td>Gujarat Lions</td>\n",
       "      <td>4/29/2016</td>\n",
       "      <td>2016</td>\n",
       "      <td>Maharashtra Cricket Association Stadium</td>\n",
       "      <td>Pune</td>\n",
       "      <td>India</td>\n",
       "      <td>Gujarat Lions</td>\n",
       "      <td>Gujarat Lions</td>\n",
       "      <td>field</td>\n",
       "      <td>wickets</td>\n",
       "      <td>Result</td>\n",
       "      <td>DR Smith</td>\n",
       "      <td>3.0</td>\n",
       "      <td>1</td>\n",
       "    </tr>\n",
       "    <tr>\n",
       "      <th>633</th>\n",
       "      <td>542</td>\n",
       "      <td>980956</td>\n",
       "      <td>Delhi Daredevils</td>\n",
       "      <td>Kolkata Knight Riders</td>\n",
       "      <td>4/30/2016</td>\n",
       "      <td>2016</td>\n",
       "      <td>Feroz Shah Kotla</td>\n",
       "      <td>Delhi</td>\n",
       "      <td>India</td>\n",
       "      <td>Kolkata Knight Riders</td>\n",
       "      <td>Delhi Daredevils</td>\n",
       "      <td>field</td>\n",
       "      <td>runs</td>\n",
       "      <td>Result</td>\n",
       "      <td>CR Brathwaite</td>\n",
       "      <td>27.0</td>\n",
       "      <td>1</td>\n",
       "    </tr>\n",
       "    <tr>\n",
       "      <th>634</th>\n",
       "      <td>543</td>\n",
       "      <td>980958</td>\n",
       "      <td>Sunrisers Hyderabad</td>\n",
       "      <td>Royal Challengers Bangalore</td>\n",
       "      <td>4/30/2016</td>\n",
       "      <td>2016</td>\n",
       "      <td>Rajiv Gandhi International Stadium, Uppal</td>\n",
       "      <td>Hyderabad</td>\n",
       "      <td>India</td>\n",
       "      <td>Royal Challengers Bangalore</td>\n",
       "      <td>Sunrisers Hyderabad</td>\n",
       "      <td>field</td>\n",
       "      <td>runs</td>\n",
       "      <td>Result</td>\n",
       "      <td>DA Warner</td>\n",
       "      <td>15.0</td>\n",
       "      <td>1</td>\n",
       "    </tr>\n",
       "    <tr>\n",
       "      <th>635</th>\n",
       "      <td>544</td>\n",
       "      <td>980960</td>\n",
       "      <td>Gujarat Lions</td>\n",
       "      <td>Kings XI Punjab</td>\n",
       "      <td>5/1/2016</td>\n",
       "      <td>2016</td>\n",
       "      <td>Saurashtra Cricket Association Stadium</td>\n",
       "      <td>Rajkot</td>\n",
       "      <td>India</td>\n",
       "      <td>Gujarat Lions</td>\n",
       "      <td>Kings XI Punjab</td>\n",
       "      <td>field</td>\n",
       "      <td>runs</td>\n",
       "      <td>Result</td>\n",
       "      <td>AR Patel</td>\n",
       "      <td>23.0</td>\n",
       "      <td>1</td>\n",
       "    </tr>\n",
       "    <tr>\n",
       "      <th>636</th>\n",
       "      <td>545</td>\n",
       "      <td>980962</td>\n",
       "      <td>Rising Pune Supergiants</td>\n",
       "      <td>Mumbai Indians</td>\n",
       "      <td>5/1/2016</td>\n",
       "      <td>2016</td>\n",
       "      <td>Maharashtra Cricket Association Stadium</td>\n",
       "      <td>Pune</td>\n",
       "      <td>India</td>\n",
       "      <td>Mumbai Indians</td>\n",
       "      <td>Mumbai Indians</td>\n",
       "      <td>field</td>\n",
       "      <td>wickets</td>\n",
       "      <td>Result</td>\n",
       "      <td>RG Sharma</td>\n",
       "      <td>8.0</td>\n",
       "      <td>1</td>\n",
       "    </tr>\n",
       "  </tbody>\n",
       "</table>\n",
       "<p>637 rows × 17 columns</p>\n",
       "</div>"
      ],
      "text/plain": [
       "     Match_SK  match_id                        Team1  \\\n",
       "0         546    980964  Royal Challengers Bangalore   \n",
       "1         547    980966                Gujarat Lions   \n",
       "2         548    980968        Kolkata Knight Riders   \n",
       "3         549    980970             Delhi Daredevils   \n",
       "4         550    980972          Sunrisers Hyderabad   \n",
       "..        ...       ...                          ...   \n",
       "632       541    980954      Rising Pune Supergiants   \n",
       "633       542    980956             Delhi Daredevils   \n",
       "634       543    980958          Sunrisers Hyderabad   \n",
       "635       544    980960                Gujarat Lions   \n",
       "636       545    980962      Rising Pune Supergiants   \n",
       "\n",
       "                           Team2 match_date  Season_Year  \\\n",
       "0          Kolkata Knight Riders   5/2/2016         2016   \n",
       "1               Delhi Daredevils   5/3/2016         2016   \n",
       "2                Kings XI Punjab   5/4/2016         2016   \n",
       "3        Rising Pune Supergiants   5/5/2016         2016   \n",
       "4                  Gujarat Lions   5/6/2016         2016   \n",
       "..                           ...        ...          ...   \n",
       "632                Gujarat Lions  4/29/2016         2016   \n",
       "633        Kolkata Knight Riders  4/30/2016         2016   \n",
       "634  Royal Challengers Bangalore  4/30/2016         2016   \n",
       "635              Kings XI Punjab   5/1/2016         2016   \n",
       "636               Mumbai Indians   5/1/2016         2016   \n",
       "\n",
       "                                    Venue_Name  City_Name Country_Name  \\\n",
       "0                        M Chinnaswamy Stadium  Bangalore        India   \n",
       "1       Saurashtra Cricket Association Stadium     Rajkot        India   \n",
       "2                                 Eden Gardens    Kolkata        India   \n",
       "3                             Feroz Shah Kotla      Delhi        India   \n",
       "4    Rajiv Gandhi International Stadium, Uppal  Hyderabad        India   \n",
       "..                                         ...        ...          ...   \n",
       "632    Maharashtra Cricket Association Stadium       Pune        India   \n",
       "633                           Feroz Shah Kotla      Delhi        India   \n",
       "634  Rajiv Gandhi International Stadium, Uppal  Hyderabad        India   \n",
       "635     Saurashtra Cricket Association Stadium     Rajkot        India   \n",
       "636    Maharashtra Cricket Association Stadium       Pune        India   \n",
       "\n",
       "                     Toss_Winner             match_winner Toss_Name Win_Type  \\\n",
       "0          Kolkata Knight Riders    Kolkata Knight Riders     field  wickets   \n",
       "1               Delhi Daredevils         Delhi Daredevils     field  wickets   \n",
       "2                Kings XI Punjab    Kolkata Knight Riders     field     runs   \n",
       "3        Rising Pune Supergiants  Rising Pune Supergiants     field  wickets   \n",
       "4            Sunrisers Hyderabad      Sunrisers Hyderabad     field  wickets   \n",
       "..                           ...                      ...       ...      ...   \n",
       "632                Gujarat Lions            Gujarat Lions     field  wickets   \n",
       "633        Kolkata Knight Riders         Delhi Daredevils     field     runs   \n",
       "634  Royal Challengers Bangalore      Sunrisers Hyderabad     field     runs   \n",
       "635                Gujarat Lions          Kings XI Punjab     field     runs   \n",
       "636               Mumbai Indians           Mumbai Indians     field  wickets   \n",
       "\n",
       "    Outcome_Type      ManOfMach  Win_Margin  Country_id  \n",
       "0         Result     AD Russell         5.0           1  \n",
       "1         Result        RR Pant         8.0           1  \n",
       "2         Result     AD Russell         7.0           1  \n",
       "3         Result      AM Rahane         7.0           1  \n",
       "4         Result        B Kumar         5.0           1  \n",
       "..           ...            ...         ...         ...  \n",
       "632       Result       DR Smith         3.0           1  \n",
       "633       Result  CR Brathwaite        27.0           1  \n",
       "634       Result      DA Warner        15.0           1  \n",
       "635       Result       AR Patel        23.0           1  \n",
       "636       Result      RG Sharma         8.0           1  \n",
       "\n",
       "[637 rows x 17 columns]"
      ]
     },
     "execution_count": 5,
     "metadata": {},
     "output_type": "execute_result"
    }
   ],
   "source": [
    "data =  pd.read_csv(\"C:\\\\Users\\\\Shyam Singh\\\\Downloads\\\\DIM_MATCH.xlsx - Sheet1.csv\")\n",
    "data"
   ]
  },
  {
   "cell_type": "code",
   "execution_count": 6,
   "id": "f5fdd712",
   "metadata": {},
   "outputs": [
    {
     "name": "stdout",
     "output_type": "stream",
     "text": [
      "Royal Challengers Bangalore\n",
      "980964\n"
     ]
    }
   ],
   "source": [
    "d=data.loc[0,'Team1'] # for getting using original index\n",
    "e=data.iloc[0, 1]     # for getting only using normal indexes\n",
    "print(d)\n",
    "print(e)"
   ]
  },
  {
   "cell_type": "code",
   "execution_count": 7,
   "id": "e93ff691",
   "metadata": {},
   "outputs": [],
   "source": [
    "# data1=pd.read_excel(\"C:\\\\Users\\\\Shyam Singh\\\\Downloads\\\\SampleTemperature Sheet.xlsx\")\n",
    "# data1.head()"
   ]
  },
  {
   "cell_type": "code",
   "execution_count": 8,
   "id": "38983e63",
   "metadata": {},
   "outputs": [
    {
     "data": {
      "text/html": [
       "<div>\n",
       "<style scoped>\n",
       "    .dataframe tbody tr th:only-of-type {\n",
       "        vertical-align: middle;\n",
       "    }\n",
       "\n",
       "    .dataframe tbody tr th {\n",
       "        vertical-align: top;\n",
       "    }\n",
       "\n",
       "    .dataframe thead th {\n",
       "        text-align: right;\n",
       "    }\n",
       "</style>\n",
       "<table border=\"1\" class=\"dataframe\">\n",
       "  <thead>\n",
       "    <tr style=\"text-align: right;\">\n",
       "      <th></th>\n",
       "      <th>Date</th>\n",
       "      <th>Open</th>\n",
       "      <th>High</th>\n",
       "      <th>Low</th>\n",
       "      <th>Close</th>\n",
       "      <th>Volume</th>\n",
       "      <th>Adj Close</th>\n",
       "    </tr>\n",
       "  </thead>\n",
       "  <tbody>\n",
       "    <tr>\n",
       "      <th>0</th>\n",
       "      <td>2016-07-01</td>\n",
       "      <td>17924.240234</td>\n",
       "      <td>18002.380859</td>\n",
       "      <td>17916.910156</td>\n",
       "      <td>17949.369141</td>\n",
       "      <td>82160000</td>\n",
       "      <td>17949.369141</td>\n",
       "    </tr>\n",
       "    <tr>\n",
       "      <th>1</th>\n",
       "      <td>2016-06-30</td>\n",
       "      <td>17712.759766</td>\n",
       "      <td>17930.609375</td>\n",
       "      <td>17711.800781</td>\n",
       "      <td>17929.990234</td>\n",
       "      <td>133030000</td>\n",
       "      <td>17929.990234</td>\n",
       "    </tr>\n",
       "    <tr>\n",
       "      <th>2</th>\n",
       "      <td>2016-06-29</td>\n",
       "      <td>17456.019531</td>\n",
       "      <td>17704.509766</td>\n",
       "      <td>17456.019531</td>\n",
       "      <td>17694.679688</td>\n",
       "      <td>106380000</td>\n",
       "      <td>17694.679688</td>\n",
       "    </tr>\n",
       "    <tr>\n",
       "      <th>3</th>\n",
       "      <td>2016-06-28</td>\n",
       "      <td>17190.509766</td>\n",
       "      <td>17409.720703</td>\n",
       "      <td>17190.509766</td>\n",
       "      <td>17409.720703</td>\n",
       "      <td>112190000</td>\n",
       "      <td>17409.720703</td>\n",
       "    </tr>\n",
       "    <tr>\n",
       "      <th>4</th>\n",
       "      <td>2016-06-27</td>\n",
       "      <td>17355.210938</td>\n",
       "      <td>17355.210938</td>\n",
       "      <td>17063.080078</td>\n",
       "      <td>17140.240234</td>\n",
       "      <td>138740000</td>\n",
       "      <td>17140.240234</td>\n",
       "    </tr>\n",
       "    <tr>\n",
       "      <th>...</th>\n",
       "      <td>...</td>\n",
       "      <td>...</td>\n",
       "      <td>...</td>\n",
       "      <td>...</td>\n",
       "      <td>...</td>\n",
       "      <td>...</td>\n",
       "      <td>...</td>\n",
       "    </tr>\n",
       "    <tr>\n",
       "      <th>1984</th>\n",
       "      <td>2008-08-14</td>\n",
       "      <td>11532.070312</td>\n",
       "      <td>11718.280273</td>\n",
       "      <td>11450.889648</td>\n",
       "      <td>11615.929688</td>\n",
       "      <td>159790000</td>\n",
       "      <td>11615.929688</td>\n",
       "    </tr>\n",
       "    <tr>\n",
       "      <th>1985</th>\n",
       "      <td>2008-08-13</td>\n",
       "      <td>11632.809570</td>\n",
       "      <td>11633.780273</td>\n",
       "      <td>11453.339844</td>\n",
       "      <td>11532.959961</td>\n",
       "      <td>182550000</td>\n",
       "      <td>11532.959961</td>\n",
       "    </tr>\n",
       "    <tr>\n",
       "      <th>1986</th>\n",
       "      <td>2008-08-12</td>\n",
       "      <td>11781.700195</td>\n",
       "      <td>11782.349609</td>\n",
       "      <td>11601.519531</td>\n",
       "      <td>11642.469727</td>\n",
       "      <td>173590000</td>\n",
       "      <td>11642.469727</td>\n",
       "    </tr>\n",
       "    <tr>\n",
       "      <th>1987</th>\n",
       "      <td>2008-08-11</td>\n",
       "      <td>11729.669922</td>\n",
       "      <td>11867.110352</td>\n",
       "      <td>11675.530273</td>\n",
       "      <td>11782.349609</td>\n",
       "      <td>183190000</td>\n",
       "      <td>11782.349609</td>\n",
       "    </tr>\n",
       "    <tr>\n",
       "      <th>1988</th>\n",
       "      <td>2008-08-08</td>\n",
       "      <td>11432.089844</td>\n",
       "      <td>11759.959961</td>\n",
       "      <td>11388.040039</td>\n",
       "      <td>11734.320312</td>\n",
       "      <td>212830000</td>\n",
       "      <td>11734.320312</td>\n",
       "    </tr>\n",
       "  </tbody>\n",
       "</table>\n",
       "<p>1989 rows × 7 columns</p>\n",
       "</div>"
      ],
      "text/plain": [
       "            Date          Open          High           Low         Close  \\\n",
       "0     2016-07-01  17924.240234  18002.380859  17916.910156  17949.369141   \n",
       "1     2016-06-30  17712.759766  17930.609375  17711.800781  17929.990234   \n",
       "2     2016-06-29  17456.019531  17704.509766  17456.019531  17694.679688   \n",
       "3     2016-06-28  17190.509766  17409.720703  17190.509766  17409.720703   \n",
       "4     2016-06-27  17355.210938  17355.210938  17063.080078  17140.240234   \n",
       "...          ...           ...           ...           ...           ...   \n",
       "1984  2008-08-14  11532.070312  11718.280273  11450.889648  11615.929688   \n",
       "1985  2008-08-13  11632.809570  11633.780273  11453.339844  11532.959961   \n",
       "1986  2008-08-12  11781.700195  11782.349609  11601.519531  11642.469727   \n",
       "1987  2008-08-11  11729.669922  11867.110352  11675.530273  11782.349609   \n",
       "1988  2008-08-08  11432.089844  11759.959961  11388.040039  11734.320312   \n",
       "\n",
       "         Volume     Adj Close  \n",
       "0      82160000  17949.369141  \n",
       "1     133030000  17929.990234  \n",
       "2     106380000  17694.679688  \n",
       "3     112190000  17409.720703  \n",
       "4     138740000  17140.240234  \n",
       "...         ...           ...  \n",
       "1984  159790000  11615.929688  \n",
       "1985  182550000  11532.959961  \n",
       "1986  173590000  11642.469727  \n",
       "1987  183190000  11782.349609  \n",
       "1988  212830000  11734.320312  \n",
       "\n",
       "[1989 rows x 7 columns]"
      ]
     },
     "execution_count": 8,
     "metadata": {},
     "output_type": "execute_result"
    }
   ],
   "source": [
    "data=pd.read_csv(\"C:\\\\Users\\\\Shyam Singh\\\\Downloads\\\\DJIA_table.csv\")\n",
    "data"
   ]
  },
  {
   "cell_type": "code",
   "execution_count": 9,
   "id": "3d0a7873",
   "metadata": {},
   "outputs": [
    {
     "name": "stdout",
     "output_type": "stream",
     "text": [
      "<class 'pandas.core.frame.DataFrame'>\n",
      "RangeIndex: 1989 entries, 0 to 1988\n",
      "Data columns (total 7 columns):\n",
      " #   Column     Non-Null Count  Dtype  \n",
      "---  ------     --------------  -----  \n",
      " 0   Date       1989 non-null   object \n",
      " 1   Open       1989 non-null   float64\n",
      " 2   High       1989 non-null   float64\n",
      " 3   Low        1989 non-null   float64\n",
      " 4   Close      1989 non-null   float64\n",
      " 5   Volume     1989 non-null   int64  \n",
      " 6   Adj Close  1989 non-null   float64\n",
      "dtypes: float64(5), int64(1), object(1)\n",
      "memory usage: 108.9+ KB\n"
     ]
    }
   ],
   "source": [
    "data.info()  #meta data info."
   ]
  },
  {
   "cell_type": "code",
   "execution_count": 10,
   "id": "209577f2",
   "metadata": {},
   "outputs": [
    {
     "data": {
      "text/plain": [
       "(1989, 7)"
      ]
     },
     "execution_count": 10,
     "metadata": {},
     "output_type": "execute_result"
    }
   ],
   "source": [
    "data.shape"
   ]
  },
  {
   "cell_type": "code",
   "execution_count": 11,
   "id": "2fb5ff4a",
   "metadata": {},
   "outputs": [
    {
     "data": {
      "text/plain": [
       "RangeIndex(start=0, stop=1989, step=1)"
      ]
     },
     "execution_count": 11,
     "metadata": {},
     "output_type": "execute_result"
    }
   ],
   "source": [
    "data.index"
   ]
  },
  {
   "cell_type": "code",
   "execution_count": 12,
   "id": "2e11e4cd",
   "metadata": {},
   "outputs": [
    {
     "data": {
      "text/plain": [
       "Index(['Date', 'Open', 'High', 'Low', 'Close', 'Volume', 'Adj Close'], dtype='object')"
      ]
     },
     "execution_count": 12,
     "metadata": {},
     "output_type": "execute_result"
    }
   ],
   "source": [
    "data.columns"
   ]
  },
  {
   "cell_type": "code",
   "execution_count": 13,
   "id": "ce165730",
   "metadata": {},
   "outputs": [
    {
     "data": {
      "text/plain": [
       "Date         1989\n",
       "Open         1989\n",
       "High         1989\n",
       "Low          1989\n",
       "Close        1989\n",
       "Volume       1989\n",
       "Adj Close    1989\n",
       "dtype: int64"
      ]
     },
     "execution_count": 13,
     "metadata": {},
     "output_type": "execute_result"
    }
   ],
   "source": [
    "data.count()"
   ]
  },
  {
   "cell_type": "code",
   "execution_count": 14,
   "id": "6121e2d2",
   "metadata": {},
   "outputs": [
    {
     "data": {
      "text/plain": [
       "Date         2016-07-012016-06-302016-06-292016-06-282016-0...\n",
       "Open                                           26770181.820295\n",
       "High                                           26933652.010742\n",
       "Low                                            26598761.206535\n",
       "Close                                          26777971.154794\n",
       "Volume                                            323831020000\n",
       "Adj Close                                      26777971.154794\n",
       "dtype: object"
      ]
     },
     "execution_count": 14,
     "metadata": {},
     "output_type": "execute_result"
    }
   ],
   "source": [
    "data.sum()"
   ]
  },
  {
   "cell_type": "code",
   "execution_count": 15,
   "id": "8f35123c",
   "metadata": {},
   "outputs": [
    {
     "data": {
      "text/html": [
       "<div>\n",
       "<style scoped>\n",
       "    .dataframe tbody tr th:only-of-type {\n",
       "        vertical-align: middle;\n",
       "    }\n",
       "\n",
       "    .dataframe tbody tr th {\n",
       "        vertical-align: top;\n",
       "    }\n",
       "\n",
       "    .dataframe thead th {\n",
       "        text-align: right;\n",
       "    }\n",
       "</style>\n",
       "<table border=\"1\" class=\"dataframe\">\n",
       "  <thead>\n",
       "    <tr style=\"text-align: right;\">\n",
       "      <th></th>\n",
       "      <th>Date</th>\n",
       "      <th>Open</th>\n",
       "      <th>High</th>\n",
       "      <th>Low</th>\n",
       "      <th>Close</th>\n",
       "      <th>Volume</th>\n",
       "      <th>Adj Close</th>\n",
       "    </tr>\n",
       "  </thead>\n",
       "  <tbody>\n",
       "    <tr>\n",
       "      <th>0</th>\n",
       "      <td>2016-07-01</td>\n",
       "      <td>1.792424e+04</td>\n",
       "      <td>1.800238e+04</td>\n",
       "      <td>1.791691e+04</td>\n",
       "      <td>1.794937e+04</td>\n",
       "      <td>82160000</td>\n",
       "      <td>1.794937e+04</td>\n",
       "    </tr>\n",
       "    <tr>\n",
       "      <th>1</th>\n",
       "      <td>2016-07-012016-06-30</td>\n",
       "      <td>3.563700e+04</td>\n",
       "      <td>3.593299e+04</td>\n",
       "      <td>3.562871e+04</td>\n",
       "      <td>3.587936e+04</td>\n",
       "      <td>215190000</td>\n",
       "      <td>3.587936e+04</td>\n",
       "    </tr>\n",
       "    <tr>\n",
       "      <th>2</th>\n",
       "      <td>2016-07-012016-06-302016-06-29</td>\n",
       "      <td>5.309302e+04</td>\n",
       "      <td>5.363750e+04</td>\n",
       "      <td>5.308473e+04</td>\n",
       "      <td>5.357404e+04</td>\n",
       "      <td>321570000</td>\n",
       "      <td>5.357404e+04</td>\n",
       "    </tr>\n",
       "    <tr>\n",
       "      <th>3</th>\n",
       "      <td>2016-07-012016-06-302016-06-292016-06-28</td>\n",
       "      <td>7.028353e+04</td>\n",
       "      <td>7.104722e+04</td>\n",
       "      <td>7.027524e+04</td>\n",
       "      <td>7.098376e+04</td>\n",
       "      <td>433760000</td>\n",
       "      <td>7.098376e+04</td>\n",
       "    </tr>\n",
       "    <tr>\n",
       "      <th>4</th>\n",
       "      <td>2016-07-012016-06-302016-06-292016-06-282016-0...</td>\n",
       "      <td>8.763874e+04</td>\n",
       "      <td>8.840243e+04</td>\n",
       "      <td>8.733832e+04</td>\n",
       "      <td>8.812400e+04</td>\n",
       "      <td>572500000</td>\n",
       "      <td>8.812400e+04</td>\n",
       "    </tr>\n",
       "    <tr>\n",
       "      <th>...</th>\n",
       "      <td>...</td>\n",
       "      <td>...</td>\n",
       "      <td>...</td>\n",
       "      <td>...</td>\n",
       "      <td>...</td>\n",
       "      <td>...</td>\n",
       "      <td>...</td>\n",
       "    </tr>\n",
       "    <tr>\n",
       "      <th>1984</th>\n",
       "      <td>2016-07-012016-06-302016-06-292016-06-282016-0...</td>\n",
       "      <td>2.672361e+07</td>\n",
       "      <td>2.688661e+07</td>\n",
       "      <td>2.655264e+07</td>\n",
       "      <td>2.673128e+07</td>\n",
       "      <td>323078860000</td>\n",
       "      <td>2.673128e+07</td>\n",
       "    </tr>\n",
       "    <tr>\n",
       "      <th>1985</th>\n",
       "      <td>2016-07-012016-06-302016-06-292016-06-282016-0...</td>\n",
       "      <td>2.673524e+07</td>\n",
       "      <td>2.689824e+07</td>\n",
       "      <td>2.656410e+07</td>\n",
       "      <td>2.674281e+07</td>\n",
       "      <td>323261410000</td>\n",
       "      <td>2.674281e+07</td>\n",
       "    </tr>\n",
       "    <tr>\n",
       "      <th>1986</th>\n",
       "      <td>2016-07-012016-06-302016-06-292016-06-282016-0...</td>\n",
       "      <td>2.674702e+07</td>\n",
       "      <td>2.691002e+07</td>\n",
       "      <td>2.657570e+07</td>\n",
       "      <td>2.675445e+07</td>\n",
       "      <td>323435000000</td>\n",
       "      <td>2.675445e+07</td>\n",
       "    </tr>\n",
       "    <tr>\n",
       "      <th>1987</th>\n",
       "      <td>2016-07-012016-06-302016-06-292016-06-282016-0...</td>\n",
       "      <td>2.675875e+07</td>\n",
       "      <td>2.692189e+07</td>\n",
       "      <td>2.658737e+07</td>\n",
       "      <td>2.676624e+07</td>\n",
       "      <td>323618190000</td>\n",
       "      <td>2.676624e+07</td>\n",
       "    </tr>\n",
       "    <tr>\n",
       "      <th>1988</th>\n",
       "      <td>2016-07-012016-06-302016-06-292016-06-282016-0...</td>\n",
       "      <td>2.677018e+07</td>\n",
       "      <td>2.693365e+07</td>\n",
       "      <td>2.659876e+07</td>\n",
       "      <td>2.677797e+07</td>\n",
       "      <td>323831020000</td>\n",
       "      <td>2.677797e+07</td>\n",
       "    </tr>\n",
       "  </tbody>\n",
       "</table>\n",
       "<p>1989 rows × 7 columns</p>\n",
       "</div>"
      ],
      "text/plain": [
       "                                                   Date          Open  \\\n",
       "0                                            2016-07-01  1.792424e+04   \n",
       "1                                  2016-07-012016-06-30  3.563700e+04   \n",
       "2                        2016-07-012016-06-302016-06-29  5.309302e+04   \n",
       "3              2016-07-012016-06-302016-06-292016-06-28  7.028353e+04   \n",
       "4     2016-07-012016-06-302016-06-292016-06-282016-0...  8.763874e+04   \n",
       "...                                                 ...           ...   \n",
       "1984  2016-07-012016-06-302016-06-292016-06-282016-0...  2.672361e+07   \n",
       "1985  2016-07-012016-06-302016-06-292016-06-282016-0...  2.673524e+07   \n",
       "1986  2016-07-012016-06-302016-06-292016-06-282016-0...  2.674702e+07   \n",
       "1987  2016-07-012016-06-302016-06-292016-06-282016-0...  2.675875e+07   \n",
       "1988  2016-07-012016-06-302016-06-292016-06-282016-0...  2.677018e+07   \n",
       "\n",
       "              High           Low         Close        Volume     Adj Close  \n",
       "0     1.800238e+04  1.791691e+04  1.794937e+04      82160000  1.794937e+04  \n",
       "1     3.593299e+04  3.562871e+04  3.587936e+04     215190000  3.587936e+04  \n",
       "2     5.363750e+04  5.308473e+04  5.357404e+04     321570000  5.357404e+04  \n",
       "3     7.104722e+04  7.027524e+04  7.098376e+04     433760000  7.098376e+04  \n",
       "4     8.840243e+04  8.733832e+04  8.812400e+04     572500000  8.812400e+04  \n",
       "...            ...           ...           ...           ...           ...  \n",
       "1984  2.688661e+07  2.655264e+07  2.673128e+07  323078860000  2.673128e+07  \n",
       "1985  2.689824e+07  2.656410e+07  2.674281e+07  323261410000  2.674281e+07  \n",
       "1986  2.691002e+07  2.657570e+07  2.675445e+07  323435000000  2.675445e+07  \n",
       "1987  2.692189e+07  2.658737e+07  2.676624e+07  323618190000  2.676624e+07  \n",
       "1988  2.693365e+07  2.659876e+07  2.677797e+07  323831020000  2.677797e+07  \n",
       "\n",
       "[1989 rows x 7 columns]"
      ]
     },
     "execution_count": 15,
     "metadata": {},
     "output_type": "execute_result"
    }
   ],
   "source": [
    "data.cumsum()"
   ]
  },
  {
   "cell_type": "code",
   "execution_count": 16,
   "id": "a9101dfb",
   "metadata": {},
   "outputs": [
    {
     "name": "stderr",
     "output_type": "stream",
     "text": [
      "C:\\Users\\Shyam Singh\\AppData\\Local\\Temp\\ipykernel_18568\\531903386.py:1: FutureWarning: The default value of numeric_only in DataFrame.mean is deprecated. In a future version, it will default to False. In addition, specifying 'numeric_only=None' is deprecated. Select only valid columns or specify the value of numeric_only to silence this warning.\n",
      "  data.mean()\n"
     ]
    },
    {
     "data": {
      "text/plain": [
       "Open         1.345912e+04\n",
       "High         1.354130e+04\n",
       "Low          1.337293e+04\n",
       "Close        1.346303e+04\n",
       "Volume       1.628110e+08\n",
       "Adj Close    1.346303e+04\n",
       "dtype: float64"
      ]
     },
     "execution_count": 16,
     "metadata": {},
     "output_type": "execute_result"
    }
   ],
   "source": [
    "data.mean()"
   ]
  },
  {
   "cell_type": "code",
   "execution_count": 17,
   "id": "ac9ba59e",
   "metadata": {},
   "outputs": [
    {
     "data": {
      "text/plain": [
       "Date          2008-08-08\n",
       "Open         6547.009766\n",
       "High         6709.609863\n",
       "Low          6469.950195\n",
       "Close        6547.049805\n",
       "Volume           8410000\n",
       "Adj Close    6547.049805\n",
       "dtype: object"
      ]
     },
     "execution_count": 17,
     "metadata": {},
     "output_type": "execute_result"
    }
   ],
   "source": [
    "data.min()\n",
    "# data.max()"
   ]
  },
  {
   "cell_type": "code",
   "execution_count": 18,
   "id": "46534fd3",
   "metadata": {},
   "outputs": [
    {
     "data": {
      "text/html": [
       "<div>\n",
       "<style scoped>\n",
       "    .dataframe tbody tr th:only-of-type {\n",
       "        vertical-align: middle;\n",
       "    }\n",
       "\n",
       "    .dataframe tbody tr th {\n",
       "        vertical-align: top;\n",
       "    }\n",
       "\n",
       "    .dataframe thead th {\n",
       "        text-align: right;\n",
       "    }\n",
       "</style>\n",
       "<table border=\"1\" class=\"dataframe\">\n",
       "  <thead>\n",
       "    <tr style=\"text-align: right;\">\n",
       "      <th></th>\n",
       "      <th>count</th>\n",
       "      <th>mean</th>\n",
       "      <th>std</th>\n",
       "      <th>min</th>\n",
       "      <th>25%</th>\n",
       "      <th>50%</th>\n",
       "      <th>75%</th>\n",
       "      <th>max</th>\n",
       "    </tr>\n",
       "  </thead>\n",
       "  <tbody>\n",
       "    <tr>\n",
       "      <th>Open</th>\n",
       "      <td>1989.0</td>\n",
       "      <td>1.345912e+04</td>\n",
       "      <td>3.143282e+03</td>\n",
       "      <td>6.547010e+03</td>\n",
       "      <td>1.090734e+04</td>\n",
       "      <td>1.302205e+04</td>\n",
       "      <td>1.647770e+04</td>\n",
       "      <td>1.831506e+04</td>\n",
       "    </tr>\n",
       "    <tr>\n",
       "      <th>High</th>\n",
       "      <td>1989.0</td>\n",
       "      <td>1.354130e+04</td>\n",
       "      <td>3.136272e+03</td>\n",
       "      <td>6.709610e+03</td>\n",
       "      <td>1.100098e+04</td>\n",
       "      <td>1.308811e+04</td>\n",
       "      <td>1.655007e+04</td>\n",
       "      <td>1.835136e+04</td>\n",
       "    </tr>\n",
       "    <tr>\n",
       "      <th>Low</th>\n",
       "      <td>1989.0</td>\n",
       "      <td>1.337293e+04</td>\n",
       "      <td>3.150421e+03</td>\n",
       "      <td>6.469950e+03</td>\n",
       "      <td>1.082476e+04</td>\n",
       "      <td>1.295313e+04</td>\n",
       "      <td>1.639277e+04</td>\n",
       "      <td>1.827256e+04</td>\n",
       "    </tr>\n",
       "    <tr>\n",
       "      <th>Close</th>\n",
       "      <td>1989.0</td>\n",
       "      <td>1.346303e+04</td>\n",
       "      <td>3.144007e+03</td>\n",
       "      <td>6.547050e+03</td>\n",
       "      <td>1.091338e+04</td>\n",
       "      <td>1.302558e+04</td>\n",
       "      <td>1.647841e+04</td>\n",
       "      <td>1.831239e+04</td>\n",
       "    </tr>\n",
       "    <tr>\n",
       "      <th>Volume</th>\n",
       "      <td>1989.0</td>\n",
       "      <td>1.628110e+08</td>\n",
       "      <td>9.392343e+07</td>\n",
       "      <td>8.410000e+06</td>\n",
       "      <td>1.000000e+08</td>\n",
       "      <td>1.351700e+08</td>\n",
       "      <td>1.926000e+08</td>\n",
       "      <td>6.749200e+08</td>\n",
       "    </tr>\n",
       "    <tr>\n",
       "      <th>Adj Close</th>\n",
       "      <td>1989.0</td>\n",
       "      <td>1.346303e+04</td>\n",
       "      <td>3.144007e+03</td>\n",
       "      <td>6.547050e+03</td>\n",
       "      <td>1.091338e+04</td>\n",
       "      <td>1.302558e+04</td>\n",
       "      <td>1.647841e+04</td>\n",
       "      <td>1.831239e+04</td>\n",
       "    </tr>\n",
       "  </tbody>\n",
       "</table>\n",
       "</div>"
      ],
      "text/plain": [
       "            count          mean           std           min           25%  \\\n",
       "Open       1989.0  1.345912e+04  3.143282e+03  6.547010e+03  1.090734e+04   \n",
       "High       1989.0  1.354130e+04  3.136272e+03  6.709610e+03  1.100098e+04   \n",
       "Low        1989.0  1.337293e+04  3.150421e+03  6.469950e+03  1.082476e+04   \n",
       "Close      1989.0  1.346303e+04  3.144007e+03  6.547050e+03  1.091338e+04   \n",
       "Volume     1989.0  1.628110e+08  9.392343e+07  8.410000e+06  1.000000e+08   \n",
       "Adj Close  1989.0  1.346303e+04  3.144007e+03  6.547050e+03  1.091338e+04   \n",
       "\n",
       "                    50%           75%           max  \n",
       "Open       1.302205e+04  1.647770e+04  1.831506e+04  \n",
       "High       1.308811e+04  1.655007e+04  1.835136e+04  \n",
       "Low        1.295313e+04  1.639277e+04  1.827256e+04  \n",
       "Close      1.302558e+04  1.647841e+04  1.831239e+04  \n",
       "Volume     1.351700e+08  1.926000e+08  6.749200e+08  \n",
       "Adj Close  1.302558e+04  1.647841e+04  1.831239e+04  "
      ]
     },
     "execution_count": 18,
     "metadata": {},
     "output_type": "execute_result"
    }
   ],
   "source": [
    "# data.describe()  #show only for the numerical data type\n",
    "data.describe().T #transpose the data.describe"
   ]
  },
  {
   "cell_type": "code",
   "execution_count": 19,
   "id": "4f579701",
   "metadata": {},
   "outputs": [
    {
     "data": {
      "text/html": [
       "<div>\n",
       "<style scoped>\n",
       "    .dataframe tbody tr th:only-of-type {\n",
       "        vertical-align: middle;\n",
       "    }\n",
       "\n",
       "    .dataframe tbody tr th {\n",
       "        vertical-align: top;\n",
       "    }\n",
       "\n",
       "    .dataframe thead th {\n",
       "        text-align: right;\n",
       "    }\n",
       "</style>\n",
       "<table border=\"1\" class=\"dataframe\">\n",
       "  <thead>\n",
       "    <tr style=\"text-align: right;\">\n",
       "      <th></th>\n",
       "      <th>Date</th>\n",
       "      <th>Open</th>\n",
       "      <th>High</th>\n",
       "      <th>Low</th>\n",
       "      <th>Close</th>\n",
       "      <th>Volume</th>\n",
       "      <th>Adj Close</th>\n",
       "    </tr>\n",
       "  </thead>\n",
       "  <tbody>\n",
       "    <tr>\n",
       "      <th>0</th>\n",
       "      <td>2016-07-01</td>\n",
       "      <td>17924.240234</td>\n",
       "      <td>18002.380859</td>\n",
       "      <td>17916.910156</td>\n",
       "      <td>17949.369141</td>\n",
       "      <td>82160000</td>\n",
       "      <td>17949.369141</td>\n",
       "    </tr>\n",
       "    <tr>\n",
       "      <th>1</th>\n",
       "      <td>2016-06-30</td>\n",
       "      <td>17712.759766</td>\n",
       "      <td>17930.609375</td>\n",
       "      <td>17711.800781</td>\n",
       "      <td>17929.990234</td>\n",
       "      <td>133030000</td>\n",
       "      <td>17929.990234</td>\n",
       "    </tr>\n",
       "    <tr>\n",
       "      <th>2</th>\n",
       "      <td>2016-06-29</td>\n",
       "      <td>17456.019531</td>\n",
       "      <td>17704.509766</td>\n",
       "      <td>17456.019531</td>\n",
       "      <td>17694.679688</td>\n",
       "      <td>106380000</td>\n",
       "      <td>17694.679688</td>\n",
       "    </tr>\n",
       "    <tr>\n",
       "      <th>3</th>\n",
       "      <td>2016-06-28</td>\n",
       "      <td>17190.509766</td>\n",
       "      <td>17409.720703</td>\n",
       "      <td>17190.509766</td>\n",
       "      <td>17409.720703</td>\n",
       "      <td>112190000</td>\n",
       "      <td>17409.720703</td>\n",
       "    </tr>\n",
       "    <tr>\n",
       "      <th>4</th>\n",
       "      <td>2016-06-27</td>\n",
       "      <td>17355.210938</td>\n",
       "      <td>17355.210938</td>\n",
       "      <td>17063.080078</td>\n",
       "      <td>17140.240234</td>\n",
       "      <td>138740000</td>\n",
       "      <td>17140.240234</td>\n",
       "    </tr>\n",
       "    <tr>\n",
       "      <th>5</th>\n",
       "      <td>2016-06-24</td>\n",
       "      <td>17946.630859</td>\n",
       "      <td>17946.630859</td>\n",
       "      <td>17356.339844</td>\n",
       "      <td>17400.750000</td>\n",
       "      <td>239000000</td>\n",
       "      <td>17400.750000</td>\n",
       "    </tr>\n",
       "    <tr>\n",
       "      <th>6</th>\n",
       "      <td>2016-06-23</td>\n",
       "      <td>17844.109375</td>\n",
       "      <td>18011.070312</td>\n",
       "      <td>17844.109375</td>\n",
       "      <td>18011.070312</td>\n",
       "      <td>98070000</td>\n",
       "      <td>18011.070312</td>\n",
       "    </tr>\n",
       "    <tr>\n",
       "      <th>7</th>\n",
       "      <td>2016-06-22</td>\n",
       "      <td>17832.669922</td>\n",
       "      <td>17920.160156</td>\n",
       "      <td>17770.359375</td>\n",
       "      <td>17780.830078</td>\n",
       "      <td>89440000</td>\n",
       "      <td>17780.830078</td>\n",
       "    </tr>\n",
       "    <tr>\n",
       "      <th>8</th>\n",
       "      <td>2016-06-21</td>\n",
       "      <td>17827.330078</td>\n",
       "      <td>17877.839844</td>\n",
       "      <td>17799.800781</td>\n",
       "      <td>17829.730469</td>\n",
       "      <td>85130000</td>\n",
       "      <td>17829.730469</td>\n",
       "    </tr>\n",
       "    <tr>\n",
       "      <th>9</th>\n",
       "      <td>2016-06-20</td>\n",
       "      <td>17736.869141</td>\n",
       "      <td>17946.359375</td>\n",
       "      <td>17736.869141</td>\n",
       "      <td>17804.869141</td>\n",
       "      <td>99380000</td>\n",
       "      <td>17804.869141</td>\n",
       "    </tr>\n",
       "  </tbody>\n",
       "</table>\n",
       "</div>"
      ],
      "text/plain": [
       "         Date          Open          High           Low         Close  \\\n",
       "0  2016-07-01  17924.240234  18002.380859  17916.910156  17949.369141   \n",
       "1  2016-06-30  17712.759766  17930.609375  17711.800781  17929.990234   \n",
       "2  2016-06-29  17456.019531  17704.509766  17456.019531  17694.679688   \n",
       "3  2016-06-28  17190.509766  17409.720703  17190.509766  17409.720703   \n",
       "4  2016-06-27  17355.210938  17355.210938  17063.080078  17140.240234   \n",
       "5  2016-06-24  17946.630859  17946.630859  17356.339844  17400.750000   \n",
       "6  2016-06-23  17844.109375  18011.070312  17844.109375  18011.070312   \n",
       "7  2016-06-22  17832.669922  17920.160156  17770.359375  17780.830078   \n",
       "8  2016-06-21  17827.330078  17877.839844  17799.800781  17829.730469   \n",
       "9  2016-06-20  17736.869141  17946.359375  17736.869141  17804.869141   \n",
       "\n",
       "      Volume     Adj Close  \n",
       "0   82160000  17949.369141  \n",
       "1  133030000  17929.990234  \n",
       "2  106380000  17694.679688  \n",
       "3  112190000  17409.720703  \n",
       "4  138740000  17140.240234  \n",
       "5  239000000  17400.750000  \n",
       "6   98070000  18011.070312  \n",
       "7   89440000  17780.830078  \n",
       "8   85130000  17829.730469  \n",
       "9   99380000  17804.869141  "
      ]
     },
     "execution_count": 19,
     "metadata": {},
     "output_type": "execute_result"
    }
   ],
   "source": [
    "data.head(10)  #gives top 10 values"
   ]
  },
  {
   "cell_type": "code",
   "execution_count": 20,
   "id": "b803ce59",
   "metadata": {},
   "outputs": [
    {
     "data": {
      "text/html": [
       "<div>\n",
       "<style scoped>\n",
       "    .dataframe tbody tr th:only-of-type {\n",
       "        vertical-align: middle;\n",
       "    }\n",
       "\n",
       "    .dataframe tbody tr th {\n",
       "        vertical-align: top;\n",
       "    }\n",
       "\n",
       "    .dataframe thead th {\n",
       "        text-align: right;\n",
       "    }\n",
       "</style>\n",
       "<table border=\"1\" class=\"dataframe\">\n",
       "  <thead>\n",
       "    <tr style=\"text-align: right;\">\n",
       "      <th></th>\n",
       "      <th>Date</th>\n",
       "      <th>Open</th>\n",
       "      <th>High</th>\n",
       "      <th>Low</th>\n",
       "      <th>Close</th>\n",
       "      <th>Volume</th>\n",
       "      <th>Adj Close</th>\n",
       "    </tr>\n",
       "  </thead>\n",
       "  <tbody>\n",
       "    <tr>\n",
       "      <th>1979</th>\n",
       "      <td>2008-08-21</td>\n",
       "      <td>11415.230469</td>\n",
       "      <td>11476.209961</td>\n",
       "      <td>11315.570312</td>\n",
       "      <td>11430.209961</td>\n",
       "      <td>130020000</td>\n",
       "      <td>11430.209961</td>\n",
       "    </tr>\n",
       "    <tr>\n",
       "      <th>1980</th>\n",
       "      <td>2008-08-20</td>\n",
       "      <td>11345.940430</td>\n",
       "      <td>11454.150391</td>\n",
       "      <td>11290.580078</td>\n",
       "      <td>11417.429688</td>\n",
       "      <td>144880000</td>\n",
       "      <td>11417.429688</td>\n",
       "    </tr>\n",
       "    <tr>\n",
       "      <th>1981</th>\n",
       "      <td>2008-08-19</td>\n",
       "      <td>11478.089844</td>\n",
       "      <td>11478.169922</td>\n",
       "      <td>11318.500000</td>\n",
       "      <td>11348.549805</td>\n",
       "      <td>171580000</td>\n",
       "      <td>11348.549805</td>\n",
       "    </tr>\n",
       "    <tr>\n",
       "      <th>1982</th>\n",
       "      <td>2008-08-18</td>\n",
       "      <td>11659.650391</td>\n",
       "      <td>11690.429688</td>\n",
       "      <td>11434.120117</td>\n",
       "      <td>11479.389648</td>\n",
       "      <td>156290000</td>\n",
       "      <td>11479.389648</td>\n",
       "    </tr>\n",
       "    <tr>\n",
       "      <th>1983</th>\n",
       "      <td>2008-08-15</td>\n",
       "      <td>11611.209961</td>\n",
       "      <td>11709.889648</td>\n",
       "      <td>11599.730469</td>\n",
       "      <td>11659.900391</td>\n",
       "      <td>215040000</td>\n",
       "      <td>11659.900391</td>\n",
       "    </tr>\n",
       "    <tr>\n",
       "      <th>1984</th>\n",
       "      <td>2008-08-14</td>\n",
       "      <td>11532.070312</td>\n",
       "      <td>11718.280273</td>\n",
       "      <td>11450.889648</td>\n",
       "      <td>11615.929688</td>\n",
       "      <td>159790000</td>\n",
       "      <td>11615.929688</td>\n",
       "    </tr>\n",
       "    <tr>\n",
       "      <th>1985</th>\n",
       "      <td>2008-08-13</td>\n",
       "      <td>11632.809570</td>\n",
       "      <td>11633.780273</td>\n",
       "      <td>11453.339844</td>\n",
       "      <td>11532.959961</td>\n",
       "      <td>182550000</td>\n",
       "      <td>11532.959961</td>\n",
       "    </tr>\n",
       "    <tr>\n",
       "      <th>1986</th>\n",
       "      <td>2008-08-12</td>\n",
       "      <td>11781.700195</td>\n",
       "      <td>11782.349609</td>\n",
       "      <td>11601.519531</td>\n",
       "      <td>11642.469727</td>\n",
       "      <td>173590000</td>\n",
       "      <td>11642.469727</td>\n",
       "    </tr>\n",
       "    <tr>\n",
       "      <th>1987</th>\n",
       "      <td>2008-08-11</td>\n",
       "      <td>11729.669922</td>\n",
       "      <td>11867.110352</td>\n",
       "      <td>11675.530273</td>\n",
       "      <td>11782.349609</td>\n",
       "      <td>183190000</td>\n",
       "      <td>11782.349609</td>\n",
       "    </tr>\n",
       "    <tr>\n",
       "      <th>1988</th>\n",
       "      <td>2008-08-08</td>\n",
       "      <td>11432.089844</td>\n",
       "      <td>11759.959961</td>\n",
       "      <td>11388.040039</td>\n",
       "      <td>11734.320312</td>\n",
       "      <td>212830000</td>\n",
       "      <td>11734.320312</td>\n",
       "    </tr>\n",
       "  </tbody>\n",
       "</table>\n",
       "</div>"
      ],
      "text/plain": [
       "            Date          Open          High           Low         Close  \\\n",
       "1979  2008-08-21  11415.230469  11476.209961  11315.570312  11430.209961   \n",
       "1980  2008-08-20  11345.940430  11454.150391  11290.580078  11417.429688   \n",
       "1981  2008-08-19  11478.089844  11478.169922  11318.500000  11348.549805   \n",
       "1982  2008-08-18  11659.650391  11690.429688  11434.120117  11479.389648   \n",
       "1983  2008-08-15  11611.209961  11709.889648  11599.730469  11659.900391   \n",
       "1984  2008-08-14  11532.070312  11718.280273  11450.889648  11615.929688   \n",
       "1985  2008-08-13  11632.809570  11633.780273  11453.339844  11532.959961   \n",
       "1986  2008-08-12  11781.700195  11782.349609  11601.519531  11642.469727   \n",
       "1987  2008-08-11  11729.669922  11867.110352  11675.530273  11782.349609   \n",
       "1988  2008-08-08  11432.089844  11759.959961  11388.040039  11734.320312   \n",
       "\n",
       "         Volume     Adj Close  \n",
       "1979  130020000  11430.209961  \n",
       "1980  144880000  11417.429688  \n",
       "1981  171580000  11348.549805  \n",
       "1982  156290000  11479.389648  \n",
       "1983  215040000  11659.900391  \n",
       "1984  159790000  11615.929688  \n",
       "1985  182550000  11532.959961  \n",
       "1986  173590000  11642.469727  \n",
       "1987  183190000  11782.349609  \n",
       "1988  212830000  11734.320312  "
      ]
     },
     "execution_count": 20,
     "metadata": {},
     "output_type": "execute_result"
    }
   ],
   "source": [
    "data.tail(10)"
   ]
  },
  {
   "cell_type": "code",
   "execution_count": 21,
   "id": "eecffa5b",
   "metadata": {},
   "outputs": [
    {
     "data": {
      "text/html": [
       "<div>\n",
       "<style scoped>\n",
       "    .dataframe tbody tr th:only-of-type {\n",
       "        vertical-align: middle;\n",
       "    }\n",
       "\n",
       "    .dataframe tbody tr th {\n",
       "        vertical-align: top;\n",
       "    }\n",
       "\n",
       "    .dataframe thead th {\n",
       "        text-align: right;\n",
       "    }\n",
       "</style>\n",
       "<table border=\"1\" class=\"dataframe\">\n",
       "  <thead>\n",
       "    <tr style=\"text-align: right;\">\n",
       "      <th></th>\n",
       "      <th>Volume</th>\n",
       "    </tr>\n",
       "  </thead>\n",
       "  <tbody>\n",
       "    <tr>\n",
       "      <th>count</th>\n",
       "      <td>1.989000e+03</td>\n",
       "    </tr>\n",
       "    <tr>\n",
       "      <th>mean</th>\n",
       "      <td>1.628110e+08</td>\n",
       "    </tr>\n",
       "    <tr>\n",
       "      <th>std</th>\n",
       "      <td>9.392343e+07</td>\n",
       "    </tr>\n",
       "    <tr>\n",
       "      <th>min</th>\n",
       "      <td>8.410000e+06</td>\n",
       "    </tr>\n",
       "    <tr>\n",
       "      <th>20%</th>\n",
       "      <td>9.293800e+07</td>\n",
       "    </tr>\n",
       "    <tr>\n",
       "      <th>40%</th>\n",
       "      <td>1.198180e+08</td>\n",
       "    </tr>\n",
       "    <tr>\n",
       "      <th>50%</th>\n",
       "      <td>1.351700e+08</td>\n",
       "    </tr>\n",
       "    <tr>\n",
       "      <th>60%</th>\n",
       "      <td>1.539340e+08</td>\n",
       "    </tr>\n",
       "    <tr>\n",
       "      <th>max</th>\n",
       "      <td>6.749200e+08</td>\n",
       "    </tr>\n",
       "  </tbody>\n",
       "</table>\n",
       "</div>"
      ],
      "text/plain": [
       "             Volume\n",
       "count  1.989000e+03\n",
       "mean   1.628110e+08\n",
       "std    9.392343e+07\n",
       "min    8.410000e+06\n",
       "20%    9.293800e+07\n",
       "40%    1.198180e+08\n",
       "50%    1.351700e+08\n",
       "60%    1.539340e+08\n",
       "max    6.749200e+08"
      ]
     },
     "execution_count": 21,
     "metadata": {},
     "output_type": "execute_result"
    }
   ],
   "source": [
    "data.describe(include=[int], percentiles=[0.2, 0.4, 0.6])"
   ]
  },
  {
   "cell_type": "code",
   "execution_count": 22,
   "id": "7002cc28",
   "metadata": {},
   "outputs": [
    {
     "name": "stderr",
     "output_type": "stream",
     "text": [
      "C:\\Users\\Shyam Singh\\AppData\\Local\\Temp\\ipykernel_18568\\531903386.py:1: FutureWarning: The default value of numeric_only in DataFrame.mean is deprecated. In a future version, it will default to False. In addition, specifying 'numeric_only=None' is deprecated. Select only valid columns or specify the value of numeric_only to silence this warning.\n",
      "  data.mean()\n"
     ]
    },
    {
     "data": {
      "text/plain": [
       "Open         1.345912e+04\n",
       "High         1.354130e+04\n",
       "Low          1.337293e+04\n",
       "Close        1.346303e+04\n",
       "Volume       1.628110e+08\n",
       "Adj Close    1.346303e+04\n",
       "dtype: float64"
      ]
     },
     "execution_count": 22,
     "metadata": {},
     "output_type": "execute_result"
    }
   ],
   "source": [
    "data.mean()"
   ]
  },
  {
   "cell_type": "code",
   "execution_count": 23,
   "id": "4343d1f8",
   "metadata": {},
   "outputs": [
    {
     "data": {
      "text/html": [
       "<div>\n",
       "<style scoped>\n",
       "    .dataframe tbody tr th:only-of-type {\n",
       "        vertical-align: middle;\n",
       "    }\n",
       "\n",
       "    .dataframe tbody tr th {\n",
       "        vertical-align: top;\n",
       "    }\n",
       "\n",
       "    .dataframe thead th {\n",
       "        text-align: right;\n",
       "    }\n",
       "</style>\n",
       "<table border=\"1\" class=\"dataframe\">\n",
       "  <thead>\n",
       "    <tr style=\"text-align: right;\">\n",
       "      <th></th>\n",
       "      <th>Volume</th>\n",
       "    </tr>\n",
       "  </thead>\n",
       "  <tbody>\n",
       "    <tr>\n",
       "      <th>count</th>\n",
       "      <td>1.989000e+03</td>\n",
       "    </tr>\n",
       "    <tr>\n",
       "      <th>mean</th>\n",
       "      <td>1.628110e+08</td>\n",
       "    </tr>\n",
       "    <tr>\n",
       "      <th>std</th>\n",
       "      <td>9.392343e+07</td>\n",
       "    </tr>\n",
       "    <tr>\n",
       "      <th>min</th>\n",
       "      <td>8.410000e+06</td>\n",
       "    </tr>\n",
       "    <tr>\n",
       "      <th>20%</th>\n",
       "      <td>9.293800e+07</td>\n",
       "    </tr>\n",
       "    <tr>\n",
       "      <th>40%</th>\n",
       "      <td>1.198180e+08</td>\n",
       "    </tr>\n",
       "    <tr>\n",
       "      <th>50%</th>\n",
       "      <td>1.351700e+08</td>\n",
       "    </tr>\n",
       "    <tr>\n",
       "      <th>60%</th>\n",
       "      <td>1.539340e+08</td>\n",
       "    </tr>\n",
       "    <tr>\n",
       "      <th>max</th>\n",
       "      <td>6.749200e+08</td>\n",
       "    </tr>\n",
       "  </tbody>\n",
       "</table>\n",
       "</div>"
      ],
      "text/plain": [
       "             Volume\n",
       "count  1.989000e+03\n",
       "mean   1.628110e+08\n",
       "std    9.392343e+07\n",
       "min    8.410000e+06\n",
       "20%    9.293800e+07\n",
       "40%    1.198180e+08\n",
       "50%    1.351700e+08\n",
       "60%    1.539340e+08\n",
       "max    6.749200e+08"
      ]
     },
     "execution_count": 23,
     "metadata": {},
     "output_type": "execute_result"
    }
   ],
   "source": [
    "data.describe(include=[int], percentiles=[0.2, 0.4, 0.6])"
   ]
  },
  {
   "cell_type": "code",
   "execution_count": 24,
   "id": "66d3ec69",
   "metadata": {},
   "outputs": [
    {
     "data": {
      "text/plain": [
       "Date         0\n",
       "Open         0\n",
       "High         3\n",
       "Low          1\n",
       "Close        0\n",
       "Volume       0\n",
       "Adj Close    0\n",
       "dtype: int64"
      ]
     },
     "execution_count": 24,
     "metadata": {},
     "output_type": "execute_result"
    }
   ],
   "source": [
    "data2=data.copy()\n",
    "data2.loc[3:5, 'High']=None  #include 3,4,5 with 3 rows only in loc func\n",
    "data2.iloc[3:4, 3]=None\n",
    "data2.isnull().sum()"
   ]
  },
  {
   "cell_type": "code",
   "execution_count": 25,
   "id": "c95990d7",
   "metadata": {},
   "outputs": [
    {
     "data": {
      "text/plain": [
       "4"
      ]
     },
     "execution_count": 25,
     "metadata": {},
     "output_type": "execute_result"
    }
   ],
   "source": [
    "data2.isnull().sum().sum()"
   ]
  },
  {
   "cell_type": "code",
   "execution_count": 26,
   "id": "a19c2175",
   "metadata": {},
   "outputs": [
    {
     "name": "stdout",
     "output_type": "stream",
     "text": [
      "            Date          Open         Close     Volume     Adj Close\n",
      "0     2016-07-01  17924.240234  17949.369141   82160000  17949.369141\n",
      "1     2016-06-30  17712.759766  17929.990234  133030000  17929.990234\n",
      "2     2016-06-29  17456.019531  17694.679688  106380000  17694.679688\n",
      "3     2016-06-28  17190.509766  17409.720703  112190000  17409.720703\n",
      "4     2016-06-27  17355.210938  17140.240234  138740000  17140.240234\n",
      "...          ...           ...           ...        ...           ...\n",
      "1984  2008-08-14  11532.070312  11615.929688  159790000  11615.929688\n",
      "1985  2008-08-13  11632.809570  11532.959961  182550000  11532.959961\n",
      "1986  2008-08-12  11781.700195  11642.469727  173590000  11642.469727\n",
      "1987  2008-08-11  11729.669922  11782.349609  183190000  11782.349609\n",
      "1988  2008-08-08  11432.089844  11734.320312  212830000  11734.320312\n",
      "\n",
      "[1989 rows x 5 columns]\n"
     ]
    }
   ],
   "source": [
    "# print(data2.dropna()) #row-wise delete if we want to delete in original data then use inplace=True as a parameter\n",
    "print(data2.dropna(axis=1)) #column-wise delete"
   ]
  },
  {
   "cell_type": "code",
   "execution_count": 27,
   "id": "797ca337",
   "metadata": {},
   "outputs": [],
   "source": [
    "data2.iloc[3:4, 3]=None"
   ]
  },
  {
   "cell_type": "code",
   "execution_count": 28,
   "id": "6e68e378",
   "metadata": {},
   "outputs": [
    {
     "name": "stdout",
     "output_type": "stream",
     "text": [
      "            Date          Open          High           Low         Close  \\\n",
      "0     2016-07-01  17924.240234  18002.380859  17916.910156  17949.369141   \n",
      "1     2016-06-30  17712.759766  17930.609375  17711.800781  17929.990234   \n",
      "2     2016-06-29  17456.019531  17704.509766  17456.019531  17694.679688   \n",
      "3     2016-06-28  17190.509766  13535.216741  13535.216741  17409.720703   \n",
      "4     2016-06-27  17355.210938  13535.216741  17063.080078  17140.240234   \n",
      "...          ...           ...           ...           ...           ...   \n",
      "1984  2008-08-14  11532.070312  11718.280273  11450.889648  11615.929688   \n",
      "1985  2008-08-13  11632.809570  11633.780273  11453.339844  11532.959961   \n",
      "1986  2008-08-12  11781.700195  11782.349609  11601.519531  11642.469727   \n",
      "1987  2008-08-11  11729.669922  11867.110352  11675.530273  11782.349609   \n",
      "1988  2008-08-08  11432.089844  11759.959961  11388.040039  11734.320312   \n",
      "\n",
      "         Volume     Adj Close  \n",
      "0      82160000  17949.369141  \n",
      "1     133030000  17929.990234  \n",
      "2     106380000  17694.679688  \n",
      "3     112190000  17409.720703  \n",
      "4     138740000  17140.240234  \n",
      "...         ...           ...  \n",
      "1984  159790000  11615.929688  \n",
      "1985  182550000  11532.959961  \n",
      "1986  173590000  11642.469727  \n",
      "1987  183190000  11782.349609  \n",
      "1988  212830000  11734.320312  \n",
      "\n",
      "[1989 rows x 7 columns]\n"
     ]
    }
   ],
   "source": [
    "print(data2.fillna(data2.High.mean()))  #fill the values(mean of high) in the place of NaN values"
   ]
  },
  {
   "cell_type": "code",
   "execution_count": 29,
   "id": "bc22569f",
   "metadata": {},
   "outputs": [
    {
     "data": {
      "text/plain": [
       "Open    17456.019531\n",
       "High    17704.509766\n",
       "Low     17456.019531\n",
       "Name: 2, dtype: object"
      ]
     },
     "execution_count": 29,
     "metadata": {},
     "output_type": "execute_result"
    }
   ],
   "source": [
    "l=['Open','High', 'Low']\n",
    "data2.loc[2,l]"
   ]
  },
  {
   "cell_type": "code",
   "execution_count": 30,
   "id": "5dd1737a",
   "metadata": {},
   "outputs": [
    {
     "data": {
      "text/html": [
       "<div>\n",
       "<style scoped>\n",
       "    .dataframe tbody tr th:only-of-type {\n",
       "        vertical-align: middle;\n",
       "    }\n",
       "\n",
       "    .dataframe tbody tr th {\n",
       "        vertical-align: top;\n",
       "    }\n",
       "\n",
       "    .dataframe thead th {\n",
       "        text-align: right;\n",
       "    }\n",
       "</style>\n",
       "<table border=\"1\" class=\"dataframe\">\n",
       "  <thead>\n",
       "    <tr style=\"text-align: right;\">\n",
       "      <th></th>\n",
       "      <th>Open</th>\n",
       "      <th>High</th>\n",
       "      <th>Low</th>\n",
       "    </tr>\n",
       "  </thead>\n",
       "  <tbody>\n",
       "    <tr>\n",
       "      <th>0</th>\n",
       "      <td>17924.240234</td>\n",
       "      <td>18002.380859</td>\n",
       "      <td>17916.910156</td>\n",
       "    </tr>\n",
       "    <tr>\n",
       "      <th>1</th>\n",
       "      <td>17712.759766</td>\n",
       "      <td>17930.609375</td>\n",
       "      <td>17711.800781</td>\n",
       "    </tr>\n",
       "    <tr>\n",
       "      <th>2</th>\n",
       "      <td>17456.019531</td>\n",
       "      <td>17704.509766</td>\n",
       "      <td>17456.019531</td>\n",
       "    </tr>\n",
       "    <tr>\n",
       "      <th>3</th>\n",
       "      <td>17190.509766</td>\n",
       "      <td>NaN</td>\n",
       "      <td>NaN</td>\n",
       "    </tr>\n",
       "    <tr>\n",
       "      <th>4</th>\n",
       "      <td>17355.210938</td>\n",
       "      <td>NaN</td>\n",
       "      <td>17063.080078</td>\n",
       "    </tr>\n",
       "    <tr>\n",
       "      <th>...</th>\n",
       "      <td>...</td>\n",
       "      <td>...</td>\n",
       "      <td>...</td>\n",
       "    </tr>\n",
       "    <tr>\n",
       "      <th>1984</th>\n",
       "      <td>11532.070312</td>\n",
       "      <td>11718.280273</td>\n",
       "      <td>11450.889648</td>\n",
       "    </tr>\n",
       "    <tr>\n",
       "      <th>1985</th>\n",
       "      <td>11632.809570</td>\n",
       "      <td>11633.780273</td>\n",
       "      <td>11453.339844</td>\n",
       "    </tr>\n",
       "    <tr>\n",
       "      <th>1986</th>\n",
       "      <td>11781.700195</td>\n",
       "      <td>11782.349609</td>\n",
       "      <td>11601.519531</td>\n",
       "    </tr>\n",
       "    <tr>\n",
       "      <th>1987</th>\n",
       "      <td>11729.669922</td>\n",
       "      <td>11867.110352</td>\n",
       "      <td>11675.530273</td>\n",
       "    </tr>\n",
       "    <tr>\n",
       "      <th>1988</th>\n",
       "      <td>11432.089844</td>\n",
       "      <td>11759.959961</td>\n",
       "      <td>11388.040039</td>\n",
       "    </tr>\n",
       "  </tbody>\n",
       "</table>\n",
       "<p>1989 rows × 3 columns</p>\n",
       "</div>"
      ],
      "text/plain": [
       "              Open          High           Low\n",
       "0     17924.240234  18002.380859  17916.910156\n",
       "1     17712.759766  17930.609375  17711.800781\n",
       "2     17456.019531  17704.509766  17456.019531\n",
       "3     17190.509766           NaN           NaN\n",
       "4     17355.210938           NaN  17063.080078\n",
       "...            ...           ...           ...\n",
       "1984  11532.070312  11718.280273  11450.889648\n",
       "1985  11632.809570  11633.780273  11453.339844\n",
       "1986  11781.700195  11782.349609  11601.519531\n",
       "1987  11729.669922  11867.110352  11675.530273\n",
       "1988  11432.089844  11759.959961  11388.040039\n",
       "\n",
       "[1989 rows x 3 columns]"
      ]
     },
     "execution_count": 30,
     "metadata": {},
     "output_type": "execute_result"
    }
   ],
   "source": [
    "data2[l]"
   ]
  },
  {
   "cell_type": "code",
   "execution_count": 31,
   "id": "d781cbe0",
   "metadata": {},
   "outputs": [
    {
     "name": "stdout",
     "output_type": "stream",
     "text": [
      "         Date          Open          High           Low         Close  \\\n",
      "1  2016-06-30  17712.759766  17930.609375  17711.800781  17929.990234   \n",
      "2  2016-06-29  17456.019531  17704.509766  17456.019531  17694.679688   \n",
      "3  2016-06-28  17190.509766           NaN           NaN  17409.720703   \n",
      "4  2016-06-27  17355.210938           NaN  17063.080078  17140.240234   \n",
      "5  2016-06-24  17946.630859           NaN  17356.339844  17400.750000   \n",
      "6  2016-06-23  17844.109375  18011.070312  17844.109375  18011.070312   \n",
      "7  2016-06-22  17832.669922  17920.160156  17770.359375  17780.830078   \n",
      "8  2016-06-21  17827.330078  17877.839844  17799.800781  17829.730469   \n",
      "9  2016-06-20  17736.869141  17946.359375  17736.869141  17804.869141   \n",
      "\n",
      "      Volume     Adj Close  \n",
      "1  133030000  17929.990234  \n",
      "2  106380000  17694.679688  \n",
      "3  112190000  17409.720703  \n",
      "4  138740000  17140.240234  \n",
      "5  239000000  17400.750000  \n",
      "6   98070000  18011.070312  \n",
      "7   89440000  17780.830078  \n",
      "8   85130000  17829.730469  \n",
      "9   99380000  17804.869141  \n"
     ]
    }
   ],
   "source": [
    "# d=pd.DataFrame(data2, index=[4], columns=[0])\n",
    "# d\n",
    "# print(data2[data2.index==3]) #if we want to print only row 3\n",
    "print(data2[data2.index.isin(range(1,10))])  #print first 10 row without using loc and iloc func"
   ]
  },
  {
   "cell_type": "markdown",
   "id": "35588792",
   "metadata": {},
   "source": [
    "# print all the values of High column where High values are greater than average of High column values"
   ]
  },
  {
   "cell_type": "code",
   "execution_count": 32,
   "id": "f0de23f8",
   "metadata": {},
   "outputs": [
    {
     "data": {
      "text/plain": [
       "0      18002.380859\n",
       "1      17930.609375\n",
       "2      17704.509766\n",
       "6      18011.070312\n",
       "7      17920.160156\n",
       "           ...     \n",
       "951    13626.480469\n",
       "952    13582.120117\n",
       "953    13593.150391\n",
       "954    13653.240234\n",
       "955    13573.330078\n",
       "Name: High, Length: 889, dtype: float64"
      ]
     },
     "execution_count": 32,
     "metadata": {},
     "output_type": "execute_result"
    }
   ],
   "source": [
    "# print(data2.loc[data2.High > data2.High.mean(), 'High'])\n",
    "\n",
    "avg=data2['High'].mean()\n",
    "d =data2['High'] > avg, 'High'  #filter the values in the form of booleans.\n",
    "data2.loc[d]\n"
   ]
  },
  {
   "cell_type": "code",
   "execution_count": 33,
   "id": "cda99ca3",
   "metadata": {},
   "outputs": [
    {
     "data": {
      "text/plain": [
       "Index(['Date', 'Open', 'High', 'Low', 'Close', 'Volume', 'Adj Close'], dtype='object')"
      ]
     },
     "execution_count": 33,
     "metadata": {},
     "output_type": "execute_result"
    }
   ],
   "source": [
    "# data2['High']  #data2.High\n",
    "# data2.High\n",
    "data2.columns"
   ]
  },
  {
   "cell_type": "markdown",
   "id": "f78815bc",
   "metadata": {},
   "source": [
    "# print all the columns where the opening share price is less than the median opening price for the given stock and print all the rows in the dataset"
   ]
  },
  {
   "cell_type": "code",
   "execution_count": 34,
   "id": "43053a25",
   "metadata": {},
   "outputs": [
    {
     "name": "stdout",
     "output_type": "stream",
     "text": [
      "              Open          High           Low\n",
      "882   12938.190430  13109.129883  12883.889648\n",
      "899   12948.959961  13089.110352  12923.440430\n",
      "900   12966.450195  13022.509766  12940.070312\n",
      "903   12977.349609  13062.559570  12961.919922\n",
      "904   12875.559570  12989.099609  12765.320312\n",
      "...            ...           ...           ...\n",
      "1984  11532.070312  11718.280273  11450.889648\n",
      "1985  11632.809570  11633.780273  11453.339844\n",
      "1986  11781.700195  11782.349609  11601.519531\n",
      "1987  11729.669922  11867.110352  11675.530273\n",
      "1988  11432.089844  11759.959961  11388.040039\n",
      "\n",
      "[994 rows x 3 columns]\n"
     ]
    }
   ],
   "source": [
    "# pd.set_option(\"display.max_rows\", None)\n",
    "print(data2.loc[data2.Open < data2.Open.median(), data2.columns[1:4]])"
   ]
  },
  {
   "cell_type": "code",
   "execution_count": 35,
   "id": "4df050d5",
   "metadata": {},
   "outputs": [
    {
     "name": "stdout",
     "output_type": "stream",
     "text": [
      "            Date          Open          High           Low         Close  \\\n",
      "0     2016-07-01  17924.240234  18002.380859  17916.910156  17949.369141   \n",
      "1     2016-06-30  17712.759766  17930.609375  17711.800781  17929.990234   \n",
      "2     2016-06-29  17456.019531  17704.509766  17456.019531  17694.679688   \n",
      "3     2016-06-28  17190.509766           NaN           NaN  17409.720703   \n",
      "4     2016-06-27  17355.210938           NaN  17063.080078  17140.240234   \n",
      "...          ...           ...           ...           ...           ...   \n",
      "1984  2008-08-14  11532.070312  11718.280273  11450.889648  11615.929688   \n",
      "1985  2008-08-13  11632.809570  11633.780273  11453.339844  11532.959961   \n",
      "1986  2008-08-12  11781.700195  11782.349609  11601.519531  11642.469727   \n",
      "1987  2008-08-11  11729.669922  11867.110352  11675.530273  11782.349609   \n",
      "1988  2008-08-08  11432.089844  11759.959961  11388.040039  11734.320312   \n",
      "\n",
      "         Volume     Adj Close  \n",
      "0      82160000  17949.369141  \n",
      "1     133030000  17929.990234  \n",
      "2     106380000  17694.679688  \n",
      "3     112190000  17409.720703  \n",
      "4     138740000  17140.240234  \n",
      "...         ...           ...  \n",
      "1984  159790000  11615.929688  \n",
      "1985  182550000  11532.959961  \n",
      "1986  173590000  11642.469727  \n",
      "1987  183190000  11782.349609  \n",
      "1988  212830000  11734.320312  \n",
      "\n",
      "[3978 rows x 7 columns]\n"
     ]
    },
    {
     "data": {
      "text/plain": [
       "(3978, 7)"
      ]
     },
     "execution_count": 35,
     "metadata": {},
     "output_type": "execute_result"
    }
   ],
   "source": [
    "df = pd.concat([data2, data2], axis=0)  #by default axis = 0 row-wise\n",
    "print(df)\n",
    "df.shape"
   ]
  },
  {
   "cell_type": "code",
   "execution_count": 36,
   "id": "31d0a33b",
   "metadata": {},
   "outputs": [
    {
     "data": {
      "text/html": [
       "<div>\n",
       "<style scoped>\n",
       "    .dataframe tbody tr th:only-of-type {\n",
       "        vertical-align: middle;\n",
       "    }\n",
       "\n",
       "    .dataframe tbody tr th {\n",
       "        vertical-align: top;\n",
       "    }\n",
       "\n",
       "    .dataframe thead th {\n",
       "        text-align: right;\n",
       "    }\n",
       "</style>\n",
       "<table border=\"1\" class=\"dataframe\">\n",
       "  <thead>\n",
       "    <tr style=\"text-align: right;\">\n",
       "      <th></th>\n",
       "      <th>Date</th>\n",
       "      <th>Open</th>\n",
       "      <th>High</th>\n",
       "      <th>Low</th>\n",
       "      <th>Close</th>\n",
       "      <th>Volume</th>\n",
       "      <th>Adj Close</th>\n",
       "    </tr>\n",
       "  </thead>\n",
       "  <tbody>\n",
       "    <tr>\n",
       "      <th>0</th>\n",
       "      <td>2016-07-01</td>\n",
       "      <td>17924.240234</td>\n",
       "      <td>18002.380859</td>\n",
       "      <td>17916.910156</td>\n",
       "      <td>17949.369141</td>\n",
       "      <td>82160000</td>\n",
       "      <td>17949.369141</td>\n",
       "    </tr>\n",
       "    <tr>\n",
       "      <th>0</th>\n",
       "      <td>2016-07-01</td>\n",
       "      <td>17924.240234</td>\n",
       "      <td>18002.380859</td>\n",
       "      <td>17916.910156</td>\n",
       "      <td>17949.369141</td>\n",
       "      <td>82160000</td>\n",
       "      <td>17949.369141</td>\n",
       "    </tr>\n",
       "  </tbody>\n",
       "</table>\n",
       "</div>"
      ],
      "text/plain": [
       "         Date          Open          High           Low         Close  \\\n",
       "0  2016-07-01  17924.240234  18002.380859  17916.910156  17949.369141   \n",
       "0  2016-07-01  17924.240234  18002.380859  17916.910156  17949.369141   \n",
       "\n",
       "     Volume     Adj Close  \n",
       "0  82160000  17949.369141  \n",
       "0  82160000  17949.369141  "
      ]
     },
     "execution_count": 36,
     "metadata": {},
     "output_type": "execute_result"
    }
   ],
   "source": [
    "df.loc[0]"
   ]
  },
  {
   "cell_type": "code",
   "execution_count": 37,
   "id": "b23f2785",
   "metadata": {},
   "outputs": [
    {
     "data": {
      "text/plain": [
       "1989"
      ]
     },
     "execution_count": 37,
     "metadata": {},
     "output_type": "execute_result"
    }
   ],
   "source": [
    "df.duplicated().sum()"
   ]
  },
  {
   "cell_type": "code",
   "execution_count": 38,
   "id": "6657eb0f",
   "metadata": {},
   "outputs": [],
   "source": [
    "df.drop_duplicates(inplace=True) #permanent remove in original data also "
   ]
  },
  {
   "cell_type": "code",
   "execution_count": 39,
   "id": "c80dd0e3",
   "metadata": {},
   "outputs": [
    {
     "data": {
      "text/html": [
       "<div>\n",
       "<style scoped>\n",
       "    .dataframe tbody tr th:only-of-type {\n",
       "        vertical-align: middle;\n",
       "    }\n",
       "\n",
       "    .dataframe tbody tr th {\n",
       "        vertical-align: top;\n",
       "    }\n",
       "\n",
       "    .dataframe thead th {\n",
       "        text-align: right;\n",
       "    }\n",
       "</style>\n",
       "<table border=\"1\" class=\"dataframe\">\n",
       "  <thead>\n",
       "    <tr style=\"text-align: right;\">\n",
       "      <th></th>\n",
       "      <th>Date</th>\n",
       "      <th>Open</th>\n",
       "      <th>High</th>\n",
       "      <th>Low</th>\n",
       "      <th>Close</th>\n",
       "      <th>Volume</th>\n",
       "      <th>Adj Close</th>\n",
       "    </tr>\n",
       "  </thead>\n",
       "  <tbody>\n",
       "    <tr>\n",
       "      <th>0</th>\n",
       "      <td>2016-07-01</td>\n",
       "      <td>17924.240234</td>\n",
       "      <td>18002.380859</td>\n",
       "      <td>17916.910156</td>\n",
       "      <td>17949.369141</td>\n",
       "      <td>82160000</td>\n",
       "      <td>17949.369141</td>\n",
       "    </tr>\n",
       "    <tr>\n",
       "      <th>1</th>\n",
       "      <td>2016-06-30</td>\n",
       "      <td>17712.759766</td>\n",
       "      <td>17930.609375</td>\n",
       "      <td>17711.800781</td>\n",
       "      <td>17929.990234</td>\n",
       "      <td>133030000</td>\n",
       "      <td>17929.990234</td>\n",
       "    </tr>\n",
       "    <tr>\n",
       "      <th>2</th>\n",
       "      <td>2016-06-29</td>\n",
       "      <td>17456.019531</td>\n",
       "      <td>17704.509766</td>\n",
       "      <td>17456.019531</td>\n",
       "      <td>17694.679688</td>\n",
       "      <td>106380000</td>\n",
       "      <td>17694.679688</td>\n",
       "    </tr>\n",
       "    <tr>\n",
       "      <th>3</th>\n",
       "      <td>2016-06-28</td>\n",
       "      <td>17190.509766</td>\n",
       "      <td>NaN</td>\n",
       "      <td>NaN</td>\n",
       "      <td>17409.720703</td>\n",
       "      <td>112190000</td>\n",
       "      <td>17409.720703</td>\n",
       "    </tr>\n",
       "    <tr>\n",
       "      <th>4</th>\n",
       "      <td>2016-06-27</td>\n",
       "      <td>17355.210938</td>\n",
       "      <td>NaN</td>\n",
       "      <td>17063.080078</td>\n",
       "      <td>17140.240234</td>\n",
       "      <td>138740000</td>\n",
       "      <td>17140.240234</td>\n",
       "    </tr>\n",
       "    <tr>\n",
       "      <th>...</th>\n",
       "      <td>...</td>\n",
       "      <td>...</td>\n",
       "      <td>...</td>\n",
       "      <td>...</td>\n",
       "      <td>...</td>\n",
       "      <td>...</td>\n",
       "      <td>...</td>\n",
       "    </tr>\n",
       "    <tr>\n",
       "      <th>1984</th>\n",
       "      <td>2008-08-14</td>\n",
       "      <td>11532.070312</td>\n",
       "      <td>11718.280273</td>\n",
       "      <td>11450.889648</td>\n",
       "      <td>11615.929688</td>\n",
       "      <td>159790000</td>\n",
       "      <td>11615.929688</td>\n",
       "    </tr>\n",
       "    <tr>\n",
       "      <th>1985</th>\n",
       "      <td>2008-08-13</td>\n",
       "      <td>11632.809570</td>\n",
       "      <td>11633.780273</td>\n",
       "      <td>11453.339844</td>\n",
       "      <td>11532.959961</td>\n",
       "      <td>182550000</td>\n",
       "      <td>11532.959961</td>\n",
       "    </tr>\n",
       "    <tr>\n",
       "      <th>1986</th>\n",
       "      <td>2008-08-12</td>\n",
       "      <td>11781.700195</td>\n",
       "      <td>11782.349609</td>\n",
       "      <td>11601.519531</td>\n",
       "      <td>11642.469727</td>\n",
       "      <td>173590000</td>\n",
       "      <td>11642.469727</td>\n",
       "    </tr>\n",
       "    <tr>\n",
       "      <th>1987</th>\n",
       "      <td>2008-08-11</td>\n",
       "      <td>11729.669922</td>\n",
       "      <td>11867.110352</td>\n",
       "      <td>11675.530273</td>\n",
       "      <td>11782.349609</td>\n",
       "      <td>183190000</td>\n",
       "      <td>11782.349609</td>\n",
       "    </tr>\n",
       "    <tr>\n",
       "      <th>1988</th>\n",
       "      <td>2008-08-08</td>\n",
       "      <td>11432.089844</td>\n",
       "      <td>11759.959961</td>\n",
       "      <td>11388.040039</td>\n",
       "      <td>11734.320312</td>\n",
       "      <td>212830000</td>\n",
       "      <td>11734.320312</td>\n",
       "    </tr>\n",
       "  </tbody>\n",
       "</table>\n",
       "<p>1989 rows × 7 columns</p>\n",
       "</div>"
      ],
      "text/plain": [
       "            Date          Open          High           Low         Close  \\\n",
       "0     2016-07-01  17924.240234  18002.380859  17916.910156  17949.369141   \n",
       "1     2016-06-30  17712.759766  17930.609375  17711.800781  17929.990234   \n",
       "2     2016-06-29  17456.019531  17704.509766  17456.019531  17694.679688   \n",
       "3     2016-06-28  17190.509766           NaN           NaN  17409.720703   \n",
       "4     2016-06-27  17355.210938           NaN  17063.080078  17140.240234   \n",
       "...          ...           ...           ...           ...           ...   \n",
       "1984  2008-08-14  11532.070312  11718.280273  11450.889648  11615.929688   \n",
       "1985  2008-08-13  11632.809570  11633.780273  11453.339844  11532.959961   \n",
       "1986  2008-08-12  11781.700195  11782.349609  11601.519531  11642.469727   \n",
       "1987  2008-08-11  11729.669922  11867.110352  11675.530273  11782.349609   \n",
       "1988  2008-08-08  11432.089844  11759.959961  11388.040039  11734.320312   \n",
       "\n",
       "         Volume     Adj Close  \n",
       "0      82160000  17949.369141  \n",
       "1     133030000  17929.990234  \n",
       "2     106380000  17694.679688  \n",
       "3     112190000  17409.720703  \n",
       "4     138740000  17140.240234  \n",
       "...         ...           ...  \n",
       "1984  159790000  11615.929688  \n",
       "1985  182550000  11532.959961  \n",
       "1986  173590000  11642.469727  \n",
       "1987  183190000  11782.349609  \n",
       "1988  212830000  11734.320312  \n",
       "\n",
       "[1989 rows x 7 columns]"
      ]
     },
     "execution_count": 39,
     "metadata": {},
     "output_type": "execute_result"
    }
   ],
   "source": [
    "df"
   ]
  },
  {
   "cell_type": "markdown",
   "id": "a0cf0191",
   "metadata": {},
   "source": [
    "# IMDB DATASET"
   ]
  },
  {
   "cell_type": "code",
   "execution_count": 40,
   "id": "401457d0",
   "metadata": {},
   "outputs": [
    {
     "data": {
      "text/html": [
       "<div>\n",
       "<style scoped>\n",
       "    .dataframe tbody tr th:only-of-type {\n",
       "        vertical-align: middle;\n",
       "    }\n",
       "\n",
       "    .dataframe tbody tr th {\n",
       "        vertical-align: top;\n",
       "    }\n",
       "\n",
       "    .dataframe thead th {\n",
       "        text-align: right;\n",
       "    }\n",
       "</style>\n",
       "<table border=\"1\" class=\"dataframe\">\n",
       "  <thead>\n",
       "    <tr style=\"text-align: right;\">\n",
       "      <th></th>\n",
       "      <th>Poster_Link</th>\n",
       "      <th>Series_Title</th>\n",
       "      <th>Released_Year</th>\n",
       "      <th>Certificate</th>\n",
       "      <th>Runtime</th>\n",
       "      <th>Genre</th>\n",
       "      <th>IMDB_Rating</th>\n",
       "      <th>Overview</th>\n",
       "      <th>Meta_score</th>\n",
       "      <th>Director</th>\n",
       "      <th>Star1</th>\n",
       "      <th>Star2</th>\n",
       "      <th>Star3</th>\n",
       "      <th>Star4</th>\n",
       "      <th>No_of_Votes</th>\n",
       "      <th>Gross</th>\n",
       "    </tr>\n",
       "  </thead>\n",
       "  <tbody>\n",
       "    <tr>\n",
       "      <th>0</th>\n",
       "      <td>https://m.media-amazon.com/images/M/MV5BMDFkYT...</td>\n",
       "      <td>The Shawshank Redemption</td>\n",
       "      <td>1994</td>\n",
       "      <td>A</td>\n",
       "      <td>142 min</td>\n",
       "      <td>Drama</td>\n",
       "      <td>9.3</td>\n",
       "      <td>Two imprisoned men bond over a number of years...</td>\n",
       "      <td>80.0</td>\n",
       "      <td>Frank Darabont</td>\n",
       "      <td>Tim Robbins</td>\n",
       "      <td>Morgan Freeman</td>\n",
       "      <td>Bob Gunton</td>\n",
       "      <td>William Sadler</td>\n",
       "      <td>2343110</td>\n",
       "      <td>28,341,469</td>\n",
       "    </tr>\n",
       "    <tr>\n",
       "      <th>1</th>\n",
       "      <td>https://m.media-amazon.com/images/M/MV5BM2MyNj...</td>\n",
       "      <td>The Godfather</td>\n",
       "      <td>1972</td>\n",
       "      <td>A</td>\n",
       "      <td>175 min</td>\n",
       "      <td>Crime, Drama</td>\n",
       "      <td>9.2</td>\n",
       "      <td>An organized crime dynasty's aging patriarch t...</td>\n",
       "      <td>100.0</td>\n",
       "      <td>Francis Ford Coppola</td>\n",
       "      <td>Marlon Brando</td>\n",
       "      <td>Al Pacino</td>\n",
       "      <td>James Caan</td>\n",
       "      <td>Diane Keaton</td>\n",
       "      <td>1620367</td>\n",
       "      <td>134,966,411</td>\n",
       "    </tr>\n",
       "    <tr>\n",
       "      <th>2</th>\n",
       "      <td>https://m.media-amazon.com/images/M/MV5BMTMxNT...</td>\n",
       "      <td>The Dark Knight</td>\n",
       "      <td>2008</td>\n",
       "      <td>UA</td>\n",
       "      <td>152 min</td>\n",
       "      <td>Action, Crime, Drama</td>\n",
       "      <td>9.0</td>\n",
       "      <td>When the menace known as the Joker wreaks havo...</td>\n",
       "      <td>84.0</td>\n",
       "      <td>Christopher Nolan</td>\n",
       "      <td>Christian Bale</td>\n",
       "      <td>Heath Ledger</td>\n",
       "      <td>Aaron Eckhart</td>\n",
       "      <td>Michael Caine</td>\n",
       "      <td>2303232</td>\n",
       "      <td>534,858,444</td>\n",
       "    </tr>\n",
       "    <tr>\n",
       "      <th>3</th>\n",
       "      <td>https://m.media-amazon.com/images/M/MV5BMWMwMG...</td>\n",
       "      <td>The Godfather: Part II</td>\n",
       "      <td>1974</td>\n",
       "      <td>A</td>\n",
       "      <td>202 min</td>\n",
       "      <td>Crime, Drama</td>\n",
       "      <td>9.0</td>\n",
       "      <td>The early life and career of Vito Corleone in ...</td>\n",
       "      <td>90.0</td>\n",
       "      <td>Francis Ford Coppola</td>\n",
       "      <td>Al Pacino</td>\n",
       "      <td>Robert De Niro</td>\n",
       "      <td>Robert Duvall</td>\n",
       "      <td>Diane Keaton</td>\n",
       "      <td>1129952</td>\n",
       "      <td>57,300,000</td>\n",
       "    </tr>\n",
       "    <tr>\n",
       "      <th>4</th>\n",
       "      <td>https://m.media-amazon.com/images/M/MV5BMWU4N2...</td>\n",
       "      <td>12 Angry Men</td>\n",
       "      <td>1957</td>\n",
       "      <td>U</td>\n",
       "      <td>96 min</td>\n",
       "      <td>Crime, Drama</td>\n",
       "      <td>9.0</td>\n",
       "      <td>A jury holdout attempts to prevent a miscarria...</td>\n",
       "      <td>96.0</td>\n",
       "      <td>Sidney Lumet</td>\n",
       "      <td>Henry Fonda</td>\n",
       "      <td>Lee J. Cobb</td>\n",
       "      <td>Martin Balsam</td>\n",
       "      <td>John Fiedler</td>\n",
       "      <td>689845</td>\n",
       "      <td>4,360,000</td>\n",
       "    </tr>\n",
       "    <tr>\n",
       "      <th>...</th>\n",
       "      <td>...</td>\n",
       "      <td>...</td>\n",
       "      <td>...</td>\n",
       "      <td>...</td>\n",
       "      <td>...</td>\n",
       "      <td>...</td>\n",
       "      <td>...</td>\n",
       "      <td>...</td>\n",
       "      <td>...</td>\n",
       "      <td>...</td>\n",
       "      <td>...</td>\n",
       "      <td>...</td>\n",
       "      <td>...</td>\n",
       "      <td>...</td>\n",
       "      <td>...</td>\n",
       "      <td>...</td>\n",
       "    </tr>\n",
       "    <tr>\n",
       "      <th>995</th>\n",
       "      <td>https://m.media-amazon.com/images/M/MV5BNGEwMT...</td>\n",
       "      <td>Breakfast at Tiffany's</td>\n",
       "      <td>1961</td>\n",
       "      <td>A</td>\n",
       "      <td>115 min</td>\n",
       "      <td>Comedy, Drama, Romance</td>\n",
       "      <td>7.6</td>\n",
       "      <td>A young New York socialite becomes interested ...</td>\n",
       "      <td>76.0</td>\n",
       "      <td>Blake Edwards</td>\n",
       "      <td>Audrey Hepburn</td>\n",
       "      <td>George Peppard</td>\n",
       "      <td>Patricia Neal</td>\n",
       "      <td>Buddy Ebsen</td>\n",
       "      <td>166544</td>\n",
       "      <td>NaN</td>\n",
       "    </tr>\n",
       "    <tr>\n",
       "      <th>996</th>\n",
       "      <td>https://m.media-amazon.com/images/M/MV5BODk3Yj...</td>\n",
       "      <td>Giant</td>\n",
       "      <td>1956</td>\n",
       "      <td>G</td>\n",
       "      <td>201 min</td>\n",
       "      <td>Drama, Western</td>\n",
       "      <td>7.6</td>\n",
       "      <td>Sprawling epic covering the life of a Texas ca...</td>\n",
       "      <td>84.0</td>\n",
       "      <td>George Stevens</td>\n",
       "      <td>Elizabeth Taylor</td>\n",
       "      <td>Rock Hudson</td>\n",
       "      <td>James Dean</td>\n",
       "      <td>Carroll Baker</td>\n",
       "      <td>34075</td>\n",
       "      <td>NaN</td>\n",
       "    </tr>\n",
       "    <tr>\n",
       "      <th>997</th>\n",
       "      <td>https://m.media-amazon.com/images/M/MV5BM2U3Yz...</td>\n",
       "      <td>From Here to Eternity</td>\n",
       "      <td>1953</td>\n",
       "      <td>Passed</td>\n",
       "      <td>118 min</td>\n",
       "      <td>Drama, Romance, War</td>\n",
       "      <td>7.6</td>\n",
       "      <td>In Hawaii in 1941, a private is cruelly punish...</td>\n",
       "      <td>85.0</td>\n",
       "      <td>Fred Zinnemann</td>\n",
       "      <td>Burt Lancaster</td>\n",
       "      <td>Montgomery Clift</td>\n",
       "      <td>Deborah Kerr</td>\n",
       "      <td>Donna Reed</td>\n",
       "      <td>43374</td>\n",
       "      <td>30,500,000</td>\n",
       "    </tr>\n",
       "    <tr>\n",
       "      <th>998</th>\n",
       "      <td>https://m.media-amazon.com/images/M/MV5BZTBmMj...</td>\n",
       "      <td>Lifeboat</td>\n",
       "      <td>1944</td>\n",
       "      <td>NaN</td>\n",
       "      <td>97 min</td>\n",
       "      <td>Drama, War</td>\n",
       "      <td>7.6</td>\n",
       "      <td>Several survivors of a torpedoed merchant ship...</td>\n",
       "      <td>78.0</td>\n",
       "      <td>Alfred Hitchcock</td>\n",
       "      <td>Tallulah Bankhead</td>\n",
       "      <td>John Hodiak</td>\n",
       "      <td>Walter Slezak</td>\n",
       "      <td>William Bendix</td>\n",
       "      <td>26471</td>\n",
       "      <td>NaN</td>\n",
       "    </tr>\n",
       "    <tr>\n",
       "      <th>999</th>\n",
       "      <td>https://m.media-amazon.com/images/M/MV5BMTY5OD...</td>\n",
       "      <td>The 39 Steps</td>\n",
       "      <td>1935</td>\n",
       "      <td>NaN</td>\n",
       "      <td>86 min</td>\n",
       "      <td>Crime, Mystery, Thriller</td>\n",
       "      <td>7.6</td>\n",
       "      <td>A man in London tries to help a counter-espion...</td>\n",
       "      <td>93.0</td>\n",
       "      <td>Alfred Hitchcock</td>\n",
       "      <td>Robert Donat</td>\n",
       "      <td>Madeleine Carroll</td>\n",
       "      <td>Lucie Mannheim</td>\n",
       "      <td>Godfrey Tearle</td>\n",
       "      <td>51853</td>\n",
       "      <td>NaN</td>\n",
       "    </tr>\n",
       "  </tbody>\n",
       "</table>\n",
       "<p>1000 rows × 16 columns</p>\n",
       "</div>"
      ],
      "text/plain": [
       "                                           Poster_Link  \\\n",
       "0    https://m.media-amazon.com/images/M/MV5BMDFkYT...   \n",
       "1    https://m.media-amazon.com/images/M/MV5BM2MyNj...   \n",
       "2    https://m.media-amazon.com/images/M/MV5BMTMxNT...   \n",
       "3    https://m.media-amazon.com/images/M/MV5BMWMwMG...   \n",
       "4    https://m.media-amazon.com/images/M/MV5BMWU4N2...   \n",
       "..                                                 ...   \n",
       "995  https://m.media-amazon.com/images/M/MV5BNGEwMT...   \n",
       "996  https://m.media-amazon.com/images/M/MV5BODk3Yj...   \n",
       "997  https://m.media-amazon.com/images/M/MV5BM2U3Yz...   \n",
       "998  https://m.media-amazon.com/images/M/MV5BZTBmMj...   \n",
       "999  https://m.media-amazon.com/images/M/MV5BMTY5OD...   \n",
       "\n",
       "                 Series_Title Released_Year Certificate  Runtime  \\\n",
       "0    The Shawshank Redemption          1994           A  142 min   \n",
       "1               The Godfather          1972           A  175 min   \n",
       "2             The Dark Knight          2008          UA  152 min   \n",
       "3      The Godfather: Part II          1974           A  202 min   \n",
       "4                12 Angry Men          1957           U   96 min   \n",
       "..                        ...           ...         ...      ...   \n",
       "995    Breakfast at Tiffany's          1961           A  115 min   \n",
       "996                     Giant          1956           G  201 min   \n",
       "997     From Here to Eternity          1953      Passed  118 min   \n",
       "998                  Lifeboat          1944         NaN   97 min   \n",
       "999              The 39 Steps          1935         NaN   86 min   \n",
       "\n",
       "                        Genre  IMDB_Rating  \\\n",
       "0                       Drama          9.3   \n",
       "1                Crime, Drama          9.2   \n",
       "2        Action, Crime, Drama          9.0   \n",
       "3                Crime, Drama          9.0   \n",
       "4                Crime, Drama          9.0   \n",
       "..                        ...          ...   \n",
       "995    Comedy, Drama, Romance          7.6   \n",
       "996            Drama, Western          7.6   \n",
       "997       Drama, Romance, War          7.6   \n",
       "998                Drama, War          7.6   \n",
       "999  Crime, Mystery, Thriller          7.6   \n",
       "\n",
       "                                              Overview  Meta_score  \\\n",
       "0    Two imprisoned men bond over a number of years...        80.0   \n",
       "1    An organized crime dynasty's aging patriarch t...       100.0   \n",
       "2    When the menace known as the Joker wreaks havo...        84.0   \n",
       "3    The early life and career of Vito Corleone in ...        90.0   \n",
       "4    A jury holdout attempts to prevent a miscarria...        96.0   \n",
       "..                                                 ...         ...   \n",
       "995  A young New York socialite becomes interested ...        76.0   \n",
       "996  Sprawling epic covering the life of a Texas ca...        84.0   \n",
       "997  In Hawaii in 1941, a private is cruelly punish...        85.0   \n",
       "998  Several survivors of a torpedoed merchant ship...        78.0   \n",
       "999  A man in London tries to help a counter-espion...        93.0   \n",
       "\n",
       "                 Director              Star1              Star2  \\\n",
       "0          Frank Darabont        Tim Robbins     Morgan Freeman   \n",
       "1    Francis Ford Coppola      Marlon Brando          Al Pacino   \n",
       "2       Christopher Nolan     Christian Bale       Heath Ledger   \n",
       "3    Francis Ford Coppola          Al Pacino     Robert De Niro   \n",
       "4            Sidney Lumet        Henry Fonda        Lee J. Cobb   \n",
       "..                    ...                ...                ...   \n",
       "995         Blake Edwards     Audrey Hepburn     George Peppard   \n",
       "996        George Stevens   Elizabeth Taylor        Rock Hudson   \n",
       "997        Fred Zinnemann     Burt Lancaster   Montgomery Clift   \n",
       "998      Alfred Hitchcock  Tallulah Bankhead        John Hodiak   \n",
       "999      Alfred Hitchcock       Robert Donat  Madeleine Carroll   \n",
       "\n",
       "              Star3           Star4  No_of_Votes        Gross  \n",
       "0        Bob Gunton  William Sadler      2343110   28,341,469  \n",
       "1        James Caan    Diane Keaton      1620367  134,966,411  \n",
       "2     Aaron Eckhart   Michael Caine      2303232  534,858,444  \n",
       "3     Robert Duvall    Diane Keaton      1129952   57,300,000  \n",
       "4     Martin Balsam    John Fiedler       689845    4,360,000  \n",
       "..              ...             ...          ...          ...  \n",
       "995   Patricia Neal     Buddy Ebsen       166544          NaN  \n",
       "996      James Dean   Carroll Baker        34075          NaN  \n",
       "997    Deborah Kerr      Donna Reed        43374   30,500,000  \n",
       "998   Walter Slezak  William Bendix        26471          NaN  \n",
       "999  Lucie Mannheim  Godfrey Tearle        51853          NaN  \n",
       "\n",
       "[1000 rows x 16 columns]"
      ]
     },
     "execution_count": 40,
     "metadata": {},
     "output_type": "execute_result"
    }
   ],
   "source": [
    "df1=pd.read_csv(\"C:\\\\Users\\\\Shyam Singh\\\\Downloads\\\\archive (1)\\\\imdb_top_1000.csv\")\n",
    "df1"
   ]
  },
  {
   "cell_type": "code",
   "execution_count": 41,
   "id": "3f4d58e9",
   "metadata": {},
   "outputs": [
    {
     "data": {
      "text/plain": [
       "(1000, 16)"
      ]
     },
     "execution_count": 41,
     "metadata": {},
     "output_type": "execute_result"
    }
   ],
   "source": [
    "df1.shape"
   ]
  },
  {
   "cell_type": "code",
   "execution_count": 42,
   "id": "fc78414e",
   "metadata": {},
   "outputs": [
    {
     "name": "stdout",
     "output_type": "stream",
     "text": [
      "<class 'pandas.core.frame.DataFrame'>\n",
      "RangeIndex: 1000 entries, 0 to 999\n",
      "Data columns (total 16 columns):\n",
      " #   Column         Non-Null Count  Dtype  \n",
      "---  ------         --------------  -----  \n",
      " 0   Poster_Link    1000 non-null   object \n",
      " 1   Series_Title   1000 non-null   object \n",
      " 2   Released_Year  1000 non-null   object \n",
      " 3   Certificate    899 non-null    object \n",
      " 4   Runtime        1000 non-null   object \n",
      " 5   Genre          1000 non-null   object \n",
      " 6   IMDB_Rating    1000 non-null   float64\n",
      " 7   Overview       1000 non-null   object \n",
      " 8   Meta_score     843 non-null    float64\n",
      " 9   Director       1000 non-null   object \n",
      " 10  Star1          1000 non-null   object \n",
      " 11  Star2          1000 non-null   object \n",
      " 12  Star3          1000 non-null   object \n",
      " 13  Star4          1000 non-null   object \n",
      " 14  No_of_Votes    1000 non-null   int64  \n",
      " 15  Gross          831 non-null    object \n",
      "dtypes: float64(2), int64(1), object(13)\n",
      "memory usage: 125.1+ KB\n"
     ]
    }
   ],
   "source": [
    "df1.info()"
   ]
  },
  {
   "cell_type": "code",
   "execution_count": 43,
   "id": "08dd43a5",
   "metadata": {},
   "outputs": [
    {
     "data": {
      "text/html": [
       "<div>\n",
       "<style scoped>\n",
       "    .dataframe tbody tr th:only-of-type {\n",
       "        vertical-align: middle;\n",
       "    }\n",
       "\n",
       "    .dataframe tbody tr th {\n",
       "        vertical-align: top;\n",
       "    }\n",
       "\n",
       "    .dataframe thead th {\n",
       "        text-align: right;\n",
       "    }\n",
       "</style>\n",
       "<table border=\"1\" class=\"dataframe\">\n",
       "  <thead>\n",
       "    <tr style=\"text-align: right;\">\n",
       "      <th></th>\n",
       "      <th>IMDB_Rating</th>\n",
       "      <th>Meta_score</th>\n",
       "      <th>No_of_Votes</th>\n",
       "    </tr>\n",
       "  </thead>\n",
       "  <tbody>\n",
       "    <tr>\n",
       "      <th>count</th>\n",
       "      <td>1000.000000</td>\n",
       "      <td>843.000000</td>\n",
       "      <td>1.000000e+03</td>\n",
       "    </tr>\n",
       "    <tr>\n",
       "      <th>mean</th>\n",
       "      <td>7.949300</td>\n",
       "      <td>77.971530</td>\n",
       "      <td>2.736929e+05</td>\n",
       "    </tr>\n",
       "    <tr>\n",
       "      <th>std</th>\n",
       "      <td>0.275491</td>\n",
       "      <td>12.376099</td>\n",
       "      <td>3.273727e+05</td>\n",
       "    </tr>\n",
       "    <tr>\n",
       "      <th>min</th>\n",
       "      <td>7.600000</td>\n",
       "      <td>28.000000</td>\n",
       "      <td>2.508800e+04</td>\n",
       "    </tr>\n",
       "    <tr>\n",
       "      <th>25%</th>\n",
       "      <td>7.700000</td>\n",
       "      <td>70.000000</td>\n",
       "      <td>5.552625e+04</td>\n",
       "    </tr>\n",
       "    <tr>\n",
       "      <th>50%</th>\n",
       "      <td>7.900000</td>\n",
       "      <td>79.000000</td>\n",
       "      <td>1.385485e+05</td>\n",
       "    </tr>\n",
       "    <tr>\n",
       "      <th>75%</th>\n",
       "      <td>8.100000</td>\n",
       "      <td>87.000000</td>\n",
       "      <td>3.741612e+05</td>\n",
       "    </tr>\n",
       "    <tr>\n",
       "      <th>max</th>\n",
       "      <td>9.300000</td>\n",
       "      <td>100.000000</td>\n",
       "      <td>2.343110e+06</td>\n",
       "    </tr>\n",
       "  </tbody>\n",
       "</table>\n",
       "</div>"
      ],
      "text/plain": [
       "       IMDB_Rating  Meta_score   No_of_Votes\n",
       "count  1000.000000  843.000000  1.000000e+03\n",
       "mean      7.949300   77.971530  2.736929e+05\n",
       "std       0.275491   12.376099  3.273727e+05\n",
       "min       7.600000   28.000000  2.508800e+04\n",
       "25%       7.700000   70.000000  5.552625e+04\n",
       "50%       7.900000   79.000000  1.385485e+05\n",
       "75%       8.100000   87.000000  3.741612e+05\n",
       "max       9.300000  100.000000  2.343110e+06"
      ]
     },
     "execution_count": 43,
     "metadata": {},
     "output_type": "execute_result"
    }
   ],
   "source": [
    "df1.describe()"
   ]
  },
  {
   "cell_type": "code",
   "execution_count": 44,
   "id": "28bf5150",
   "metadata": {},
   "outputs": [
    {
     "name": "stdout",
     "output_type": "stream",
     "text": [
      "Poster_Link        0\n",
      "Series_Title       0\n",
      "Released_Year      0\n",
      "Certificate      101\n",
      "Runtime            0\n",
      "Genre              0\n",
      "IMDB_Rating        0\n",
      "Overview           0\n",
      "Meta_score       157\n",
      "Director           0\n",
      "Star1              0\n",
      "Star2              0\n",
      "Star3              0\n",
      "Star4              0\n",
      "No_of_Votes        0\n",
      "Gross            169\n",
      "dtype: int64\n"
     ]
    },
    {
     "data": {
      "text/plain": [
       "427"
      ]
     },
     "execution_count": 44,
     "metadata": {},
     "output_type": "execute_result"
    }
   ],
   "source": [
    "print(df1.isnull().sum())\n",
    "\n",
    "df1.isnull().sum().sum()  #total NaN values in the dataset"
   ]
  },
  {
   "cell_type": "code",
   "execution_count": 45,
   "id": "d1e881b4",
   "metadata": {},
   "outputs": [
    {
     "data": {
      "text/plain": [
       "count      1000\n",
       "unique      202\n",
       "top       Drama\n",
       "freq         85\n",
       "Name: Genre, dtype: object"
      ]
     },
     "execution_count": 45,
     "metadata": {},
     "output_type": "execute_result"
    }
   ],
   "source": [
    "df1['Genre'].describe()"
   ]
  },
  {
   "cell_type": "code",
   "execution_count": 46,
   "id": "0c4b7e4d",
   "metadata": {},
   "outputs": [
    {
     "data": {
      "text/plain": [
       "count     899\n",
       "unique     16\n",
       "top         U\n",
       "freq      234\n",
       "Name: Certificate, dtype: object"
      ]
     },
     "execution_count": 46,
     "metadata": {},
     "output_type": "execute_result"
    }
   ],
   "source": [
    "df1['Certificate'].describe()\n",
    "\n"
   ]
  },
  {
   "cell_type": "code",
   "execution_count": 47,
   "id": "ee103300",
   "metadata": {},
   "outputs": [
    {
     "data": {
      "text/plain": [
       "0      False\n",
       "1      False\n",
       "2      False\n",
       "3      False\n",
       "4      False\n",
       "       ...  \n",
       "995    False\n",
       "996    False\n",
       "997    False\n",
       "998     True\n",
       "999     True\n",
       "Name: Certificate, Length: 1000, dtype: bool"
      ]
     },
     "execution_count": 47,
     "metadata": {},
     "output_type": "execute_result"
    }
   ],
   "source": [
    "df1[\"Certificate\"].isna()"
   ]
  },
  {
   "cell_type": "code",
   "execution_count": 48,
   "id": "d49ce1da",
   "metadata": {},
   "outputs": [
    {
     "data": {
      "text/html": [
       "<div>\n",
       "<style scoped>\n",
       "    .dataframe tbody tr th:only-of-type {\n",
       "        vertical-align: middle;\n",
       "    }\n",
       "\n",
       "    .dataframe tbody tr th {\n",
       "        vertical-align: top;\n",
       "    }\n",
       "\n",
       "    .dataframe thead th {\n",
       "        text-align: right;\n",
       "    }\n",
       "</style>\n",
       "<table border=\"1\" class=\"dataframe\">\n",
       "  <thead>\n",
       "    <tr style=\"text-align: right;\">\n",
       "      <th></th>\n",
       "      <th>Poster_Link</th>\n",
       "      <th>Series_Title</th>\n",
       "      <th>Released_Year</th>\n",
       "      <th>Certificate</th>\n",
       "      <th>Runtime</th>\n",
       "      <th>Genre</th>\n",
       "      <th>IMDB_Rating</th>\n",
       "      <th>Overview</th>\n",
       "      <th>Meta_score</th>\n",
       "      <th>Director</th>\n",
       "      <th>Star1</th>\n",
       "      <th>Star2</th>\n",
       "      <th>Star3</th>\n",
       "      <th>Star4</th>\n",
       "      <th>No_of_Votes</th>\n",
       "      <th>Gross</th>\n",
       "    </tr>\n",
       "  </thead>\n",
       "  <tbody>\n",
       "    <tr>\n",
       "      <th>30</th>\n",
       "      <td>https://m.media-amazon.com/images/M/MV5BYjBmYT...</td>\n",
       "      <td>Seppuku</td>\n",
       "      <td>1962</td>\n",
       "      <td>NaN</td>\n",
       "      <td>133 min</td>\n",
       "      <td>Action, Drama, Mystery</td>\n",
       "      <td>8.6</td>\n",
       "      <td>When a ronin requesting seppuku at a feudal lo...</td>\n",
       "      <td>85.0</td>\n",
       "      <td>Masaki Kobayashi</td>\n",
       "      <td>Tatsuya Nakadai</td>\n",
       "      <td>Akira Ishihama</td>\n",
       "      <td>Shima Iwashita</td>\n",
       "      <td>Tetsurô Tanba</td>\n",
       "      <td>42004</td>\n",
       "      <td>NaN</td>\n",
       "    </tr>\n",
       "    <tr>\n",
       "      <th>54</th>\n",
       "      <td>https://m.media-amazon.com/images/M/MV5BNWJhMD...</td>\n",
       "      <td>Ayla: The Daughter of War</td>\n",
       "      <td>2017</td>\n",
       "      <td>NaN</td>\n",
       "      <td>125 min</td>\n",
       "      <td>Biography, Drama, History</td>\n",
       "      <td>8.4</td>\n",
       "      <td>In 1950, amid-st the ravages of the Korean War...</td>\n",
       "      <td>NaN</td>\n",
       "      <td>Can Ulkay</td>\n",
       "      <td>Erdem Can</td>\n",
       "      <td>Çetin Tekindor</td>\n",
       "      <td>Ismail Hacioglu</td>\n",
       "      <td>Kyung-jin Lee</td>\n",
       "      <td>34112</td>\n",
       "      <td>NaN</td>\n",
       "    </tr>\n",
       "    <tr>\n",
       "      <th>77</th>\n",
       "      <td>https://m.media-amazon.com/images/M/MV5BOTI4NT...</td>\n",
       "      <td>Tengoku to jigoku</td>\n",
       "      <td>1963</td>\n",
       "      <td>NaN</td>\n",
       "      <td>143 min</td>\n",
       "      <td>Crime, Drama, Mystery</td>\n",
       "      <td>8.4</td>\n",
       "      <td>An executive of a shoe company becomes a victi...</td>\n",
       "      <td>NaN</td>\n",
       "      <td>Akira Kurosawa</td>\n",
       "      <td>Toshirô Mifune</td>\n",
       "      <td>Yutaka Sada</td>\n",
       "      <td>Tatsuya Nakadai</td>\n",
       "      <td>Kyôko Kagawa</td>\n",
       "      <td>34357</td>\n",
       "      <td>NaN</td>\n",
       "    </tr>\n",
       "    <tr>\n",
       "      <th>92</th>\n",
       "      <td>https://m.media-amazon.com/images/M/MV5BNjAzMz...</td>\n",
       "      <td>Babam ve Oglum</td>\n",
       "      <td>2005</td>\n",
       "      <td>NaN</td>\n",
       "      <td>112 min</td>\n",
       "      <td>Drama, Family</td>\n",
       "      <td>8.3</td>\n",
       "      <td>The family of a left-wing journalist is torn a...</td>\n",
       "      <td>NaN</td>\n",
       "      <td>Çagan Irmak</td>\n",
       "      <td>Çetin Tekindor</td>\n",
       "      <td>Fikret Kuskan</td>\n",
       "      <td>Hümeyra</td>\n",
       "      <td>Ege Tanman</td>\n",
       "      <td>78925</td>\n",
       "      <td>NaN</td>\n",
       "    </tr>\n",
       "    <tr>\n",
       "      <th>121</th>\n",
       "      <td>https://m.media-amazon.com/images/M/MV5BZmM0NG...</td>\n",
       "      <td>Ikiru</td>\n",
       "      <td>1952</td>\n",
       "      <td>NaN</td>\n",
       "      <td>143 min</td>\n",
       "      <td>Drama</td>\n",
       "      <td>8.3</td>\n",
       "      <td>A bureaucrat tries to find a meaning in his li...</td>\n",
       "      <td>NaN</td>\n",
       "      <td>Akira Kurosawa</td>\n",
       "      <td>Takashi Shimura</td>\n",
       "      <td>Nobuo Kaneko</td>\n",
       "      <td>Shin'ichi Himori</td>\n",
       "      <td>Haruo Tanaka</td>\n",
       "      <td>68463</td>\n",
       "      <td>55,240</td>\n",
       "    </tr>\n",
       "    <tr>\n",
       "      <th>...</th>\n",
       "      <td>...</td>\n",
       "      <td>...</td>\n",
       "      <td>...</td>\n",
       "      <td>...</td>\n",
       "      <td>...</td>\n",
       "      <td>...</td>\n",
       "      <td>...</td>\n",
       "      <td>...</td>\n",
       "      <td>...</td>\n",
       "      <td>...</td>\n",
       "      <td>...</td>\n",
       "      <td>...</td>\n",
       "      <td>...</td>\n",
       "      <td>...</td>\n",
       "      <td>...</td>\n",
       "      <td>...</td>\n",
       "    </tr>\n",
       "    <tr>\n",
       "      <th>920</th>\n",
       "      <td>https://m.media-amazon.com/images/M/MV5BMjEzMj...</td>\n",
       "      <td>The Secret of Kells</td>\n",
       "      <td>2009</td>\n",
       "      <td>NaN</td>\n",
       "      <td>71 min</td>\n",
       "      <td>Animation, Adventure, Family</td>\n",
       "      <td>7.6</td>\n",
       "      <td>A young boy in a remote medieval outpost under...</td>\n",
       "      <td>81.0</td>\n",
       "      <td>Tomm Moore</td>\n",
       "      <td>Nora Twomey</td>\n",
       "      <td>Evan McGuire</td>\n",
       "      <td>Brendan Gleeson</td>\n",
       "      <td>Mick Lally</td>\n",
       "      <td>31779</td>\n",
       "      <td>686,383</td>\n",
       "    </tr>\n",
       "    <tr>\n",
       "      <th>926</th>\n",
       "      <td>https://m.media-amazon.com/images/M/MV5BMTI5Mz...</td>\n",
       "      <td>Dead Man's Shoes</td>\n",
       "      <td>2004</td>\n",
       "      <td>NaN</td>\n",
       "      <td>90 min</td>\n",
       "      <td>Crime, Drama, Thriller</td>\n",
       "      <td>7.6</td>\n",
       "      <td>A disaffected soldier returns to his hometown ...</td>\n",
       "      <td>52.0</td>\n",
       "      <td>Shane Meadows</td>\n",
       "      <td>Paddy Considine</td>\n",
       "      <td>Gary Stretch</td>\n",
       "      <td>Toby Kebbell</td>\n",
       "      <td>Stuart Wolfenden</td>\n",
       "      <td>49728</td>\n",
       "      <td>6,013</td>\n",
       "    </tr>\n",
       "    <tr>\n",
       "      <th>944</th>\n",
       "      <td>https://m.media-amazon.com/images/M/MV5BMDc2MG...</td>\n",
       "      <td>Batoru rowaiaru</td>\n",
       "      <td>2000</td>\n",
       "      <td>NaN</td>\n",
       "      <td>114 min</td>\n",
       "      <td>Action, Adventure, Drama</td>\n",
       "      <td>7.6</td>\n",
       "      <td>In the future, the Japanese government capture...</td>\n",
       "      <td>81.0</td>\n",
       "      <td>Kinji Fukasaku</td>\n",
       "      <td>Tatsuya Fujiwara</td>\n",
       "      <td>Aki Maeda</td>\n",
       "      <td>Tarô Yamamoto</td>\n",
       "      <td>Takeshi Kitano</td>\n",
       "      <td>169091</td>\n",
       "      <td>NaN</td>\n",
       "    </tr>\n",
       "    <tr>\n",
       "      <th>998</th>\n",
       "      <td>https://m.media-amazon.com/images/M/MV5BZTBmMj...</td>\n",
       "      <td>Lifeboat</td>\n",
       "      <td>1944</td>\n",
       "      <td>NaN</td>\n",
       "      <td>97 min</td>\n",
       "      <td>Drama, War</td>\n",
       "      <td>7.6</td>\n",
       "      <td>Several survivors of a torpedoed merchant ship...</td>\n",
       "      <td>78.0</td>\n",
       "      <td>Alfred Hitchcock</td>\n",
       "      <td>Tallulah Bankhead</td>\n",
       "      <td>John Hodiak</td>\n",
       "      <td>Walter Slezak</td>\n",
       "      <td>William Bendix</td>\n",
       "      <td>26471</td>\n",
       "      <td>NaN</td>\n",
       "    </tr>\n",
       "    <tr>\n",
       "      <th>999</th>\n",
       "      <td>https://m.media-amazon.com/images/M/MV5BMTY5OD...</td>\n",
       "      <td>The 39 Steps</td>\n",
       "      <td>1935</td>\n",
       "      <td>NaN</td>\n",
       "      <td>86 min</td>\n",
       "      <td>Crime, Mystery, Thriller</td>\n",
       "      <td>7.6</td>\n",
       "      <td>A man in London tries to help a counter-espion...</td>\n",
       "      <td>93.0</td>\n",
       "      <td>Alfred Hitchcock</td>\n",
       "      <td>Robert Donat</td>\n",
       "      <td>Madeleine Carroll</td>\n",
       "      <td>Lucie Mannheim</td>\n",
       "      <td>Godfrey Tearle</td>\n",
       "      <td>51853</td>\n",
       "      <td>NaN</td>\n",
       "    </tr>\n",
       "  </tbody>\n",
       "</table>\n",
       "<p>101 rows × 16 columns</p>\n",
       "</div>"
      ],
      "text/plain": [
       "                                           Poster_Link  \\\n",
       "30   https://m.media-amazon.com/images/M/MV5BYjBmYT...   \n",
       "54   https://m.media-amazon.com/images/M/MV5BNWJhMD...   \n",
       "77   https://m.media-amazon.com/images/M/MV5BOTI4NT...   \n",
       "92   https://m.media-amazon.com/images/M/MV5BNjAzMz...   \n",
       "121  https://m.media-amazon.com/images/M/MV5BZmM0NG...   \n",
       "..                                                 ...   \n",
       "920  https://m.media-amazon.com/images/M/MV5BMjEzMj...   \n",
       "926  https://m.media-amazon.com/images/M/MV5BMTI5Mz...   \n",
       "944  https://m.media-amazon.com/images/M/MV5BMDc2MG...   \n",
       "998  https://m.media-amazon.com/images/M/MV5BZTBmMj...   \n",
       "999  https://m.media-amazon.com/images/M/MV5BMTY5OD...   \n",
       "\n",
       "                  Series_Title Released_Year Certificate  Runtime  \\\n",
       "30                     Seppuku          1962         NaN  133 min   \n",
       "54   Ayla: The Daughter of War          2017         NaN  125 min   \n",
       "77           Tengoku to jigoku          1963         NaN  143 min   \n",
       "92              Babam ve Oglum          2005         NaN  112 min   \n",
       "121                      Ikiru          1952         NaN  143 min   \n",
       "..                         ...           ...         ...      ...   \n",
       "920        The Secret of Kells          2009         NaN   71 min   \n",
       "926           Dead Man's Shoes          2004         NaN   90 min   \n",
       "944            Batoru rowaiaru          2000         NaN  114 min   \n",
       "998                   Lifeboat          1944         NaN   97 min   \n",
       "999               The 39 Steps          1935         NaN   86 min   \n",
       "\n",
       "                            Genre  IMDB_Rating  \\\n",
       "30         Action, Drama, Mystery          8.6   \n",
       "54      Biography, Drama, History          8.4   \n",
       "77          Crime, Drama, Mystery          8.4   \n",
       "92                  Drama, Family          8.3   \n",
       "121                         Drama          8.3   \n",
       "..                            ...          ...   \n",
       "920  Animation, Adventure, Family          7.6   \n",
       "926        Crime, Drama, Thriller          7.6   \n",
       "944      Action, Adventure, Drama          7.6   \n",
       "998                    Drama, War          7.6   \n",
       "999      Crime, Mystery, Thriller          7.6   \n",
       "\n",
       "                                              Overview  Meta_score  \\\n",
       "30   When a ronin requesting seppuku at a feudal lo...        85.0   \n",
       "54   In 1950, amid-st the ravages of the Korean War...         NaN   \n",
       "77   An executive of a shoe company becomes a victi...         NaN   \n",
       "92   The family of a left-wing journalist is torn a...         NaN   \n",
       "121  A bureaucrat tries to find a meaning in his li...         NaN   \n",
       "..                                                 ...         ...   \n",
       "920  A young boy in a remote medieval outpost under...        81.0   \n",
       "926  A disaffected soldier returns to his hometown ...        52.0   \n",
       "944  In the future, the Japanese government capture...        81.0   \n",
       "998  Several survivors of a torpedoed merchant ship...        78.0   \n",
       "999  A man in London tries to help a counter-espion...        93.0   \n",
       "\n",
       "             Director              Star1              Star2             Star3  \\\n",
       "30   Masaki Kobayashi    Tatsuya Nakadai     Akira Ishihama    Shima Iwashita   \n",
       "54          Can Ulkay          Erdem Can     Çetin Tekindor   Ismail Hacioglu   \n",
       "77     Akira Kurosawa     Toshirô Mifune        Yutaka Sada   Tatsuya Nakadai   \n",
       "92        Çagan Irmak     Çetin Tekindor      Fikret Kuskan           Hümeyra   \n",
       "121    Akira Kurosawa    Takashi Shimura       Nobuo Kaneko  Shin'ichi Himori   \n",
       "..                ...                ...                ...               ...   \n",
       "920        Tomm Moore        Nora Twomey       Evan McGuire   Brendan Gleeson   \n",
       "926     Shane Meadows    Paddy Considine       Gary Stretch      Toby Kebbell   \n",
       "944    Kinji Fukasaku   Tatsuya Fujiwara          Aki Maeda     Tarô Yamamoto   \n",
       "998  Alfred Hitchcock  Tallulah Bankhead        John Hodiak     Walter Slezak   \n",
       "999  Alfred Hitchcock       Robert Donat  Madeleine Carroll    Lucie Mannheim   \n",
       "\n",
       "                Star4  No_of_Votes    Gross  \n",
       "30      Tetsurô Tanba        42004      NaN  \n",
       "54      Kyung-jin Lee        34112      NaN  \n",
       "77       Kyôko Kagawa        34357      NaN  \n",
       "92         Ege Tanman        78925      NaN  \n",
       "121      Haruo Tanaka        68463   55,240  \n",
       "..                ...          ...      ...  \n",
       "920        Mick Lally        31779  686,383  \n",
       "926  Stuart Wolfenden        49728    6,013  \n",
       "944    Takeshi Kitano       169091      NaN  \n",
       "998    William Bendix        26471      NaN  \n",
       "999    Godfrey Tearle        51853      NaN  \n",
       "\n",
       "[101 rows x 16 columns]"
      ]
     },
     "execution_count": 48,
     "metadata": {},
     "output_type": "execute_result"
    }
   ],
   "source": [
    "# Filter rows where Certificate is NaN\n",
    "filtered_df = df1[df1[\"Certificate\"].isna()]\n",
    "filtered_df"
   ]
  },
  {
   "cell_type": "code",
   "execution_count": 49,
   "id": "785fbdc9",
   "metadata": {},
   "outputs": [
    {
     "name": "stdout",
     "output_type": "stream",
     "text": [
      "Drama                           13\n",
      "Comedy, Drama                    8\n",
      "Drama, War                       6\n",
      "Action, Crime, Drama             4\n",
      "Drama, Romance                   3\n",
      "Crime, Drama, Mystery            3\n",
      "Crime, Drama, Thriller           3\n",
      "Action, Drama, Thriller          3\n",
      "Mystery, Thriller                3\n",
      "Drama, Thriller                  3\n",
      "Crime, Drama                     3\n",
      "Drama, Horror                    2\n",
      "Crime, Drama, Romance            2\n",
      "Crime, Drama, Film-Noir          2\n",
      "Comedy, Drama, Romance           2\n",
      "Drama, Music, Romance            2\n",
      "Comedy, Romance                  2\n",
      "Drama, Horror, Thriller          2\n",
      "Comedy, Drama, War               2\n",
      "Horror, Thriller                 1\n",
      "Action, Adventure, War           1\n",
      "Comedy, Musical, War             1\n",
      "Drama, Horror, Sci-Fi            1\n",
      "Comedy, Crime                    1\n",
      "Action, Adventure, Crime         1\n",
      "Thriller                         1\n",
      "Animation, Adventure, Family     1\n",
      "Action, Crime, Thriller          1\n",
      "Fantasy, Horror                  1\n",
      "Action, Adventure, Drama         1\n",
      "Comedy, Drama, Family            1\n",
      "Crime, Drama, Fantasy            1\n",
      "Action, Drama, Mystery           1\n",
      "Action, Adventure, Biography     1\n",
      "Fantasy, Horror, Mystery         1\n",
      "Drama, Family                    1\n",
      "Drama, Sci-Fi                    1\n",
      "Animation, Comedy, Drama         1\n",
      "Drama, Fantasy                   1\n",
      "Drama, Western                   1\n",
      "Adventure, Drama                 1\n",
      "Drama, History                   1\n",
      "Adventure, Comedy, Sci-Fi        1\n",
      "Drama, Fantasy, Mystery          1\n",
      "Action, Crime, Comedy            1\n",
      "Crime, Drama, Horror             1\n",
      "Biography, Drama, History        1\n",
      "Drama, Film-Noir, Mystery        1\n",
      "Comedy, Crime, Thriller          1\n",
      "Film-Noir, Mystery               1\n",
      "Drama, History, Thriller         1\n",
      "Crime, Mystery, Thriller         1\n",
      "Name: Genre, dtype: int64\n"
     ]
    }
   ],
   "source": [
    "\n",
    "\n",
    "# Count the frequency of each Genre value in the filtered DataFrame\n",
    "genre_frequency = filtered_df[\"Genre\"].value_counts()\n",
    "\n",
    "print(genre_frequency)\n"
   ]
  },
  {
   "cell_type": "code",
   "execution_count": 50,
   "id": "d44d32d9",
   "metadata": {},
   "outputs": [
    {
     "data": {
      "text/html": [
       "<div>\n",
       "<style scoped>\n",
       "    .dataframe tbody tr th:only-of-type {\n",
       "        vertical-align: middle;\n",
       "    }\n",
       "\n",
       "    .dataframe tbody tr th {\n",
       "        vertical-align: top;\n",
       "    }\n",
       "\n",
       "    .dataframe thead th {\n",
       "        text-align: right;\n",
       "    }\n",
       "</style>\n",
       "<table border=\"1\" class=\"dataframe\">\n",
       "  <thead>\n",
       "    <tr style=\"text-align: right;\">\n",
       "      <th></th>\n",
       "      <th>Genre</th>\n",
       "      <th>Certificate</th>\n",
       "    </tr>\n",
       "  </thead>\n",
       "  <tbody>\n",
       "    <tr>\n",
       "      <th>0</th>\n",
       "      <td>Drama</td>\n",
       "      <td>R</td>\n",
       "    </tr>\n",
       "  </tbody>\n",
       "</table>\n",
       "</div>"
      ],
      "text/plain": [
       "   Genre Certificate\n",
       "0  Drama           R"
      ]
     },
     "execution_count": 50,
     "metadata": {},
     "output_type": "execute_result"
    }
   ],
   "source": [
    "cvbn=df1.loc[df1['Genre']=='Drama', ['Genre', 'Certificate']].mode()\n",
    "cvbn"
   ]
  },
  {
   "cell_type": "code",
   "execution_count": 51,
   "id": "717ba039",
   "metadata": {},
   "outputs": [
    {
     "name": "stdout",
     "output_type": "stream",
     "text": [
      "R\n"
     ]
    }
   ],
   "source": [
    "x=cvbn.loc[0, 'Certificate']\n",
    "print(x)"
   ]
  },
  {
   "cell_type": "code",
   "execution_count": 52,
   "id": "ef8635a0",
   "metadata": {
    "scrolled": true
   },
   "outputs": [
    {
     "data": {
      "text/plain": [
       "Int64Index([121, 122, 206, 302, 370, 432, 433, 443, 492, 589, 619, 636, 742], dtype='int64')"
      ]
     },
     "execution_count": 52,
     "metadata": {},
     "output_type": "execute_result"
    }
   ],
   "source": [
    "# Find rows where Genre is \"Drama\" and Certificate is NaN\n",
    "drama_nan_rows = df1[(df1[\"Genre\"] == \"Drama\") & df1[\"Certificate\"].isna()]\n",
    "drama_nan_rows.index\n",
    "\n"
   ]
  },
  {
   "cell_type": "code",
   "execution_count": 53,
   "id": "dc202b85",
   "metadata": {},
   "outputs": [],
   "source": [
    "# Fill the NaN values in Certificate column for Drama rows with a specific value x=R\n",
    "df1.loc[drama_nan_rows.index, \"Certificate\"] = x"
   ]
  },
  {
   "cell_type": "code",
   "execution_count": 54,
   "id": "af580e95",
   "metadata": {},
   "outputs": [],
   "source": [
    "# print(df1['Certificate'].fillna(x, inplace=True))  #fill x=R for all NaN values in the column"
   ]
  },
  {
   "cell_type": "code",
   "execution_count": 55,
   "id": "8616f017",
   "metadata": {},
   "outputs": [
    {
     "data": {
      "text/plain": [
       "88"
      ]
     },
     "execution_count": 55,
     "metadata": {},
     "output_type": "execute_result"
    }
   ],
   "source": [
    "df1['Certificate'].isnull().sum()"
   ]
  },
  {
   "cell_type": "code",
   "execution_count": 56,
   "id": "d6dc4bca",
   "metadata": {},
   "outputs": [
    {
     "data": {
      "text/html": [
       "<div>\n",
       "<style scoped>\n",
       "    .dataframe tbody tr th:only-of-type {\n",
       "        vertical-align: middle;\n",
       "    }\n",
       "\n",
       "    .dataframe tbody tr th {\n",
       "        vertical-align: top;\n",
       "    }\n",
       "\n",
       "    .dataframe thead th {\n",
       "        text-align: right;\n",
       "    }\n",
       "</style>\n",
       "<table border=\"1\" class=\"dataframe\">\n",
       "  <thead>\n",
       "    <tr style=\"text-align: right;\">\n",
       "      <th></th>\n",
       "      <th>Genre</th>\n",
       "      <th>Certificate</th>\n",
       "    </tr>\n",
       "  </thead>\n",
       "  <tbody>\n",
       "    <tr>\n",
       "      <th>0</th>\n",
       "      <td>Comedy, Drama</td>\n",
       "      <td>R</td>\n",
       "    </tr>\n",
       "  </tbody>\n",
       "</table>\n",
       "</div>"
      ],
      "text/plain": [
       "           Genre Certificate\n",
       "0  Comedy, Drama           R"
      ]
     },
     "execution_count": 56,
     "metadata": {},
     "output_type": "execute_result"
    }
   ],
   "source": [
    "cvbn1=df1.loc[df1['Genre']=='Comedy, Drama', ['Genre', 'Certificate']].mode()\n",
    "cvbn1"
   ]
  },
  {
   "cell_type": "code",
   "execution_count": 57,
   "id": "646fa187",
   "metadata": {},
   "outputs": [
    {
     "name": "stdout",
     "output_type": "stream",
     "text": [
      "R\n"
     ]
    }
   ],
   "source": [
    "x2=cvbn1.loc[0, 'Certificate']\n",
    "print(x2)"
   ]
  },
  {
   "cell_type": "code",
   "execution_count": 58,
   "id": "3e133db1",
   "metadata": {},
   "outputs": [],
   "source": [
    "# Find rows where Genre is \"Comedy, Drama\" and Certificate is NaN\n",
    "drama_nan_rows = df1[(df1[\"Genre\"] == \"Comedy, Drama\") & df1[\"Certificate\"].isna()]\n",
    "# drama_nan_rows.index\n",
    "# Fill the NaN values in Certificate column for Drama rows with a specific value x=R\n",
    "df1.loc[drama_nan_rows.index, \"Certificate\"] = x2"
   ]
  },
  {
   "cell_type": "code",
   "execution_count": 59,
   "id": "c6ea75e0",
   "metadata": {},
   "outputs": [
    {
     "data": {
      "text/plain": [
       "80"
      ]
     },
     "execution_count": 59,
     "metadata": {},
     "output_type": "execute_result"
    }
   ],
   "source": [
    "df1['Certificate'].isnull().sum()"
   ]
  },
  {
   "cell_type": "code",
   "execution_count": 60,
   "id": "6f72cea9",
   "metadata": {},
   "outputs": [],
   "source": [
    "cvbn3=df1.loc[df1['Genre']=='Drama, War', ['Genre', 'Certificate']].mode()\n",
    "x3=cvbn3.loc[0, 'Certificate']\n",
    "# Find rows where Genre is \"Comedy, Drama\" and Certificate is NaN\n",
    "drama_nan_rows = df1[(df1[\"Genre\"] == \"Drama, War\") & df1[\"Certificate\"].isna()]\n",
    "# drama_nan_rows.index\n",
    "# Fill the NaN values in Certificate column for Drama rows with a specific value x=R\n",
    "df1.loc[drama_nan_rows.index, \"Certificate\"] = x3"
   ]
  },
  {
   "cell_type": "code",
   "execution_count": 61,
   "id": "51066463",
   "metadata": {},
   "outputs": [],
   "source": [
    "cvbn4=df1.loc[df1['Genre']=='Action, Crime, Drama', ['Genre', 'Certificate']].mode()\n",
    "x4=cvbn4.loc[0, 'Certificate']\n",
    "# Find rows where Genre is \"Comedy, Drama\" and Certificate is NaN\n",
    "drama_nan_rows = df1[(df1[\"Genre\"] == \"Action, Crime, Drama\") & df1[\"Certificate\"].isna()]\n",
    "# drama_nan_rows.index\n",
    "# Fill the NaN values in Certificate column for Drama rows with a specific value x=R\n",
    "df1.loc[drama_nan_rows.index, \"Certificate\"] = x4"
   ]
  },
  {
   "cell_type": "code",
   "execution_count": 62,
   "id": "0d587250",
   "metadata": {},
   "outputs": [
    {
     "data": {
      "text/plain": [
       "70"
      ]
     },
     "execution_count": 62,
     "metadata": {},
     "output_type": "execute_result"
    }
   ],
   "source": [
    "df1['Certificate'].isnull().sum()"
   ]
  },
  {
   "cell_type": "code",
   "execution_count": 63,
   "id": "35f71142",
   "metadata": {},
   "outputs": [],
   "source": [
    "# Genres to exclude\n",
    "# excluded_genres = ['Comedy, Drama', 'Drama', 'Drama, War', 'Action, Crime, Drama']\n",
    "\n",
    "# Filter rows with genres not in the excluded list\n",
    "# filtered_df1 = df1[~df1['Genre'].isin(excluded_genres)]\n",
    "\n",
    "# Group by Genre and calculate the mode of 'Certificate'"
   ]
  },
  {
   "cell_type": "code",
   "execution_count": 64,
   "id": "eabe25b3",
   "metadata": {},
   "outputs": [
    {
     "name": "stdout",
     "output_type": "stream",
     "text": [
      "None\n"
     ]
    },
    {
     "data": {
      "text/plain": [
       "0"
      ]
     },
     "execution_count": 64,
     "metadata": {},
     "output_type": "execute_result"
    }
   ],
   "source": [
    "print(df1['Certificate'].fillna('R', inplace=True))  #fill x=R for all NaN values in the column\n",
    "df1['Certificate'].isnull().sum()"
   ]
  },
  {
   "cell_type": "code",
   "execution_count": 65,
   "id": "de9becaf",
   "metadata": {},
   "outputs": [
    {
     "data": {
      "text/plain": [
       "Poster_Link        0\n",
       "Series_Title       0\n",
       "Released_Year      0\n",
       "Certificate        0\n",
       "Runtime            0\n",
       "Genre              0\n",
       "IMDB_Rating        0\n",
       "Overview           0\n",
       "Meta_score       157\n",
       "Director           0\n",
       "Star1              0\n",
       "Star2              0\n",
       "Star3              0\n",
       "Star4              0\n",
       "No_of_Votes        0\n",
       "Gross            169\n",
       "dtype: int64"
      ]
     },
     "execution_count": 65,
     "metadata": {},
     "output_type": "execute_result"
    }
   ],
   "source": [
    "df1.isnull().sum()  #now NaN is in the cols of Meta_score and Gross"
   ]
  },
  {
   "cell_type": "code",
   "execution_count": 66,
   "id": "ddc45e48",
   "metadata": {},
   "outputs": [
    {
     "name": "stdout",
     "output_type": "stream",
     "text": [
      "Meta_score     1.000000\n",
      "IMDB_Rating    0.268531\n",
      "No_of_Votes   -0.018507\n",
      "Name: Meta_score, dtype: float64\n"
     ]
    },
    {
     "name": "stderr",
     "output_type": "stream",
     "text": [
      "C:\\Users\\Shyam Singh\\AppData\\Local\\Temp\\ipykernel_18568\\1289437242.py:4: FutureWarning: The default value of numeric_only in DataFrame.corr is deprecated. In a future version, it will default to False. Select only valid columns or specify the value of numeric_only to silence this warning.\n",
      "  correlation_matrix = df1.corr()\n"
     ]
    }
   ],
   "source": [
    "import pandas as pd\n",
    "\n",
    "# Calculate correlations\n",
    "correlation_matrix = df1.corr()\n",
    "\n",
    "# Print the correlation of Meta_score with other columns\n",
    "meta_score_correlations = correlation_matrix['Meta_score'].sort_values(ascending=False)\n",
    "\n",
    "print(meta_score_correlations)\n"
   ]
  },
  {
   "cell_type": "code",
   "execution_count": 67,
   "id": "0ebd03d7",
   "metadata": {},
   "outputs": [],
   "source": [
    "mean_meta_score = df1['Meta_score'].mean()\n",
    "df1['Meta_score'].fillna(mean_meta_score, inplace=True)\n"
   ]
  },
  {
   "cell_type": "code",
   "execution_count": 68,
   "id": "c81b69ba",
   "metadata": {},
   "outputs": [
    {
     "data": {
      "text/plain": [
       "Poster_Link        0\n",
       "Series_Title       0\n",
       "Released_Year      0\n",
       "Certificate        0\n",
       "Runtime            0\n",
       "Genre              0\n",
       "IMDB_Rating        0\n",
       "Overview           0\n",
       "Meta_score         0\n",
       "Director           0\n",
       "Star1              0\n",
       "Star2              0\n",
       "Star3              0\n",
       "Star4              0\n",
       "No_of_Votes        0\n",
       "Gross            169\n",
       "dtype: int64"
      ]
     },
     "execution_count": 68,
     "metadata": {},
     "output_type": "execute_result"
    }
   ],
   "source": [
    "df1.isnull().sum()"
   ]
  },
  {
   "cell_type": "code",
   "execution_count": 69,
   "id": "55840daa",
   "metadata": {},
   "outputs": [],
   "source": [
    "# Assuming df is your DataFrame\n",
    "df1['Gross'] = df1['Gross'].str.replace(',', '')  # Remove commas\n",
    "\n",
    "df1['Gross'] = pd.to_numeric(df1['Gross'], errors='coerce', downcast='float')\n"
   ]
  },
  {
   "cell_type": "code",
   "execution_count": 70,
   "id": "a5f81a1d",
   "metadata": {},
   "outputs": [
    {
     "data": {
      "text/html": [
       "<div>\n",
       "<style scoped>\n",
       "    .dataframe tbody tr th:only-of-type {\n",
       "        vertical-align: middle;\n",
       "    }\n",
       "\n",
       "    .dataframe tbody tr th {\n",
       "        vertical-align: top;\n",
       "    }\n",
       "\n",
       "    .dataframe thead th {\n",
       "        text-align: right;\n",
       "    }\n",
       "</style>\n",
       "<table border=\"1\" class=\"dataframe\">\n",
       "  <thead>\n",
       "    <tr style=\"text-align: right;\">\n",
       "      <th></th>\n",
       "      <th>IMDB_Rating</th>\n",
       "      <th>Meta_score</th>\n",
       "      <th>No_of_Votes</th>\n",
       "      <th>Gross</th>\n",
       "    </tr>\n",
       "  </thead>\n",
       "  <tbody>\n",
       "    <tr>\n",
       "      <th>count</th>\n",
       "      <td>1000.000000</td>\n",
       "      <td>1000.00000</td>\n",
       "      <td>1.000000e+03</td>\n",
       "      <td>8.310000e+02</td>\n",
       "    </tr>\n",
       "    <tr>\n",
       "      <th>mean</th>\n",
       "      <td>7.949300</td>\n",
       "      <td>77.97153</td>\n",
       "      <td>2.736929e+05</td>\n",
       "      <td>6.803475e+07</td>\n",
       "    </tr>\n",
       "    <tr>\n",
       "      <th>std</th>\n",
       "      <td>0.275491</td>\n",
       "      <td>11.36206</td>\n",
       "      <td>3.273727e+05</td>\n",
       "      <td>1.097500e+08</td>\n",
       "    </tr>\n",
       "    <tr>\n",
       "      <th>min</th>\n",
       "      <td>7.600000</td>\n",
       "      <td>28.00000</td>\n",
       "      <td>2.508800e+04</td>\n",
       "      <td>1.305000e+03</td>\n",
       "    </tr>\n",
       "    <tr>\n",
       "      <th>25%</th>\n",
       "      <td>7.700000</td>\n",
       "      <td>72.00000</td>\n",
       "      <td>5.552625e+04</td>\n",
       "      <td>3.253559e+06</td>\n",
       "    </tr>\n",
       "    <tr>\n",
       "      <th>50%</th>\n",
       "      <td>7.900000</td>\n",
       "      <td>77.97153</td>\n",
       "      <td>1.385485e+05</td>\n",
       "      <td>2.353089e+07</td>\n",
       "    </tr>\n",
       "    <tr>\n",
       "      <th>75%</th>\n",
       "      <td>8.100000</td>\n",
       "      <td>85.25000</td>\n",
       "      <td>3.741612e+05</td>\n",
       "      <td>8.075089e+07</td>\n",
       "    </tr>\n",
       "    <tr>\n",
       "      <th>max</th>\n",
       "      <td>9.300000</td>\n",
       "      <td>100.00000</td>\n",
       "      <td>2.343110e+06</td>\n",
       "      <td>9.366622e+08</td>\n",
       "    </tr>\n",
       "  </tbody>\n",
       "</table>\n",
       "</div>"
      ],
      "text/plain": [
       "       IMDB_Rating  Meta_score   No_of_Votes         Gross\n",
       "count  1000.000000  1000.00000  1.000000e+03  8.310000e+02\n",
       "mean      7.949300    77.97153  2.736929e+05  6.803475e+07\n",
       "std       0.275491    11.36206  3.273727e+05  1.097500e+08\n",
       "min       7.600000    28.00000  2.508800e+04  1.305000e+03\n",
       "25%       7.700000    72.00000  5.552625e+04  3.253559e+06\n",
       "50%       7.900000    77.97153  1.385485e+05  2.353089e+07\n",
       "75%       8.100000    85.25000  3.741612e+05  8.075089e+07\n",
       "max       9.300000   100.00000  2.343110e+06  9.366622e+08"
      ]
     },
     "execution_count": 70,
     "metadata": {},
     "output_type": "execute_result"
    }
   ],
   "source": [
    "df1.describe()"
   ]
  },
  {
   "cell_type": "code",
   "execution_count": 71,
   "id": "f08fc1a0",
   "metadata": {},
   "outputs": [
    {
     "name": "stdout",
     "output_type": "stream",
     "text": [
      "Gross          1.000000\n",
      "No_of_Votes    0.574393\n",
      "IMDB_Rating    0.095923\n",
      "Meta_score    -0.032455\n",
      "Name: Gross, dtype: float64\n"
     ]
    },
    {
     "name": "stderr",
     "output_type": "stream",
     "text": [
      "C:\\Users\\Shyam Singh\\AppData\\Local\\Temp\\ipykernel_18568\\2083369208.py:1: FutureWarning: The default value of numeric_only in DataFrame.corr is deprecated. In a future version, it will default to False. Select only valid columns or specify the value of numeric_only to silence this warning.\n",
      "  correlation_matrix = df1.corr()\n"
     ]
    }
   ],
   "source": [
    "correlation_matrix = df1.corr()\n",
    "gross_correlations = correlation_matrix['Gross'].sort_values(ascending=False)\n",
    "print(gross_correlations)\n"
   ]
  },
  {
   "cell_type": "code",
   "execution_count": 72,
   "id": "5de12396",
   "metadata": {},
   "outputs": [
    {
     "name": "stdout",
     "output_type": "stream",
     "text": [
      "0      2.834147e+07\n",
      "1      1.349664e+08\n",
      "2      1.988395e+08\n",
      "3      1.988395e+08\n",
      "4      1.988395e+08\n",
      "           ...     \n",
      "995    7.010455e+07\n",
      "996    7.010455e+07\n",
      "997    7.010455e+07\n",
      "998    7.010455e+07\n",
      "999    7.010455e+07\n",
      "Name: Gross, Length: 1000, dtype: float64\n"
     ]
    }
   ],
   "source": [
    "\n",
    "# Calculate mean 'Gross' for each 'No_of_Votes' group\n",
    "grouped_gross_mean = df1.groupby('IMDB_Rating')['Gross'].transform('mean')\n",
    "\n",
    "# Print the calculated mean values for verification\n",
    "print(grouped_gross_mean)\n",
    "\n",
    "# Fill NaN values in 'Gross' using the grouped mean\n",
    "df1['Gross'].fillna(grouped_gross_mean, inplace=True)\n"
   ]
  },
  {
   "cell_type": "code",
   "execution_count": 73,
   "id": "85e4098d",
   "metadata": {},
   "outputs": [
    {
     "data": {
      "text/plain": [
       "Poster_Link      0\n",
       "Series_Title     0\n",
       "Released_Year    0\n",
       "Certificate      0\n",
       "Runtime          0\n",
       "Genre            0\n",
       "IMDB_Rating      0\n",
       "Overview         0\n",
       "Meta_score       0\n",
       "Director         0\n",
       "Star1            0\n",
       "Star2            0\n",
       "Star3            0\n",
       "Star4            0\n",
       "No_of_Votes      0\n",
       "Gross            0\n",
       "dtype: int64"
      ]
     },
     "execution_count": 73,
     "metadata": {},
     "output_type": "execute_result"
    }
   ],
   "source": [
    "df1.isnull().sum()"
   ]
  },
  {
   "cell_type": "code",
   "execution_count": 74,
   "id": "ead8f71c",
   "metadata": {},
   "outputs": [
    {
     "data": {
      "text/plain": [
       "0"
      ]
     },
     "execution_count": 74,
     "metadata": {},
     "output_type": "execute_result"
    }
   ],
   "source": [
    "df1.duplicated().sum()"
   ]
  },
  {
   "cell_type": "code",
   "execution_count": 75,
   "id": "4c34d4da",
   "metadata": {},
   "outputs": [
    {
     "data": {
      "text/plain": [
       "(1000, 16)"
      ]
     },
     "execution_count": 75,
     "metadata": {},
     "output_type": "execute_result"
    }
   ],
   "source": [
    "df1.shape"
   ]
  },
  {
   "cell_type": "code",
   "execution_count": 76,
   "id": "0321859d",
   "metadata": {},
   "outputs": [
    {
     "data": {
      "text/plain": [
       "Index(['Poster_Link', 'Series_Title', 'Released_Year', 'Certificate',\n",
       "       'Runtime', 'Genre', 'IMDB_Rating', 'Overview', 'Meta_score', 'Director',\n",
       "       'Star1', 'Star2', 'Star3', 'Star4', 'No_of_Votes', 'Gross'],\n",
       "      dtype='object')"
      ]
     },
     "execution_count": 76,
     "metadata": {},
     "output_type": "execute_result"
    }
   ],
   "source": [
    "df1.columns"
   ]
  },
  {
   "cell_type": "code",
   "execution_count": 89,
   "id": "f7024711",
   "metadata": {},
   "outputs": [
    {
     "data": {
      "text/plain": [
       "<BarContainer object of 15 artists>"
      ]
     },
     "execution_count": 89,
     "metadata": {},
     "output_type": "execute_result"
    },
    {
     "data": {
      "image/png": "[encoded data removed]",
      "text/plain": [
       "<Figure size 640x480 with 1 Axes>"
      ]
     },
     "metadata": {},
     "output_type": "display_data"
    }
   ],
   "source": [
    "plt.bar(df1['Certificate'].head(15),df1['IMDB_Rating'].head(15), color='maroon')"
   ]
  },
  {
   "cell_type": "code",
   "execution_count": 82,
   "id": "fad2247a",
   "metadata": {},
   "outputs": [
    {
     "data": {
      "text/plain": [
       "<matplotlib.collections.PathCollection at 0x2789fa99690>"
      ]
     },
     "execution_count": 82,
     "metadata": {},
     "output_type": "execute_result"
    },
    {
     "data": {
      "image/png": "[encoded data removed]",
      "text/plain": [
       "<Figure size 1500x600 with 1 Axes>"
      ]
     },
     "metadata": {},
     "output_type": "display_data"
    }
   ],
   "source": [
    "plt.figure(figsize=(15,6))\n",
    "plt.scatter(df1['Runtime'], df1['IMDB_Rating'], color='maroon')"
   ]
  },
  {
   "cell_type": "code",
   "execution_count": 92,
   "id": "129be733",
   "metadata": {},
   "outputs": [
    {
     "data": {
      "text/plain": [
       "(array([280., 257., 268.,  67.,  75.,  35.,   5.,   8.,   3.,   2.]),\n",
       " array([7.6 , 7.77, 7.94, 8.11, 8.28, 8.45, 8.62, 8.79, 8.96, 9.13, 9.3 ]),\n",
       " [<matplotlib.patches.Polygon at 0x278a1061ab0>])"
      ]
     },
     "execution_count": 92,
     "metadata": {},
     "output_type": "execute_result"
    },
    {
     "data": {
      "image/png": "[encoded data removed]",
      "text/plain": [
       "<Figure size 640x480 with 1 Axes>"
      ]
     },
     "metadata": {},
     "output_type": "display_data"
    }
   ],
   "source": [
    "# plt.figure(figsize=(15,6))\n",
    "plt.hist(df1['IMDB_Rating'], histtype='step',color='maroon')"
   ]
  },
  {
   "cell_type": "code",
   "execution_count": 108,
   "id": "57587f3c",
   "metadata": {},
   "outputs": [
    {
     "data": {
      "image/png": "[encoded data removed]",
      "text/plain": [
       "<Figure size 640x480 with 1 Axes>"
      ]
     },
     "metadata": {},
     "output_type": "display_data"
    }
   ],
   "source": [
    "plt.pie(df1['IMDB_Rating'].head(5), labels=list(df1['Series_Title'].head(5)), colors=['g', 'c','b','y','r'])\n",
    "plt.legend()\n",
    "plt.show()"
   ]
  },
  {
   "cell_type": "code",
   "execution_count": 101,
   "id": "cd9698af",
   "metadata": {},
   "outputs": [
    {
     "data": {
      "text/plain": [
       "<BarContainer object of 3 artists>"
      ]
     },
     "execution_count": 101,
     "metadata": {},
     "output_type": "execute_result"
    },
    {
     "data": {
      "image/png": "[encoded data removed]",
      "text/plain": [
       "<Figure size 640x480 with 1 Axes>"
      ]
     },
     "metadata": {},
     "output_type": "display_data"
    }
   ],
   "source": [
    "x=[2,4,6,8]\n",
    "y=[10,23,43,33]\n",
    "\n",
    "x1=[4,8,24]\n",
    "y1=[3,6,9]\n",
    "\n",
    "x2=[6,12,18]\n",
    "y2=[12,24,36]\n",
    "\n",
    "plt.bar(x,y)\n",
    "plt.bar(x1,y1)\n",
    "plt.bar(x2,y2)"
   ]
  },
  {
   "cell_type": "code",
   "execution_count": 116,
   "id": "49cf613c",
   "metadata": {},
   "outputs": [
    {
     "data": {
      "text/plain": [
       "Index(['Poster_Link', 'Series_Title', 'Released_Year', 'Certificate',\n",
       "       'Runtime', 'Genre', 'IMDB_Rating', 'Overview', 'Meta_score', 'Director',\n",
       "       'Star1', 'Star2', 'Star3', 'Star4', 'No_of_Votes', 'Gross'],\n",
       "      dtype='object')"
      ]
     },
     "execution_count": 116,
     "metadata": {},
     "output_type": "execute_result"
    }
   ],
   "source": [
    "df1.columns"
   ]
  },
  {
   "cell_type": "code",
   "execution_count": 113,
   "id": "5569c356",
   "metadata": {},
   "outputs": [
    {
     "data": {
      "text/plain": [
       "{'whiskers': [<matplotlib.lines.Line2D at 0x2789bdf6f80>,\n",
       "  <matplotlib.lines.Line2D at 0x2789bdf7220>],\n",
       " 'caps': [<matplotlib.lines.Line2D at 0x2789bdf74c0>,\n",
       "  <matplotlib.lines.Line2D at 0x2789bdf7760>],\n",
       " 'boxes': [<matplotlib.lines.Line2D at 0x2789bdf6ce0>],\n",
       " 'medians': [<matplotlib.lines.Line2D at 0x2789bdf79a0>],\n",
       " 'fliers': [<matplotlib.lines.Line2D at 0x2789bdf7c40>],\n",
       " 'means': []}"
      ]
     },
     "execution_count": 113,
     "metadata": {},
     "output_type": "execute_result"
    },
    {
     "data": {
      "image/png": "[encoded data removed]",
      "text/plain": [
       "<Figure size 640x480 with 1 Axes>"
      ]
     },
     "metadata": {},
     "output_type": "display_data"
    }
   ],
   "source": [
    "plt.boxplot(df1.IMDB_Rating)"
   ]
  },
  {
   "cell_type": "code",
   "execution_count": 126,
   "id": "2ef557a1",
   "metadata": {},
   "outputs": [
    {
     "data": {
      "image/png": "[encoded data removed]",
      "text/plain": [
       "<Figure size 640x480 with 4 Axes>"
      ]
     },
     "metadata": {},
     "output_type": "display_data"
    }
   ],
   "source": [
    "plt.subplot(2,2,1)\n",
    "plt.hist(df1['No_of_Votes'])\n",
    "plt.subplot(2,2,2)\n",
    "plt.scatter(df1['No_of_Votes'], df1['Gross'])\n",
    "plt.subplot(2,2,3)\n",
    "plt.bar(df1['IMDB_Rating'].head(4), df1['Gross'].head(4))\n",
    "plt.subplot(2,2,4)\n",
    "plt.pie(df1['IMDB_Rating'].head(5), labels=list(df1['Series_Title'].head(5)), colors=['g', 'c','b','y','r'])\n",
    "# plt.legend()////\n",
    "plt.show()"
   ]
  },
  {
   "cell_type": "code",
   "execution_count": 133,
   "id": "39a8328a",
   "metadata": {},
   "outputs": [
    {
     "data": {
      "image/png": "[encoded data removed]",
      "text/plain": [
       "<Figure size 640x480 with 4 Axes>"
      ]
     },
     "metadata": {},
     "output_type": "display_data"
    }
   ],
   "source": [
    "fig, axis = plt.subplots(2,2)\n",
    "axis[0,0].hist(df1['No_of_Votes'])\n",
    "axis[0,0].set_title(\"axis[0,0]\")\n",
    "axis[0,1].hist(df1['No_of_Votes'])\n",
    "axis[0,1].set_title(\"axis[0,1]\")\n",
    "axis[1,0].hist(df1['No_of_Votes'])\n",
    "axis[1,0].set_title(\"axis[1,0]\")\n",
    "axis[1,1].hist(df1['No_of_Votes'])\n",
    "axis[1,1].set_title(\"axis[1,1]\")\n",
    "plt.show()"
   ]
  },
  {
   "cell_type": "code",
   "execution_count": null,
   "id": "e43575ea",
   "metadata": {},
   "outputs": [],
   "source": []
  }
 ],
 "metadata": {
  "kernelspec": {
   "display_name": "Python 3 (ipykernel)",
   "language": "python",
   "name": "python3"
  },
  "language_info": {
   "codemirror_mode": {
    "name": "ipython",
    "version": 3
   },
   "file_extension": ".py",
   "mimetype": "text/x-python",
   "name": "python",
   "nbconvert_exporter": "python",
   "pygments_lexer": "ipython3",
   "version": "3.10.9"
  }
 },
 "nbformat": 4,
 "nbformat_minor": 5
}
