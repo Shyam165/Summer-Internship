{
 "cells": [
  {
   "cell_type": "markdown",
   "id": "bcc47ae5",
   "metadata": {},
   "source": [
    "##### Assignment 1"
   ]
  },
  {
   "cell_type": "raw",
   "id": "b0d16052",
   "metadata": {},
   "source": [
    "#    Difference between Procedural and object-oriented programming (OOP)\n",
    "Procedural and object-oriented programming (OOP) are two different programming paradigms, each with its own approach to organizing and structuring code. Here are the key differences between procedural and object-oriented programming languages:\n",
    "\n",
    "Programming Paradigm:\n",
    "\n",
    "Procedural: In procedural programming, the focus is on writing a sequence of procedures or functions that manipulate data. The emphasis is on the steps to be taken and how to perform them.\n",
    "Object-Oriented: Object-oriented programming, as the name suggests, revolves around objects. It structures the program as a collection of objects that interact with each other through methods, properties, and messages.\n",
    "Data and Functions:\n",
    "\n",
    "Procedural: In procedural languages, data and functions (procedures) are separate entities. Functions take data as input, process it, and produce some output.\n",
    "Object-Oriented: In OOP languages, data and functions are encapsulated together within objects. Objects represent real-world entities and have attributes (data) and methods (functions) that operate on the data.\n",
    "Encapsulation:\n",
    "\n",
    "Procedural: Limited encapsulation is possible through the use of data hiding techniques, but it is not a core feature of procedural programming.\n",
    "Object-Oriented: OOP promotes strong encapsulation. Objects encapsulate their internal state, and access to the object's data is restricted to its methods, ensuring data integrity and better abstraction.\n",
    "Inheritance:\n",
    "\n",
    "Procedural: Procedural languages usually do not support inheritance.\n",
    "Object-Oriented: Inheritance is a fundamental concept in OOP, allowing objects (subclasses) to inherit attributes and behaviors from other objects (superclasses). It promotes code reusability and hierarchical organization.\n",
    "Polymorphism:\n",
    "\n",
    "Procedural: Polymorphism is not natively supported in procedural languages.\n",
    "Object-Oriented: Polymorphism is a key feature of OOP. It allows objects of different classes to be treated as objects of a common superclass, enabling generic programming and flexibility.\n",
    "Code Reusability:\n",
    "\n",
    "Procedural: Code reusability can be achieved through functions and subroutines, but it might not be as straightforward as in OOP.\n",
    "Object-Oriented: OOP inherently supports code reusability through inheritance and interfaces, making it easier to create modular and reusable code.\n",
    "Examples of Procedural Languages:\n",
    "\n",
    "C, Fortran, COBOL, Pascal.\n",
    "Examples of Object-Oriented Languages:\n",
    "\n",
    "Java, C++, Python, C#.\n",
    "Choosing between procedural and object-oriented languages depends on the project requirements, the team's expertise, and the nature of the application being developed. Each paradigm has its strengths and weaknesses, so understanding the differences helps developers make informed decisions about which approach best suits their needs.\n"
   ]
  },
  {
   "cell_type": "code",
   "execution_count": 1,
   "id": "b31d0311",
   "metadata": {},
   "outputs": [
    {
     "name": "stdout",
     "output_type": "stream",
     "text": [
      "Hello world!\n"
     ]
    }
   ],
   "source": [
    "print(\"Hello world!\")"
   ]
  },
  {
   "cell_type": "code",
   "execution_count": 1,
   "id": "b1d520f4",
   "metadata": {},
   "outputs": [],
   "source": [
    "var1=32"
   ]
  },
  {
   "cell_type": "code",
   "execution_count": 2,
   "id": "606fc36d",
   "metadata": {},
   "outputs": [
    {
     "name": "stdout",
     "output_type": "stream",
     "text": [
      "<class 'int'>\n"
     ]
    }
   ],
   "source": [
    "print(type(var1))"
   ]
  },
  {
   "cell_type": "code",
   "execution_count": 3,
   "id": "97f675fb",
   "metadata": {},
   "outputs": [
    {
     "name": "stdout",
     "output_type": "stream",
     "text": [
      "32 is integer : True\n"
     ]
    }
   ],
   "source": [
    "print(f\"{var1} is integer :\",  isinstance(var1, int))"
   ]
  },
  {
   "cell_type": "code",
   "execution_count": 4,
   "id": "8807291c",
   "metadata": {},
   "outputs": [],
   "source": [
    "list=[23, \"rohit\", 4, 4, 5, 3, 2, 1 ]"
   ]
  },
  {
   "cell_type": "code",
   "execution_count": 5,
   "id": "b4fea244",
   "metadata": {},
   "outputs": [
    {
     "data": {
      "text/plain": [
       "[23, 'rohit', 4, 4, 5, 3, 2, 1]"
      ]
     },
     "execution_count": 5,
     "metadata": {},
     "output_type": "execute_result"
    }
   ],
   "source": [
    "list"
   ]
  },
  {
   "cell_type": "code",
   "execution_count": 6,
   "id": "dabaaa6d",
   "metadata": {},
   "outputs": [
    {
     "data": {
      "text/plain": [
       "[23, 'rohit', 4, 4, 5]"
      ]
     },
     "execution_count": 6,
     "metadata": {},
     "output_type": "execute_result"
    }
   ],
   "source": [
    "list[0:5]"
   ]
  },
  {
   "cell_type": "code",
   "execution_count": 7,
   "id": "61bac1ce",
   "metadata": {},
   "outputs": [
    {
     "data": {
      "text/plain": [
       "[23, 'rohit', 4, 4, 5]"
      ]
     },
     "execution_count": 7,
     "metadata": {},
     "output_type": "execute_result"
    }
   ],
   "source": [
    "list[:5]"
   ]
  },
  {
   "cell_type": "code",
   "execution_count": 8,
   "id": "01d53f00",
   "metadata": {},
   "outputs": [
    {
     "data": {
      "text/plain": [
       "[3, 2]"
      ]
     },
     "execution_count": 8,
     "metadata": {},
     "output_type": "execute_result"
    }
   ],
   "source": [
    "list[-3:-1]"
   ]
  },
  {
   "cell_type": "code",
   "execution_count": 9,
   "id": "ff821c9e",
   "metadata": {},
   "outputs": [
    {
     "data": {
      "text/plain": [
       "[3, 2, 1]"
      ]
     },
     "execution_count": 9,
     "metadata": {},
     "output_type": "execute_result"
    }
   ],
   "source": [
    "list[-3:]"
   ]
  },
  {
   "cell_type": "code",
   "execution_count": 10,
   "id": "52293b8e",
   "metadata": {},
   "outputs": [],
   "source": [
    "list.append(23)"
   ]
  },
  {
   "cell_type": "code",
   "execution_count": 11,
   "id": "ebd97f3c",
   "metadata": {},
   "outputs": [
    {
     "data": {
      "text/plain": [
       "[23, 'rohit', 4, 4, 5, 3, 2, 1, 23]"
      ]
     },
     "execution_count": 11,
     "metadata": {},
     "output_type": "execute_result"
    }
   ],
   "source": [
    "list"
   ]
  },
  {
   "cell_type": "code",
   "execution_count": 12,
   "id": "9c1ea900",
   "metadata": {},
   "outputs": [],
   "source": [
    "list.remove(4)"
   ]
  },
  {
   "cell_type": "code",
   "execution_count": 13,
   "id": "d5ed03ef",
   "metadata": {},
   "outputs": [
    {
     "data": {
      "text/plain": [
       "[23, 'rohit', 4, 5, 3, 2, 1, 23]"
      ]
     },
     "execution_count": 13,
     "metadata": {},
     "output_type": "execute_result"
    }
   ],
   "source": [
    "list"
   ]
  },
  {
   "cell_type": "code",
   "execution_count": 14,
   "id": "80b322b3",
   "metadata": {},
   "outputs": [
    {
     "data": {
      "text/plain": [
       "2"
      ]
     },
     "execution_count": 14,
     "metadata": {},
     "output_type": "execute_result"
    }
   ],
   "source": [
    "list.pop(5)"
   ]
  },
  {
   "cell_type": "code",
   "execution_count": 15,
   "id": "25765df6",
   "metadata": {},
   "outputs": [
    {
     "data": {
      "text/plain": [
       "[23, 'rohit', 4, 5, 3, 1, 23]"
      ]
     },
     "execution_count": 15,
     "metadata": {},
     "output_type": "execute_result"
    }
   ],
   "source": [
    "list\n"
   ]
  },
  {
   "cell_type": "code",
   "execution_count": 16,
   "id": "85a559a5",
   "metadata": {},
   "outputs": [],
   "source": [
    "list.remove(\"rohit\")"
   ]
  },
  {
   "cell_type": "code",
   "execution_count": 17,
   "id": "c8fa4c3f",
   "metadata": {},
   "outputs": [],
   "source": [
    "list.sort()"
   ]
  },
  {
   "cell_type": "code",
   "execution_count": 18,
   "id": "b4627a52",
   "metadata": {},
   "outputs": [
    {
     "data": {
      "text/plain": [
       "[1, 3, 4, 5, 23, 23]"
      ]
     },
     "execution_count": 18,
     "metadata": {},
     "output_type": "execute_result"
    }
   ],
   "source": [
    "list"
   ]
  },
  {
   "cell_type": "code",
   "execution_count": 19,
   "id": "43627705",
   "metadata": {},
   "outputs": [],
   "source": [
    "list.reverse()"
   ]
  },
  {
   "cell_type": "code",
   "execution_count": 20,
   "id": "797eae03",
   "metadata": {},
   "outputs": [
    {
     "data": {
      "text/plain": [
       "[23, 23, 5, 4, 3, 1]"
      ]
     },
     "execution_count": 20,
     "metadata": {},
     "output_type": "execute_result"
    }
   ],
   "source": [
    "list"
   ]
  },
  {
   "cell_type": "code",
   "execution_count": 21,
   "id": "f4c1eeba",
   "metadata": {},
   "outputs": [],
   "source": [
    "list1=[1,2,3,4,5,6]"
   ]
  },
  {
   "cell_type": "code",
   "execution_count": 22,
   "id": "1d2d694e",
   "metadata": {},
   "outputs": [],
   "source": [
    "list1.append(7)"
   ]
  },
  {
   "cell_type": "code",
   "execution_count": 23,
   "id": "bbb75dd6",
   "metadata": {},
   "outputs": [
    {
     "data": {
      "text/plain": [
       "[1, 2, 3, 4, 5, 6, 7]"
      ]
     },
     "execution_count": 23,
     "metadata": {},
     "output_type": "execute_result"
    }
   ],
   "source": [
    "list1"
   ]
  },
  {
   "cell_type": "code",
   "execution_count": 24,
   "id": "eb46c979",
   "metadata": {},
   "outputs": [],
   "source": [
    "list1.extend([23, 45, 32])"
   ]
  },
  {
   "cell_type": "code",
   "execution_count": 25,
   "id": "8c85f247",
   "metadata": {},
   "outputs": [
    {
     "data": {
      "text/plain": [
       "[1, 2, 3, 4, 5, 6, 7, 23, 45, 32]"
      ]
     },
     "execution_count": 25,
     "metadata": {},
     "output_type": "execute_result"
    }
   ],
   "source": [
    "list1"
   ]
  },
  {
   "cell_type": "code",
   "execution_count": 26,
   "id": "cadd0e09",
   "metadata": {},
   "outputs": [],
   "source": [
    "list1.insert(2, 432)"
   ]
  },
  {
   "cell_type": "code",
   "execution_count": 27,
   "id": "a57c37a7",
   "metadata": {},
   "outputs": [
    {
     "data": {
      "text/plain": [
       "[1, 2, 432, 3, 4, 5, 6, 7, 23, 45, 32]"
      ]
     },
     "execution_count": 27,
     "metadata": {},
     "output_type": "execute_result"
    }
   ],
   "source": [
    "list1"
   ]
  },
  {
   "cell_type": "code",
   "execution_count": 28,
   "id": "3447040b",
   "metadata": {},
   "outputs": [],
   "source": [
    "list1.remove(5)"
   ]
  },
  {
   "cell_type": "code",
   "execution_count": 29,
   "id": "3cd32536",
   "metadata": {},
   "outputs": [],
   "source": [
    "del(list1[3])"
   ]
  },
  {
   "cell_type": "code",
   "execution_count": 30,
   "id": "fc9ac3e4",
   "metadata": {},
   "outputs": [
    {
     "data": {
      "text/plain": [
       "[1, 2, 432, 4, 6, 7, 23, 45, 32]"
      ]
     },
     "execution_count": 30,
     "metadata": {},
     "output_type": "execute_result"
    }
   ],
   "source": [
    "list1"
   ]
  },
  {
   "cell_type": "code",
   "execution_count": 31,
   "id": "99c61945",
   "metadata": {},
   "outputs": [],
   "source": [
    "del(list1[1:2])"
   ]
  },
  {
   "cell_type": "code",
   "execution_count": 35,
   "id": "b901938b",
   "metadata": {},
   "outputs": [],
   "source": [
    "# del(list1[::2])"
   ]
  },
  {
   "cell_type": "code",
   "execution_count": 36,
   "id": "31bbcdb0",
   "metadata": {},
   "outputs": [
    {
     "data": {
      "text/plain": [
       "[432, 4, 6, 7, 23, 45, 32]"
      ]
     },
     "execution_count": 36,
     "metadata": {},
     "output_type": "execute_result"
    }
   ],
   "source": [
    "list1"
   ]
  },
  {
   "cell_type": "markdown",
   "id": "2e87ba0b",
   "metadata": {},
   "source": [
    "# create a program to manage the student marks  and attendance for a college."
   ]
  },
  {
   "cell_type": "code",
   "execution_count": 38,
   "id": "bb78bcbd",
   "metadata": {},
   "outputs": [],
   "source": [
    "Details=[[1, \"rohit\", [\"sub1\", \"sub2\", \"sub3\", \"sub4\"], [23, 45, 67, 23], 12]]"
   ]
  },
  {
   "cell_type": "code",
   "execution_count": 39,
   "id": "515e016b",
   "metadata": {},
   "outputs": [
    {
     "data": {
      "text/plain": [
       "[[1, 'rohit', ['sub1', 'sub2', 'sub3', 'sub4'], [23, 45, 67, 23], 12]]"
      ]
     },
     "execution_count": 39,
     "metadata": {},
     "output_type": "execute_result"
    }
   ],
   "source": [
    "Details"
   ]
  },
  {
   "cell_type": "code",
   "execution_count": 40,
   "id": "f842def8",
   "metadata": {},
   "outputs": [
    {
     "name": "stdout",
     "output_type": "stream",
     "text": [
      "enter the number of std: 2\n"
     ]
    }
   ],
   "source": [
    "v=[]\n",
    "n=int(input(\"enter the number of std: \"))"
   ]
  },
  {
   "cell_type": "code",
   "execution_count": 42,
   "id": "f6940b27",
   "metadata": {},
   "outputs": [
    {
     "name": "stdout",
     "output_type": "stream",
     "text": [
      "enter the name: a\n",
      "enter marks: 34\n",
      "enter attendance:12\n",
      "enter the name: d\n",
      "enter marks: 34\n",
      "enter attendance:13\n"
     ]
    },
    {
     "data": {
      "text/plain": [
       "[['a', 34.0, 12], ['d', 34.0, 13]]"
      ]
     },
     "execution_count": 42,
     "metadata": {},
     "output_type": "execute_result"
    }
   ],
   "source": [
    "\n",
    "for i in range(n):\n",
    "    v.append([input(\"enter the name: \"), float(input(\"enter marks: \")), int(input(\"enter attendance:\"))])\n",
    "v"
   ]
  },
  {
   "cell_type": "code",
   "execution_count": 3,
   "id": "5ea88000",
   "metadata": {},
   "outputs": [],
   "source": [
    "var='shyam'\n"
   ]
  },
  {
   "cell_type": "code",
   "execution_count": 4,
   "id": "46d7548a",
   "metadata": {},
   "outputs": [
    {
     "data": {
      "text/plain": [
       "'shyam'"
      ]
     },
     "execution_count": 4,
     "metadata": {},
     "output_type": "execute_result"
    }
   ],
   "source": [
    "var"
   ]
  },
  {
   "cell_type": "code",
   "execution_count": 5,
   "id": "97b77d7d",
   "metadata": {},
   "outputs": [
    {
     "data": {
      "text/plain": [
       "'SHYAM'"
      ]
     },
     "execution_count": 5,
     "metadata": {},
     "output_type": "execute_result"
    }
   ],
   "source": [
    "var.upper()"
   ]
  },
  {
   "cell_type": "code",
   "execution_count": 6,
   "id": "5f0ecb3d",
   "metadata": {},
   "outputs": [],
   "source": [
    "x=\"singh\""
   ]
  },
  {
   "cell_type": "code",
   "execution_count": 8,
   "id": "a30273ce",
   "metadata": {},
   "outputs": [
    {
     "data": {
      "text/plain": [
       "'shyamsingh'"
      ]
     },
     "execution_count": 8,
     "metadata": {},
     "output_type": "execute_result"
    }
   ],
   "source": [
    "var+x   #concatenation"
   ]
  },
  {
   "cell_type": "markdown",
   "id": "2eb801a6",
   "metadata": {},
   "source": [
    "# Sets\n"
   ]
  },
  {
   "cell_type": "code",
   "execution_count": 9,
   "id": "f2c00062",
   "metadata": {},
   "outputs": [],
   "source": [
    "x={1,2,3,4,5,6,7}"
   ]
  },
  {
   "cell_type": "code",
   "execution_count": 10,
   "id": "bf929295",
   "metadata": {},
   "outputs": [
    {
     "data": {
      "text/plain": [
       "{1, 2, 3, 4, 5, 6, 7}"
      ]
     },
     "execution_count": 10,
     "metadata": {},
     "output_type": "execute_result"
    }
   ],
   "source": [
    "x"
   ]
  },
  {
   "cell_type": "code",
   "execution_count": 12,
   "id": "28c5b8b8",
   "metadata": {},
   "outputs": [],
   "source": [
    "x.add(9)"
   ]
  },
  {
   "cell_type": "code",
   "execution_count": 13,
   "id": "9aba9bb6",
   "metadata": {},
   "outputs": [
    {
     "data": {
      "text/plain": [
       "{1, 2, 3, 4, 5, 6, 7, 9}"
      ]
     },
     "execution_count": 13,
     "metadata": {},
     "output_type": "execute_result"
    }
   ],
   "source": [
    "x"
   ]
  },
  {
   "cell_type": "code",
   "execution_count": 15,
   "id": "9497a76a",
   "metadata": {},
   "outputs": [
    {
     "data": {
      "text/plain": [
       "{1, 2, 3, 4, 5, 6, 7, 9}"
      ]
     },
     "execution_count": 15,
     "metadata": {},
     "output_type": "execute_result"
    }
   ],
   "source": [
    "x"
   ]
  },
  {
   "cell_type": "code",
   "execution_count": 17,
   "id": "a0ba903e",
   "metadata": {},
   "outputs": [],
   "source": [
    "x.update({23,45})"
   ]
  },
  {
   "cell_type": "code",
   "execution_count": 18,
   "id": "ee3e6ebc",
   "metadata": {},
   "outputs": [
    {
     "data": {
      "text/plain": [
       "{1, 2, 3, 4, 5, 6, 7, 9, 23, 45}"
      ]
     },
     "execution_count": 18,
     "metadata": {},
     "output_type": "execute_result"
    }
   ],
   "source": [
    "x"
   ]
  },
  {
   "cell_type": "code",
   "execution_count": 19,
   "id": "c91b20ff",
   "metadata": {},
   "outputs": [],
   "source": [
    "h={33, 44}"
   ]
  },
  {
   "cell_type": "code",
   "execution_count": 22,
   "id": "a5468683",
   "metadata": {},
   "outputs": [],
   "source": [
    "x.update(h)"
   ]
  },
  {
   "cell_type": "code",
   "execution_count": 23,
   "id": "3b24b3da",
   "metadata": {},
   "outputs": [
    {
     "data": {
      "text/plain": [
       "{1, 2, 3, 4, 5, 6, 7, 9, 23, 33, 44, 45}"
      ]
     },
     "execution_count": 23,
     "metadata": {},
     "output_type": "execute_result"
    }
   ],
   "source": [
    "x"
   ]
  },
  {
   "cell_type": "code",
   "execution_count": 24,
   "id": "213bf21e",
   "metadata": {},
   "outputs": [],
   "source": [
    "x.remove(23)"
   ]
  },
  {
   "cell_type": "code",
   "execution_count": 25,
   "id": "edccd34f",
   "metadata": {},
   "outputs": [
    {
     "data": {
      "text/plain": [
       "{1, 2, 3, 4, 5, 6, 7, 9, 33, 44, 45}"
      ]
     },
     "execution_count": 25,
     "metadata": {},
     "output_type": "execute_result"
    }
   ],
   "source": [
    "x"
   ]
  },
  {
   "cell_type": "code",
   "execution_count": 29,
   "id": "ba244466",
   "metadata": {},
   "outputs": [
    {
     "data": {
      "text/plain": [
       "1"
      ]
     },
     "execution_count": 29,
     "metadata": {},
     "output_type": "execute_result"
    }
   ],
   "source": [
    "x.pop()  #remove only first element"
   ]
  },
  {
   "cell_type": "code",
   "execution_count": 34,
   "id": "3e255366",
   "metadata": {},
   "outputs": [],
   "source": [
    "c={45, 33}"
   ]
  },
  {
   "cell_type": "code",
   "execution_count": 36,
   "id": "51735a61",
   "metadata": {},
   "outputs": [],
   "source": [
    "del c\n"
   ]
  },
  {
   "cell_type": "code",
   "execution_count": 38,
   "id": "e3503e28",
   "metadata": {},
   "outputs": [],
   "source": [
    "# v={} #empty dict\n",
    "v=set()   #empty set  "
   ]
  },
  {
   "cell_type": "code",
   "execution_count": 39,
   "id": "bdfdb271",
   "metadata": {},
   "outputs": [
    {
     "name": "stdout",
     "output_type": "stream",
     "text": [
      "<class 'set'>\n"
     ]
    }
   ],
   "source": [
    "print(type(v))"
   ]
  },
  {
   "cell_type": "raw",
   "id": "e905b603",
   "metadata": {},
   "source": [
    "Dictionary"
   ]
  },
  {
   "cell_type": "code",
   "execution_count": 40,
   "id": "46a0ac92",
   "metadata": {},
   "outputs": [],
   "source": [
    "a={'one':1, 'two':2, 'three':3, 'four':4}"
   ]
  },
  {
   "cell_type": "code",
   "execution_count": 41,
   "id": "f0c9158f",
   "metadata": {},
   "outputs": [
    {
     "data": {
      "text/plain": [
       "1"
      ]
     },
     "execution_count": 41,
     "metadata": {},
     "output_type": "execute_result"
    }
   ],
   "source": [
    "a['one']"
   ]
  },
  {
   "cell_type": "code",
   "execution_count": 53,
   "id": "62ccd217",
   "metadata": {},
   "outputs": [],
   "source": [
    "a['one']=4  #update value"
   ]
  },
  {
   "cell_type": "code",
   "execution_count": 54,
   "id": "1326acb7",
   "metadata": {},
   "outputs": [
    {
     "data": {
      "text/plain": [
       "4"
      ]
     },
     "execution_count": 54,
     "metadata": {},
     "output_type": "execute_result"
    }
   ],
   "source": [
    "a['one']"
   ]
  },
  {
   "cell_type": "code",
   "execution_count": 55,
   "id": "9bcfbfe6",
   "metadata": {},
   "outputs": [],
   "source": [
    "a['new']=45 #adding new key and values"
   ]
  },
  {
   "cell_type": "code",
   "execution_count": 56,
   "id": "3f1a3cd0",
   "metadata": {},
   "outputs": [
    {
     "data": {
      "text/plain": [
       "{'one': 4, 'two': 2, 'three': 3, 'four': 4, 'new': 45}"
      ]
     },
     "execution_count": 56,
     "metadata": {},
     "output_type": "execute_result"
    }
   ],
   "source": [
    "a"
   ]
  },
  {
   "cell_type": "code",
   "execution_count": null,
   "id": "6bd0e6e6",
   "metadata": {},
   "outputs": [],
   "source": []
  }
 ],
 "metadata": {
  "kernelspec": {
   "display_name": "Python 3 (ipykernel)",
   "language": "python",
   "name": "python3"
  },
  "language_info": {
   "codemirror_mode": {
    "name": "ipython",
    "version": 3
   },
   "file_extension": ".py",
   "mimetype": "text/x-python",
   "name": "python",
   "nbconvert_exporter": "python",
   "pygments_lexer": "ipython3",
   "version": "3.10.9"
  }
 },
 "nbformat": 4,
 "nbformat_minor": 5
}
