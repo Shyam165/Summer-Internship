{
 "cells": [
  {
   "cell_type": "markdown",
   "id": "7bdd6fa1",
   "metadata": {},
   "source": [
    "1. Represent the data in the given sheet into an appropriate NumPy array so\n",
    "that you can perform the following actions on it.\n"
   ]
  },
  {
   "cell_type": "code",
   "execution_count": 1,
   "id": "1942c776",
   "metadata": {},
   "outputs": [],
   "source": [
    "import numpy as np"
   ]
  },
  {
   "cell_type": "code",
   "execution_count": 2,
   "id": "d1502207",
   "metadata": {},
   "outputs": [
    {
     "name": "stdout",
     "output_type": "stream",
     "text": [
      "[[[[  9  20]\n",
      "   [ 13  31]\n",
      "   [  8  21]\n",
      "   [ 13  25]\n",
      "   [  9  29]\n",
      "   [ 15  20]\n",
      "   [ 10  25]]\n",
      "\n",
      "  [[ 13  23]\n",
      "   [  9  23]\n",
      "   [ 13  21]\n",
      "   [-13  32]\n",
      "   [ 15  25]\n",
      "   [ 13  31]\n",
      "   [ 15  29]]\n",
      "\n",
      "  [[  9  24]\n",
      "   [  6  26]\n",
      "   [  7  30]\n",
      "   [ 10  30]\n",
      "   [  7  30]\n",
      "   [ 12  22]\n",
      "   [ 11  32]]\n",
      "\n",
      "  [[ 13  30]\n",
      "   [ 12  26]\n",
      "   [ 15  26]\n",
      "   [ 15  29]\n",
      "   [  8  25]\n",
      "   [ 11  27]\n",
      "   [ 15  24]]]\n",
      "\n",
      "\n",
      " [[[  6  20]\n",
      "   [ 13  32]\n",
      "   [ 13  28]\n",
      "   [ 15  25]\n",
      "   [ 10  31]\n",
      "   [ 12  23]\n",
      "   [ 13  30]]\n",
      "\n",
      "  [[  9  32]\n",
      "   [  6  32]\n",
      "   [  8  30]\n",
      "   [  7  32]\n",
      "   [  7  32]\n",
      "   [ 14  29]\n",
      "   [  9  21]]\n",
      "\n",
      "  [[ 14  23]\n",
      "   [ 11  23]\n",
      "   [ 14  29]\n",
      "   [ 15  23]\n",
      "   [ 15  30]\n",
      "   [ 10  31]\n",
      "   [ 13  30]]\n",
      "\n",
      "  [[ 13  24]\n",
      "   [ 10  29]\n",
      "   [ 12  24]\n",
      "   [  6  31]\n",
      "   [ 13  31]\n",
      "   [ 13  29]\n",
      "   [  7  25]]]\n",
      "\n",
      "\n",
      " [[[  8  18]\n",
      "   [  4  19]\n",
      "   [  6  18]\n",
      "   [  2  22]\n",
      "   [  2  18]\n",
      "   [  2   5]\n",
      "   [ 21   5]]\n",
      "\n",
      "  [[  7  20]\n",
      "   [  3  21]\n",
      "   [  3  20]\n",
      "   [  5  20]\n",
      "   [  3  18]\n",
      "   [  2   6]\n",
      "   [ 20   6]]\n",
      "\n",
      "  [[  4  19]\n",
      "   [  5  21]\n",
      "   [  5  18]\n",
      "   [  5  21]\n",
      "   [  3  19]\n",
      "   [  7   6]\n",
      "   [ 22   4]]\n",
      "\n",
      "  [[  8  22]\n",
      "   [  2  20]\n",
      "   [  2  22]\n",
      "   [  4  20]\n",
      "   [  7  22]\n",
      "   [  7   2]\n",
      "   [ 22   5]]]\n",
      "\n",
      "\n",
      " [[[  7  22]\n",
      "   [ 10  19]\n",
      "   [-10  18]\n",
      "   [ 11  20]\n",
      "   [  8  20]\n",
      "   [  9  71]\n",
      "   [ 22  10]]\n",
      "\n",
      "  [[  8  22]\n",
      "   [  9  21]\n",
      "   [ 10  22]\n",
      "   [  8  19]\n",
      "   [  9  18]\n",
      "   [ 11  11]\n",
      "   [ 18  11]]\n",
      "\n",
      "  [[  8  21]\n",
      "   [ 11  20]\n",
      "   [  8  22]\n",
      "   [ 10  18]\n",
      "   [  7  18]\n",
      "   [  7   7]\n",
      "   [ 19   7]]\n",
      "\n",
      "  [[  7  19]\n",
      "   [  9  22]\n",
      "   [  8  22]\n",
      "   [ 11  18]\n",
      "   [ 12  22]\n",
      "   [  8  11]\n",
      "   [ 21   8]]]]\n"
     ]
    }
   ],
   "source": [
    "import numpy as np\n",
    "\n",
    "a = np.array([[\n",
    "        \n",
    "            [[9, 20], [13, 31], [8, 21], [13, 25], [9, 29], [15, 20], [10, 25]],\n",
    "            [[13, 23], [9, 23], [13, 21], [-13, 32], [15, 25], [13, 31], [15, 29]],\n",
    "            [[9, 24], [6, 26], [7, 30], [10, 30], [7, 30], [12, 22], [11, 32]],\n",
    "            [[13, 30], [12, 26], [15, 26], [15, 29], [8, 25], [11, 27], [15, 24]]\n",
    "        \n",
    "    ],\n",
    "    \n",
    "    [\n",
    "        \n",
    "            [[6, 20], [13, 32], [13, 28], [15, 25], [10, 31], [12, 23], [13, 30]],\n",
    "            [[9, 32], [6, 32], [8, 30], [7, 32], [7, 32], [14, 29], [9, 21]],\n",
    "            [[14, 23], [11, 23], [14, 29], [15, 23], [15, 30], [10, 31], [13, 30]],\n",
    "            [[13, 24], [10, 29], [12, 24], [6, 31], [13, 31], [13, 29], [7, 25]]\n",
    "        \n",
    "    ],\n",
    "    [\n",
    "        \n",
    "            [[8, 18], [4, 19], [6, 18], [2, 22], [2, 18], [2, 5], [21, 5]],\n",
    "            [[7, 20], [3, 21], [3, 20], [5, 20], [3, 18], [2, 6], [20, 6]],\n",
    "            [[4, 19], [5, 21], [5, 18], [5, 21], [3, 19], [7, 6], [22, 4]],\n",
    "            [[8, 22], [2, 20], [2, 22], [4, 20], [7, 22], [7, 2], [22, 5]]\n",
    "        \n",
    "    ],\n",
    "    [\n",
    "        \n",
    "            [[7, 22], [10, 19], [-10, 18], [11, 20], [8, 20], [9, 71], [22, 10]],\n",
    "            [[8, 22], [9, 21], [10, 22], [8, 19], [9, 18], [11, 11], [18, 11]],\n",
    "            [[8, 21], [11, 20], [8, 22], [10, 18], [7, 18], [7, 7], [19, 7]],\n",
    "            [[7, 19], [9, 22], [8, 22], [11, 18], [12, 22], [8, 11], [21, 8]]\n",
    "        \n",
    "    ]])\n",
    "print(a)"
   ]
  },
  {
   "cell_type": "markdown",
   "id": "998c3866",
   "metadata": {},
   "source": [
    "2. Write the dimensions and shape of the NumPy array that you have\n",
    "created.\n"
   ]
  },
  {
   "cell_type": "code",
   "execution_count": 3,
   "id": "38d6c3ff",
   "metadata": {},
   "outputs": [
    {
     "name": "stdout",
     "output_type": "stream",
     "text": [
      "4\n",
      "(4, 4, 7, 2)\n"
     ]
    }
   ],
   "source": [
    "print(a.ndim)\n",
    "print(a.shape)"
   ]
  },
  {
   "cell_type": "markdown",
   "id": "e0b3b5b3",
   "metadata": {},
   "source": [
    "3. Print the daily temperatures for the first week of each month.\n"
   ]
  },
  {
   "cell_type": "code",
   "execution_count": 4,
   "id": "5f3c64d8",
   "metadata": {},
   "outputs": [
    {
     "name": "stdout",
     "output_type": "stream",
     "text": [
      "[[[  9  20]\n",
      "  [ 13  31]\n",
      "  [  8  21]\n",
      "  [ 13  25]\n",
      "  [  9  29]\n",
      "  [ 15  20]\n",
      "  [ 10  25]]\n",
      "\n",
      " [[  6  20]\n",
      "  [ 13  32]\n",
      "  [ 13  28]\n",
      "  [ 15  25]\n",
      "  [ 10  31]\n",
      "  [ 12  23]\n",
      "  [ 13  30]]\n",
      "\n",
      " [[  8  18]\n",
      "  [  4  19]\n",
      "  [  6  18]\n",
      "  [  2  22]\n",
      "  [  2  18]\n",
      "  [  2   5]\n",
      "  [ 21   5]]\n",
      "\n",
      " [[  7  22]\n",
      "  [ 10  19]\n",
      "  [-10  18]\n",
      "  [ 11  20]\n",
      "  [  8  20]\n",
      "  [  9  71]\n",
      "  [ 22  10]]]\n"
     ]
    }
   ],
   "source": [
    "print(a[0:, 0, 0:, 0:])"
   ]
  },
  {
   "cell_type": "markdown",
   "id": "dea64b46",
   "metadata": {},
   "source": [
    "4. Print the temperatures for Tuesday of each month.\n"
   ]
  },
  {
   "cell_type": "code",
   "execution_count": 5,
   "id": "4ba00d54",
   "metadata": {},
   "outputs": [
    {
     "name": "stdout",
     "output_type": "stream",
     "text": [
      "[[[13 31]\n",
      "  [ 9 23]\n",
      "  [ 6 26]\n",
      "  [12 26]]\n",
      "\n",
      " [[13 32]\n",
      "  [ 6 32]\n",
      "  [11 23]\n",
      "  [10 29]]\n",
      "\n",
      " [[ 4 19]\n",
      "  [ 3 21]\n",
      "  [ 5 21]\n",
      "  [ 2 20]]\n",
      "\n",
      " [[10 19]\n",
      "  [ 9 21]\n",
      "  [11 20]\n",
      "  [ 9 22]]]\n"
     ]
    }
   ],
   "source": [
    "print(a[0:, 0:, 1, 0:])"
   ]
  },
  {
   "cell_type": "markdown",
   "id": "48ac8046",
   "metadata": {},
   "source": [
    "5. Print only the maximum temperature for all the weekdays of Dec and Feb.\n"
   ]
  },
  {
   "cell_type": "code",
   "execution_count": 6,
   "id": "21bda519",
   "metadata": {},
   "outputs": [
    {
     "name": "stdout",
     "output_type": "stream",
     "text": [
      "[[[20 32 28 25 31 23 30]\n",
      "  [32 32 30 32 32 29 21]\n",
      "  [23 23 29 23 30 31 30]\n",
      "  [24 29 24 31 31 29 25]]\n",
      "\n",
      " [[22 19 18 20 20 71 10]\n",
      "  [22 21 22 19 18 11 11]\n",
      "  [21 20 22 18 18  7  7]\n",
      "  [19 22 22 18 22 11  8]]]\n"
     ]
    }
   ],
   "source": [
    "print(a[1:4:2, 0:, 0:, 1])"
   ]
  },
  {
   "cell_type": "markdown",
   "id": "7dc5ae9a",
   "metadata": {},
   "source": [
    "6. Print all the days along with the week number in November when the\n",
    "minimum temperature was less than 8 degrees.\n"
   ]
  },
  {
   "cell_type": "code",
   "execution_count": 7,
   "id": "6d2f3837",
   "metadata": {},
   "outputs": [
    {
     "name": "stdout",
     "output_type": "stream",
     "text": [
      "[-13   6   7   7]\n"
     ]
    }
   ],
   "source": [
    "c=a[0, 0:, 0:, 0]\n",
    "\n",
    "b=(a[0, 0:, 0:, 0]) < 8  #filtering mini temp less than 8 degrees.\n",
    "\n",
    "print(c[b])"
   ]
  },
  {
   "cell_type": "code",
   "execution_count": 8,
   "id": "7667628c",
   "metadata": {},
   "outputs": [
    {
     "name": "stdout",
     "output_type": "stream",
     "text": [
      "[[  9  13   8  13   9  15  10]\n",
      " [ 13   9  13 -13  15  13  15]\n",
      " [  9   6   7  10   7  12  11]\n",
      " [ 13  12  15  15   8  11  15]]\n"
     ]
    }
   ],
   "source": [
    "# week2,Thur, -13\n",
    "print(c) # returns 2D array\n"
   ]
  },
  {
   "cell_type": "code",
   "execution_count": 9,
   "id": "72c5a7ad",
   "metadata": {},
   "outputs": [
    {
     "name": "stdout",
     "output_type": "stream",
     "text": [
      "(array([1, 2, 2, 2], dtype=int64), array([3, 1, 2, 4], dtype=int64))\n"
     ]
    }
   ],
   "source": [
    "d= np.where(c<8)  # return indexes of values according to given condition in where func \n",
    "print(d)"
   ]
  },
  {
   "cell_type": "code",
   "execution_count": 10,
   "id": "1fcfcee6",
   "metadata": {},
   "outputs": [
    {
     "name": "stdout",
     "output_type": "stream",
     "text": [
      "list[<map object at 0x00000201980CBF10>]\n"
     ]
    }
   ],
   "source": [
    "weeks = [\"week1\", \"week2\", \"week3\", \"week4\"]\n",
    "days = [\"Mon\", \"Tues\", \"Wed\", \"Thurs\", \"Fri\", \"Sat\", \"Sun\"]\n",
    "\n",
    "e=map(d, weeks, days)\n",
    "print(list[e])"
   ]
  },
  {
   "cell_type": "markdown",
   "id": "883af35b",
   "metadata": {},
   "source": [
    "7. Print all the weeks in Dec and Jan where the maximum temperature has\n",
    "crossed a threshold of 20 degrees.\n"
   ]
  },
  {
   "cell_type": "code",
   "execution_count": 14,
   "id": "4495a16f",
   "metadata": {},
   "outputs": [
    {
     "name": "stdout",
     "output_type": "stream",
     "text": [
      "[32 28 25 31 23 30 32 32 30 32 32 29 21 23 23 29 23 30 31 30 24 29 24 31\n",
      " 31 29 25 22 21 21 21 22 22 22]\n"
     ]
    }
   ],
   "source": [
    "l=[1,2]  #filtering Dec and Jan months\n",
    "c=a[l, 0:, 0:, 1]\n",
    "s=(a[l, 0:, 0:, 1]) > 20\n",
    "print(c[s])   #returns all those values of max temp who has crossed a threshold of 20 deg."
   ]
  },
  {
   "cell_type": "code",
   "execution_count": 15,
   "id": "6ee0b348",
   "metadata": {},
   "outputs": [
    {
     "name": "stdout",
     "output_type": "stream",
     "text": [
      "[[[20 32 28 25 31 23 30]\n",
      "  [32 32 30 32 32 29 21]\n",
      "  [23 23 29 23 30 31 30]\n",
      "  [24 29 24 31 31 29 25]]\n",
      "\n",
      " [[18 19 18 22 18  5  5]\n",
      "  [20 21 20 20 18  6  6]\n",
      "  [19 21 18 21 19  6  4]\n",
      "  [22 20 22 20 22  2  5]]]\n"
     ]
    }
   ],
   "source": [
    "print(c)  #returns 3D"
   ]
  },
  {
   "cell_type": "code",
   "execution_count": 18,
   "id": "4031e82b",
   "metadata": {},
   "outputs": [
    {
     "name": "stdout",
     "output_type": "stream",
     "text": [
      "(array([0, 0, 0, 0, 0, 0, 0, 0, 0, 0, 0, 0, 0, 0, 0, 0, 0, 0, 0, 0, 0, 0,\n",
      "       0, 0, 0, 0, 0, 1, 1, 1, 1, 1, 1, 1], dtype=int64), array([0, 0, 0, 0, 0, 0, 1, 1, 1, 1, 1, 1, 1, 2, 2, 2, 2, 2, 2, 2, 3, 3,\n",
      "       3, 3, 3, 3, 3, 0, 1, 2, 2, 3, 3, 3], dtype=int64), array([1, 2, 3, 4, 5, 6, 0, 1, 2, 3, 4, 5, 6, 0, 1, 2, 3, 4, 5, 6, 0, 1,\n",
      "       2, 3, 4, 5, 6, 3, 1, 1, 3, 0, 2, 4], dtype=int64))\n"
     ]
    }
   ],
   "source": [
    "d=np.where(c>20)  #return indexes\n",
    "print(d)"
   ]
  },
  {
   "cell_type": "code",
   "execution_count": 26,
   "id": "3fcbcdaa",
   "metadata": {},
   "outputs": [
    {
     "name": "stdout",
     "output_type": "stream",
     "text": [
      "the indices where max temperature has crossed the threshold in December: \n",
      " (array([0, 0, 0, 0, 0, 1, 1, 1, 1, 1, 1, 1, 2, 2, 2, 2, 2, 2, 2, 3, 3, 3,\n",
      "       3, 3, 3, 3], dtype=int64), array([1, 2, 3, 4, 6, 0, 1, 2, 3, 4, 5, 6, 0, 1, 2, 3, 4, 5, 6, 0, 1, 2,\n",
      "       3, 4, 5, 6], dtype=int64))\n",
      "the indices where max temperature has crossed the threshold in January: \n",
      " (array([0, 0, 0, 0, 0, 0, 1, 1, 1, 1, 1, 1, 1, 2, 2, 2, 2, 2, 2, 2, 3, 3,\n",
      "       3, 3, 3, 3, 3], dtype=int64), array([1, 2, 3, 4, 5, 6, 0, 1, 2, 3, 4, 5, 6, 0, 1, 2, 3, 4, 5, 6, 0, 1,\n",
      "       2, 3, 4, 5, 6], dtype=int64))\n",
      "Combine the indices from December and January\n",
      " (array([0, 0, 0, 0, 0, 1, 1, 1, 1, 1, 1, 1, 2, 2, 2, 2, 2, 2, 2, 3, 3, 3,\n",
      "       3, 3, 3, 3], dtype=int64), array([1, 2, 3, 4, 6, 0, 1, 2, 3, 4, 5, 6, 0, 1, 2, 3, 4, 5, 6, 0, 1, 2,\n",
      "       3, 4, 5, 6], dtype=int64), array([0, 0, 0, 0, 0, 0, 1, 1, 1, 1, 1, 1, 1, 2, 2, 2, 2, 2, 2, 2, 3, 3,\n",
      "       3, 3, 3, 3, 3], dtype=int64), array([1, 2, 3, 4, 5, 6, 0, 1, 2, 3, 4, 5, 6, 0, 1, 2, 3, 4, 5, 6, 0, 1,\n",
      "       2, 3, 4, 5, 6], dtype=int64))\n",
      "Week 1 has crossed the threshold in December and/or January.\n",
      "Week 2 has crossed the threshold in December and/or January.\n",
      "Week 3 has crossed the threshold in December and/or January.\n",
      "Week 4 has crossed the threshold in December and/or January.\n"
     ]
    }
   ],
   "source": [
    "# Get maximum temperatures for December and January\n",
    "dec_max_temps = a[0, :, :, 1]\n",
    "jan_max_temps = a[1, :, :, 1]\n",
    "\n",
    "# Find the indices where max temperature has crossed the threshold in December\n",
    "dec_indices = np.where(dec_max_temps > threshold)\n",
    "print(\"the indices where max temperature has crossed the threshold in December: \\n\", dec_indices)\n",
    "\n",
    "# Find the indices where max temperature has crossed the threshold in January\n",
    "jan_indices = np.where(jan_max_temps > threshold)\n",
    "print(\"the indices where max temperature has crossed the threshold in January: \\n\", jan_indices)\n",
    "\n",
    "# Combine the indices from December and January\n",
    "combined_indices = (dec_indices[0], dec_indices[1]) + (jan_indices[0], jan_indices[1])\n",
    "print(\"Combine the indices from December and January\\n\", combined_indices)\n",
    "\n",
    "# Get unique week numbers that have crossed the threshold\n",
    "unique_week_numbers = np.unique(combined_indices[0])\n",
    "\n",
    "# Print the week numbers that have crossed the threshold in December and/or January\n",
    "for week_number in unique_week_numbers:\n",
    "    print(f\"Week {week_number + 1} has crossed the threshold in December and/or January.\")"
   ]
  },
  {
   "cell_type": "code",
   "execution_count": null,
   "id": "f645c563",
   "metadata": {},
   "outputs": [],
   "source": []
  }
 ],
 "metadata": {
  "kernelspec": {
   "display_name": "Python 3 (ipykernel)",
   "language": "python",
   "name": "python3"
  },
  "language_info": {
   "codemirror_mode": {
    "name": "ipython",
    "version": 3
   },
   "file_extension": ".py",
   "mimetype": "text/x-python",
   "name": "python",
   "nbconvert_exporter": "python",
   "pygments_lexer": "ipython3",
   "version": "3.10.9"
  }
 },
 "nbformat": 4,
 "nbformat_minor": 5
}
